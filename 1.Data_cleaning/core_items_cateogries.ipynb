{
  "nbformat": 4,
  "nbformat_minor": 0,
  "metadata": {
    "colab": {
      "name": "core_items_cateogries.ipynb",
      "provenance": [],
      "collapsed_sections": [],
      "include_colab_link": true
    },
    "kernelspec": {
      "name": "python3",
      "display_name": "Python 3"
    },
    "accelerator": "GPU"
  },
  "cells": [
    {
      "cell_type": "markdown",
      "metadata": {
        "id": "view-in-github",
        "colab_type": "text"
      },
      "source": [
        "<a href=\"https://colab.research.google.com/github/Colley-K/Time_series_forecasting/blob/master/core_items_cateogries.ipynb\" target=\"_parent\"><img src=\"https://colab.research.google.com/assets/colab-badge.svg\" alt=\"Open In Colab\"/></a>"
      ]
    },
    {
      "cell_type": "markdown",
      "metadata": {
        "id": "RG1wpwGKsJrx",
        "colab_type": "text"
      },
      "source": [
        "# State of the Union\n",
        "\n",
        "#### Where are we at?\n",
        "\n",
        "* First, we tried to model the data using categories from 2.5 years ago of historic data. It was then that we learned the data was random walk processes and could not be modelled when looking out this far. I did about 2 dozen different combinations of tests looking for signal in the data. Mixing and matching different forecast windows, historic data, and converted data. We finally found some winners! It looks like 1.5 or 1 year of history with daily forecast windows were the most promising indication of signal.\n",
        "\n",
        "> * The reason it is random is because 2018 represents an unlikely trend when they lost business from one of their major customers. During this first attempt, we revealed that going back one year from todays date will yeild the most accurate historic trends. **This will definitely be something to watch in the future when their business experiences different ups and downs from outside influences**\n",
        "\n",
        "* Next, with the one year + daily forecasts in mind, we went back and cleaned up the categories to reflect the pre-selected categories the customer created. The plan was to create a hierarchical model for each category that would then be dispersed to the individual PLU level. What happened? The individual PLU level represented random walk processes again, and the hierarchical models were not beating a \"naive forecast\" (aka using yesterdays value to predict todays value). Think of a heart monitor display... That's what most of the items looked like on the individual level. Baselining then random spikes in demand. \n",
        "\n",
        "* Clearly this is an issue with the scale of data we are dealing with. This small grocery distributor did not have the luxury of large datasets, and a lot of the products may only be ordered a handful of times. By definition, the forecast can only be as good as the data, and thus we had to figure out a work around for this. I wasn't ready to give up so easily! \n",
        "\n",
        "* Now here we are, this notebook represents an attempt to model the top 100 products (by revenue) that were ordered last year.\n",
        "\n",
        "# Purpose of this Notebook\n",
        "\n",
        "#### *The goal of this notebook is to establish a proof of concept. Is it possible to create a model for the 100 most ordered items? If we cannot beat the Naive forecast, then the data will not allow for an accurate forecast and I will reach the end of the road (well ok I will still try a regression model taking out the time series component). Regardless, this will be a pivotal test of what is possible given the data.*\n",
        "\n",
        "* This notebook in particular will focus of extracting the 100 most ordered items in the past year\n"
      ]
    },
    {
      "cell_type": "code",
      "metadata": {
        "id": "FiG75-Iqsuux",
        "colab_type": "code",
        "outputId": "c20be2d1-fb07-498e-e2bf-27c061aa9850",
        "colab": {
          "base_uri": "https://localhost:8080/",
          "height": 411
        }
      },
      "source": [
        "#Colab stuffs:\n",
        "\n",
        "#get a fast operator system\n",
        "!nvidia-smi\n",
        "\n",
        "#mount google drive\n",
        "from google.colab import drive\n",
        "drive.mount('/content/drive')#click on the link it provides and copy and paste that code into the authorization area\n",
        "\n",
        "#access the OS system to work with current directories:\n",
        "import os "
      ],
      "execution_count": 0,
      "outputs": [
        {
          "output_type": "stream",
          "text": [
            "Wed Nov  6 14:51:32 2019       \n",
            "+-----------------------------------------------------------------------------+\n",
            "| NVIDIA-SMI 430.50       Driver Version: 418.67       CUDA Version: 10.1     |\n",
            "|-------------------------------+----------------------+----------------------+\n",
            "| GPU  Name        Persistence-M| Bus-Id        Disp.A | Volatile Uncorr. ECC |\n",
            "| Fan  Temp  Perf  Pwr:Usage/Cap|         Memory-Usage | GPU-Util  Compute M. |\n",
            "|===============================+======================+======================|\n",
            "|   0  Tesla P100-PCIE...  Off  | 00000000:00:04.0 Off |                    0 |\n",
            "| N/A   59C    P0    32W / 250W |      0MiB / 16280MiB |      0%      Default |\n",
            "+-------------------------------+----------------------+----------------------+\n",
            "                                                                               \n",
            "+-----------------------------------------------------------------------------+\n",
            "| Processes:                                                       GPU Memory |\n",
            "|  GPU       PID   Type   Process name                             Usage      |\n",
            "|=============================================================================|\n",
            "|  No running processes found                                                 |\n",
            "+-----------------------------------------------------------------------------+\n",
            "Go to this URL in a browser: https://accounts.google.com/o/oauth2/auth?client_id=947318989803-6bn6qk8qdgf4n4g3pfee6491hc0brc4i.apps.googleusercontent.com&redirect_uri=urn%3Aietf%3Awg%3Aoauth%3A2.0%3Aoob&scope=email%20https%3A%2F%2Fwww.googleapis.com%2Fauth%2Fdocs.test%20https%3A%2F%2Fwww.googleapis.com%2Fauth%2Fdrive%20https%3A%2F%2Fwww.googleapis.com%2Fauth%2Fdrive.photos.readonly%20https%3A%2F%2Fwww.googleapis.com%2Fauth%2Fpeopleapi.readonly&response_type=code\n",
            "\n",
            "Enter your authorization code:\n",
            "··········\n",
            "Mounted at /content/drive\n"
          ],
          "name": "stdout"
        }
      ]
    },
    {
      "cell_type": "code",
      "metadata": {
        "id": "HqN03TI9s6DP",
        "colab_type": "code",
        "colab": {}
      },
      "source": [
        "#imports\n",
        "import numpy as np \n",
        "import pandas as pd \n",
        "import matplotlib.pyplot as plt\n",
        "import seaborn as sns\n",
        "import matplotlib\n",
        "from sklearn.model_selection import train_test_split \n",
        "from sklearn.linear_model import LinearRegression\n",
        "from sklearn import metrics\n",
        "plt.style.use('fivethirtyeight')\n",
        "sns.set_style(\"whitegrid\")\n",
        "sns.despine()\n",
        "sns.set(rc={'figure.figsize':(15,9)})\n",
        "%matplotlib inline"
      ],
      "execution_count": 0,
      "outputs": []
    },
    {
      "cell_type": "code",
      "metadata": {
        "id": "rxmdCycSs-LA",
        "colab_type": "code",
        "colab": {}
      },
      "source": [
        "df = pd.read_csv('drive/My Drive/Capstone_2/data/one_year.csv', low_memory=False)\n",
        "dfn = pd.read_csv('drive/My Drive/Capstone_2/data/new_info.csv', low_memory=False)\n",
        "dfm = pd.read_csv('drive/My Drive/Capstone_2/data/master.csv', low_memory=False)\n",
        "\n",
        "#artran = pd.read_csv('drive/My Drive/Capstone_2/data/artran.csv', low_memory=False) #original DF\n",
        "#df = pd.read_csv('drive/My Drive/Capstone_2/data/two_year.csv', low_memory=False)\n",
        "#uom = pd.read_excel('drive/My Drive/Capstone_2/data/ItemUOM.xlsx') #unit of measure spreadsheet"
      ],
      "execution_count": 0,
      "outputs": []
    },
    {
      "cell_type": "code",
      "metadata": {
        "id": "IU1kfSvfCwcO",
        "colab_type": "code",
        "outputId": "ad645265-66bd-4a2e-9f62-838b70a8e09a",
        "colab": {
          "base_uri": "https://localhost:8080/",
          "height": 34
        }
      },
      "source": [
        "df.shape"
      ],
      "execution_count": 0,
      "outputs": [
        {
          "output_type": "execute_result",
          "data": {
            "text/plain": [
              "(209225, 31)"
            ]
          },
          "metadata": {
            "tags": []
          },
          "execution_count": 4
        }
      ]
    },
    {
      "cell_type": "code",
      "metadata": {
        "id": "hPivvn2NDOfj",
        "colab_type": "code",
        "outputId": "1d9a2bee-cfc4-48f7-efe8-5c77135da207",
        "colab": {
          "base_uri": "https://localhost:8080/",
          "height": 1000
        }
      },
      "source": [
        "#Counting Null values in df\n",
        "print (df.isna().sum())\n",
        "print (dfn.isna().sum())\n",
        "print(dfm.isna().sum())\n",
        "\n",
        "#getting rid of irrelevant columns\n",
        "#df.drop(columns= ['route', 'salesman'], inplace= True)\n",
        "dfn.drop(columns= ['route', 'salesman'], inplace= True)\n",
        "dfm.drop(columns= ['route', 'salesman'], inplace= True)"
      ],
      "execution_count": 0,
      "outputs": [
        {
          "output_type": "stream",
          "text": [
            "invdate      0\n",
            "invno        0\n",
            "item         0\n",
            "desc         0\n",
            "uom          0\n",
            "units        0\n",
            "price        0\n",
            "totalcost    0\n",
            "ordqty       0\n",
            "shipqty      0\n",
            "amount       0\n",
            "custno       0\n",
            "sono_x       0\n",
            "sono_y       0\n",
            "paid         0\n",
            "duedate      0\n",
            "days         0\n",
            "status       0\n",
            "datesold     0\n",
            "delivery     0\n",
            "priccode     0\n",
            "orgprice     0\n",
            "firstrun     0\n",
            "added        0\n",
            "invline      0\n",
            "dtype: int64\n",
            "invdate        0\n",
            "invno          0\n",
            "item           0\n",
            "desc           0\n",
            "uom            0\n",
            "units          0\n",
            "price          0\n",
            "totalcost      0\n",
            "ordqty         0\n",
            "shipqty        0\n",
            "amount         0\n",
            "custno         0\n",
            "sono_x         0\n",
            "sono_y         0\n",
            "paid           0\n",
            "duedate        0\n",
            "days           0\n",
            "status         0\n",
            "datesold       0\n",
            "delivery       0\n",
            "route        549\n",
            "salesman     293\n",
            "priccode       0\n",
            "orgprice       0\n",
            "firstrun       0\n",
            "added          0\n",
            "invline        0\n",
            "dtype: int64\n",
            "invdate         0\n",
            "invno           0\n",
            "item            0\n",
            "desc            0\n",
            "uom             0\n",
            "units           0\n",
            "price           0\n",
            "totalcost       0\n",
            "ordqty          0\n",
            "shipqty         0\n",
            "amount          0\n",
            "custno          0\n",
            "sono_x          0\n",
            "sono_y          0\n",
            "paid            0\n",
            "duedate         0\n",
            "days            0\n",
            "status          0\n",
            "datesold        0\n",
            "delivery        0\n",
            "route        4543\n",
            "salesman     4294\n",
            "priccode        0\n",
            "orgprice        0\n",
            "firstrun        0\n",
            "added           0\n",
            "invline         0\n",
            "dtype: int64\n"
          ],
          "name": "stdout"
        }
      ]
    },
    {
      "cell_type": "code",
      "metadata": {
        "id": "JJ8ClCOzB-iR",
        "colab_type": "code",
        "outputId": "694e9517-b031-4bad-eb13-0ace7f839955",
        "colab": {
          "base_uri": "https://localhost:8080/",
          "height": 51
        }
      },
      "source": [
        "#Dropping the negative values because they represent returns and we are only measuring demand/ returns is a different problem\n",
        "\n",
        "#counting negative values\n",
        "print (f'Number of Negative Order Quantities Values: {np.sum((df.ordqty < 0).values.ravel())}') \n",
        "print (f'Number of credits given to customer: {np.sum((df.price < 0).values.ravel())}') \n",
        "\n",
        "\n",
        "#dropping the return or negative value rows\n",
        "\n",
        "def negative_nums(df):\n",
        "  df[df.ordqty < 0] = np.nan\n",
        "  df[df.price < 0] = np.nan\n",
        "  df.dropna(inplace=True)\n",
        "\n",
        "negative_nums(df)\n",
        "negative_nums(dfn)\n",
        "negative_nums(dfm)"
      ],
      "execution_count": 0,
      "outputs": [
        {
          "output_type": "stream",
          "text": [
            "Number of Negative Order Quantities Values: 7699\n",
            "Number of credits given to customer: 1074\n"
          ],
          "name": "stdout"
        }
      ]
    },
    {
      "cell_type": "code",
      "metadata": {
        "id": "1JlRvYQD_mmV",
        "colab_type": "code",
        "colab": {}
      },
      "source": [
        "def create_cols (df):\n",
        "  #Creating a normalized Order Qty column\n",
        "  df['norm_qty'] = df['ordqty'] / df['units']\n",
        "\n",
        "  #Creating a revenue column per item per day\n",
        "  df['revenue'] = df['shipqty'] * df['price']\n",
        "\n",
        "  #creating a column for the total orders per item\n",
        "  df['total_qty'] = df.groupby('item')[\"norm_qty\"].transform('sum')\n",
        "\n",
        "  #creating a column for the total revenue per item\n",
        "  df['total_rev'] = df.groupby('item')[\"revenue\"].transform('sum')\n",
        "\n",
        "  #splitting off the first phrase from the item's description, and turning them into lower case\n",
        "  df['label'] = df['desc'].str.split(\",\").str[0].str.lower()\n",
        "  df['label'] = df['label'].str.split(\" \").str[0].str.lower()\n"
      ],
      "execution_count": 0,
      "outputs": []
    },
    {
      "cell_type": "code",
      "metadata": {
        "id": "CA4job8WN3Qh",
        "colab_type": "code",
        "colab": {}
      },
      "source": [
        "create_cols(df)\n",
        "create_cols(dfn)\n",
        "create_cols(dfm)"
      ],
      "execution_count": 0,
      "outputs": []
    },
    {
      "cell_type": "code",
      "metadata": {
        "id": "v-_ObL3UAoLi",
        "colab_type": "code",
        "outputId": "47585627-cf1c-4b7f-beb9-76646d4740bf",
        "colab": {
          "base_uri": "https://localhost:8080/",
          "height": 547
        }
      },
      "source": [
        "dfm.tail()"
      ],
      "execution_count": 0,
      "outputs": [
        {
          "output_type": "execute_result",
          "data": {
            "text/html": [
              "<div>\n",
              "<style scoped>\n",
              "    .dataframe tbody tr th:only-of-type {\n",
              "        vertical-align: middle;\n",
              "    }\n",
              "\n",
              "    .dataframe tbody tr th {\n",
              "        vertical-align: top;\n",
              "    }\n",
              "\n",
              "    .dataframe thead th {\n",
              "        text-align: right;\n",
              "    }\n",
              "</style>\n",
              "<table border=\"1\" class=\"dataframe\">\n",
              "  <thead>\n",
              "    <tr style=\"text-align: right;\">\n",
              "      <th></th>\n",
              "      <th>invdate</th>\n",
              "      <th>invno</th>\n",
              "      <th>item</th>\n",
              "      <th>desc</th>\n",
              "      <th>uom</th>\n",
              "      <th>units</th>\n",
              "      <th>price</th>\n",
              "      <th>totalcost</th>\n",
              "      <th>ordqty</th>\n",
              "      <th>shipqty</th>\n",
              "      <th>amount</th>\n",
              "      <th>custno</th>\n",
              "      <th>sono_x</th>\n",
              "      <th>sono_y</th>\n",
              "      <th>paid</th>\n",
              "      <th>duedate</th>\n",
              "      <th>days</th>\n",
              "      <th>status</th>\n",
              "      <th>datesold</th>\n",
              "      <th>delivery</th>\n",
              "      <th>priccode</th>\n",
              "      <th>orgprice</th>\n",
              "      <th>firstrun</th>\n",
              "      <th>added</th>\n",
              "      <th>invline</th>\n",
              "      <th>norm_qty</th>\n",
              "      <th>revenue</th>\n",
              "      <th>total_qty</th>\n",
              "      <th>total_rev</th>\n",
              "      <th>label</th>\n",
              "    </tr>\n",
              "  </thead>\n",
              "  <tbody>\n",
              "    <tr>\n",
              "      <th>242494</th>\n",
              "      <td>2019-10-24</td>\n",
              "      <td>284834.0</td>\n",
              "      <td>20318B</td>\n",
              "      <td>Root, Ginger, Yellow Industrial 30lb, Cert. Org.</td>\n",
              "      <td>1LB</td>\n",
              "      <td>30.0</td>\n",
              "      <td>4.9</td>\n",
              "      <td>1.20</td>\n",
              "      <td>1.0</td>\n",
              "      <td>1.0</td>\n",
              "      <td>345.0</td>\n",
              "      <td>30-PMOTH</td>\n",
              "      <td>293553.0</td>\n",
              "      <td>293553.0</td>\n",
              "      <td>0.0</td>\n",
              "      <td>2019-10-31</td>\n",
              "      <td>7.0</td>\n",
              "      <td>O</td>\n",
              "      <td>2019-10-24</td>\n",
              "      <td>2019-10-24</td>\n",
              "      <td>PL6</td>\n",
              "      <td>4.9</td>\n",
              "      <td>1.0</td>\n",
              "      <td>2019-10-23 17:26:25</td>\n",
              "      <td>55.0</td>\n",
              "      <td>0.033333</td>\n",
              "      <td>4.9</td>\n",
              "      <td>1481.100000</td>\n",
              "      <td>103190.82</td>\n",
              "      <td>root</td>\n",
              "    </tr>\n",
              "    <tr>\n",
              "      <th>242495</th>\n",
              "      <td>2019-10-24</td>\n",
              "      <td>284834.0</td>\n",
              "      <td>20306B</td>\n",
              "      <td>Garlic, 22lb Certified Organic</td>\n",
              "      <td>5LB</td>\n",
              "      <td>4.4</td>\n",
              "      <td>22.9</td>\n",
              "      <td>14.09</td>\n",
              "      <td>1.0</td>\n",
              "      <td>1.0</td>\n",
              "      <td>345.0</td>\n",
              "      <td>30-PMOTH</td>\n",
              "      <td>293553.0</td>\n",
              "      <td>293553.0</td>\n",
              "      <td>0.0</td>\n",
              "      <td>2019-10-31</td>\n",
              "      <td>7.0</td>\n",
              "      <td>O</td>\n",
              "      <td>2019-10-24</td>\n",
              "      <td>2019-10-24</td>\n",
              "      <td>PL6</td>\n",
              "      <td>22.9</td>\n",
              "      <td>1.0</td>\n",
              "      <td>2019-10-23 17:26:25</td>\n",
              "      <td>82.0</td>\n",
              "      <td>0.227273</td>\n",
              "      <td>22.9</td>\n",
              "      <td>34.318182</td>\n",
              "      <td>2869.70</td>\n",
              "      <td>garlic</td>\n",
              "    </tr>\n",
              "    <tr>\n",
              "      <th>242496</th>\n",
              "      <td>2019-10-24</td>\n",
              "      <td>284834.0</td>\n",
              "      <td>10401</td>\n",
              "      <td>Grapes, Black Seedless, Bagged, 19lb Cert. OG</td>\n",
              "      <td>HALF</td>\n",
              "      <td>2.0</td>\n",
              "      <td>21.9</td>\n",
              "      <td>12.50</td>\n",
              "      <td>1.0</td>\n",
              "      <td>1.0</td>\n",
              "      <td>345.0</td>\n",
              "      <td>30-PMOTH</td>\n",
              "      <td>293553.0</td>\n",
              "      <td>293553.0</td>\n",
              "      <td>0.0</td>\n",
              "      <td>2019-10-31</td>\n",
              "      <td>7.0</td>\n",
              "      <td>O</td>\n",
              "      <td>2019-10-24</td>\n",
              "      <td>2019-10-24</td>\n",
              "      <td>PL6</td>\n",
              "      <td>21.9</td>\n",
              "      <td>1.0</td>\n",
              "      <td>2019-10-23 17:26:25</td>\n",
              "      <td>83.0</td>\n",
              "      <td>0.500000</td>\n",
              "      <td>21.9</td>\n",
              "      <td>90.000000</td>\n",
              "      <td>3069.20</td>\n",
              "      <td>grapes</td>\n",
              "    </tr>\n",
              "    <tr>\n",
              "      <th>242497</th>\n",
              "      <td>2019-10-24</td>\n",
              "      <td>284834.0</td>\n",
              "      <td>60007</td>\n",
              "      <td>Mushroom, Button Medium 5lb, Certified Organic</td>\n",
              "      <td>CASE</td>\n",
              "      <td>1.0</td>\n",
              "      <td>19.9</td>\n",
              "      <td>11.50</td>\n",
              "      <td>1.0</td>\n",
              "      <td>0.0</td>\n",
              "      <td>345.0</td>\n",
              "      <td>30-PMOTH</td>\n",
              "      <td>293553.0</td>\n",
              "      <td>293553.0</td>\n",
              "      <td>0.0</td>\n",
              "      <td>2019-10-31</td>\n",
              "      <td>7.0</td>\n",
              "      <td>O</td>\n",
              "      <td>2019-10-24</td>\n",
              "      <td>2019-10-24</td>\n",
              "      <td>PL6</td>\n",
              "      <td>19.9</td>\n",
              "      <td>1.0</td>\n",
              "      <td>2019-10-23 17:26:25</td>\n",
              "      <td>85.0</td>\n",
              "      <td>1.000000</td>\n",
              "      <td>0.0</td>\n",
              "      <td>645.400000</td>\n",
              "      <td>10638.06</td>\n",
              "      <td>mushroom</td>\n",
              "    </tr>\n",
              "    <tr>\n",
              "      <th>242498</th>\n",
              "      <td>2019-10-24</td>\n",
              "      <td>284834.0</td>\n",
              "      <td>CV30378</td>\n",
              "      <td>Onion, Red Pearl CV</td>\n",
              "      <td>CASE</td>\n",
              "      <td>1.0</td>\n",
              "      <td>45.9</td>\n",
              "      <td>30.00</td>\n",
              "      <td>1.0</td>\n",
              "      <td>1.0</td>\n",
              "      <td>345.0</td>\n",
              "      <td>30-PMOTH</td>\n",
              "      <td>293553.0</td>\n",
              "      <td>293553.0</td>\n",
              "      <td>0.0</td>\n",
              "      <td>2019-10-31</td>\n",
              "      <td>7.0</td>\n",
              "      <td>O</td>\n",
              "      <td>2019-10-24</td>\n",
              "      <td>2019-10-24</td>\n",
              "      <td>PL6</td>\n",
              "      <td>45.9</td>\n",
              "      <td>1.0</td>\n",
              "      <td>2019-10-23 17:26:25</td>\n",
              "      <td>86.0</td>\n",
              "      <td>1.000000</td>\n",
              "      <td>45.9</td>\n",
              "      <td>6.000000</td>\n",
              "      <td>178.50</td>\n",
              "      <td>onion</td>\n",
              "    </tr>\n",
              "  </tbody>\n",
              "</table>\n",
              "</div>"
            ],
            "text/plain": [
              "           invdate     invno     item  ...    total_qty  total_rev     label\n",
              "242494  2019-10-24  284834.0   20318B  ...  1481.100000  103190.82      root\n",
              "242495  2019-10-24  284834.0   20306B  ...    34.318182    2869.70    garlic\n",
              "242496  2019-10-24  284834.0    10401  ...    90.000000    3069.20    grapes\n",
              "242497  2019-10-24  284834.0    60007  ...   645.400000   10638.06  mushroom\n",
              "242498  2019-10-24  284834.0  CV30378  ...     6.000000     178.50     onion\n",
              "\n",
              "[5 rows x 30 columns]"
            ]
          },
          "metadata": {
            "tags": []
          },
          "execution_count": 17
        }
      ]
    },
    {
      "cell_type": "code",
      "metadata": {
        "id": "fQ1btCUgpy2D",
        "colab_type": "code",
        "outputId": "8d2bf203-5ad3-47b1-e36f-08f2ed77de44",
        "colab": {
          "base_uri": "https://localhost:8080/",
          "height": 134
        }
      },
      "source": [
        "df.columns"
      ],
      "execution_count": 0,
      "outputs": [
        {
          "output_type": "execute_result",
          "data": {
            "text/plain": [
              "Index(['invdate', 'index', 'invno', 'item', 'desc', 'uom', 'units', 'price',\n",
              "       'totalcost', 'ordqty', 'shipqty', 'diff_quantity', 'amount', 'profit',\n",
              "       'custno', 'sono_x', 'sono_y', 'paid', 'diff_amt_paid', 'duedate',\n",
              "       'days', 'status', 'datesold', 'delivery', 'priccode', 'orgprice',\n",
              "       'firstrun', 'added', 'invline', 'norm_qty', 'revenue', 'total_qty',\n",
              "       'total_rev', 'label'],\n",
              "      dtype='object')"
            ]
          },
          "metadata": {
            "tags": []
          },
          "execution_count": 13
        }
      ]
    },
    {
      "cell_type": "code",
      "metadata": {
        "id": "fjVblWjmn8pS",
        "colab_type": "code",
        "outputId": "399a2811-f06f-44d2-a885-9e59f8dfe2ed",
        "colab": {
          "base_uri": "https://localhost:8080/",
          "height": 454
        }
      },
      "source": [
        "#creating a separate DF with the 100 top selling items by revenue\n",
        "arr = np.sort(df['total_qty'].unique())[-100:]\n",
        "print (f'100 Largest Revenue Items: \\n {arr}')\n",
        "\n",
        "df2= df[df['total_qty'].isin(arr)]"
      ],
      "execution_count": 0,
      "outputs": [
        {
          "output_type": "stream",
          "text": [
            "100 Largest Revenue Items: \n",
            " [  792.           793.375        799.5          805.26\n",
            "   807.           809.           826.75         834.90625\n",
            "   841.           845.5          860.           874.\n",
            "   892.8          912.26315789   929.           948.5\n",
            "   951.8          960.25         962.5          973.5\n",
            "   986.25         986.5         1003.9         1005.\n",
            "  1007.          1017.5         1022.          1044.05\n",
            "  1060.          1084.625       1091.          1093.32\n",
            "  1117.          1124.          1147.75        1173.71\n",
            "  1181.          1187.5         1189.          1220.75\n",
            "  1226.7         1234.          1235.          1254.94\n",
            "  1298.5         1304.3         1358.          1380.5\n",
            "  1385.56666667  1389.5         1421.6         1435.\n",
            "  1486.          1488.3         1493.5         1560.25\n",
            "  1595.          1598.43333333  1653.          1653.33\n",
            "  1660.          1689.          1698.04        1772.5\n",
            "  1805.          1807.8         1820.25        1891.\n",
            "  1917.85        1924.          1930.9         1985.66666667\n",
            "  2073.          2140.5         2190.875       2246.6\n",
            "  2282.42        2396.          2484.          2504.\n",
            "  2569.          2571.24        2585.08        2725.5\n",
            "  2794.          2828.5         3057.94        3089.\n",
            "  3276.25        3473.75        3688.375       3790.\n",
            "  4333.          4971.          5327.          5749.\n",
            "  5869.          7924.6        18237.         22396.        ]\n"
          ],
          "name": "stdout"
        }
      ]
    },
    {
      "cell_type": "code",
      "metadata": {
        "id": "32VHVFWlpxFC",
        "colab_type": "code",
        "colab": {}
      },
      "source": [
        "#Cleaning up the columns:\n",
        "\n",
        "df2 = df2[['invdate', 'item', 'desc', 'uom', 'units', 'price',\n",
        "       'totalcost', 'ordqty', 'shipqty', 'norm_qty', 'revenue', 'total_qty',\n",
        "       'total_rev', 'label']]"
      ],
      "execution_count": 0,
      "outputs": []
    },
    {
      "cell_type": "code",
      "metadata": {
        "id": "Dnu-oV49qQ_7",
        "colab_type": "code",
        "outputId": "11e7fa5a-3205-41d9-e77f-6be056060d70",
        "colab": {
          "base_uri": "https://localhost:8080/",
          "height": 269
        }
      },
      "source": [
        "#Double checking there are only 100 items in the list!\n",
        "df2.nunique()"
      ],
      "execution_count": 0,
      "outputs": [
        {
          "output_type": "execute_result",
          "data": {
            "text/plain": [
              "invdate       363\n",
              "item          101\n",
              "desc          158\n",
              "uom            12\n",
              "units          12\n",
              "price         338\n",
              "totalcost     548\n",
              "ordqty        133\n",
              "shipqty       159\n",
              "norm_qty      169\n",
              "revenue      1713\n",
              "total_qty     100\n",
              "total_rev     101\n",
              "label          45\n",
              "dtype: int64"
            ]
          },
          "metadata": {
            "tags": []
          },
          "execution_count": 16
        }
      ]
    },
    {
      "cell_type": "code",
      "metadata": {
        "id": "vHR1sGSRu70K",
        "colab_type": "code",
        "colab": {}
      },
      "source": [
        "df2.to_csv(r'/content/drive/My Drive/Capstone_2/data/100Q_items.csv', index= 'invdate', header=True)\n",
        "df2.to_csv(r'/content/drive/My Drive/Capstone_2/data/100Q_items.csv', index= 'invdate', header=True)\n",
        "df2.to_csv(r'/content/drive/My Drive/Capstone_2/data/100Q_items.csv', index= 'invdate', header=True)"
      ],
      "execution_count": 0,
      "outputs": []
    },
    {
      "cell_type": "code",
      "metadata": {
        "id": "2D4mpcq8f-uV",
        "colab_type": "code",
        "colab": {}
      },
      "source": [
        "#create a pivot table of the categories\n",
        "\n",
        "#df2 = pd.pivot_table(df, values= \"ordqty\", index= \"invdate\", columns = \"cat\", aggfunc=np.sum, fill_value=0)\n"
      ],
      "execution_count": 0,
      "outputs": []
    },
    {
      "cell_type": "code",
      "metadata": {
        "id": "e4enksm36qNs",
        "colab_type": "code",
        "colab": {}
      },
      "source": [
        ""
      ],
      "execution_count": 0,
      "outputs": []
    }
  ]
}
