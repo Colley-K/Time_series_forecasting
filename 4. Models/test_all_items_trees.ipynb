{
  "nbformat": 4,
  "nbformat_minor": 0,
  "metadata": {
    "colab": {
      "name": "test_all_items_trees.ipynb",
      "provenance": [],
      "collapsed_sections": []
    },
    "kernelspec": {
      "name": "python3",
      "display_name": "Python 3"
    },
    "accelerator": "GPU"
  },
  "cells": [
    {
      "cell_type": "markdown",
      "metadata": {
        "id": "fbFB5FR6PYZI",
        "colab_type": "text"
      },
      "source": [
        "# TESTING TREES...\n",
        "\n",
        ">\n",
        "![alt text](https://drive.google.com/uc?id=1Xvm8HeymRaVlqs_1qdy7eBlvsS_7FDoY)"
      ]
    },
    {
      "cell_type": "markdown",
      "metadata": {
        "id": "oXkMM1wvsnk5",
        "colab_type": "text"
      },
      "source": [
        "#### Purpose of this notebook:\n",
        "\n",
        "1. to test weekly versus daily\n",
        "2. to test all 3000 products not just the 100 most popular"
      ]
    },
    {
      "cell_type": "markdown",
      "metadata": {
        "id": "tMPRFme4wTFC",
        "colab_type": "text"
      },
      "source": [
        "# Implementation Notes\n",
        "\n",
        "\n",
        "*   weekly sql for one years of past data from that timeframe\n",
        "*   weekly forecast? how to do every sunday and thursday?\n",
        "\n"
      ]
    },
    {
      "cell_type": "markdown",
      "metadata": {
        "id": "f60q103bucnl",
        "colab_type": "text"
      },
      "source": [
        "#Shifted Target Features\n",
        "\n",
        "* Another source of feature information is what I would call shifted target information or lagged features; that is we can look a recent, or relevant, observation of the thing we are trying to predict, and use this as a feature in the model.\n",
        "\n",
        "* The important principle is that your model data must not contain information that would not be available at the time of prediction so a one day shift is only available one day before. So your model is only predicting one day ahead. If you wanted to forecast calls for the entire year upfront, you would not have access to the one day shifted information, and so you would need to make appropriate modifications to the shift i.e. 365 day shift.\n",
        "\n",
        "* In the introduction we formulated the business problem as trying to predict seven days ahead so I have only included shifted targets that would be available 7 days before.\n",
        "\n",
        "* We will also examine the impact on model performance of leaving these features out of the model, as leaving out the shifted variables will make the model’s use less restricted."
      ]
    },
    {
      "cell_type": "markdown",
      "metadata": {
        "id": "TEnlzStPtowE",
        "colab_type": "text"
      },
      "source": [
        "#LGBM EXAMPLES BELOW\n",
        "\n",
        "EXCELLENT EXAMPLE: https://www.jpytr.com/post/time-series-with-gradient-boosted-models/"
      ]
    },
    {
      "cell_type": "markdown",
      "metadata": {
        "id": "xbriUIJsRhXE",
        "colab_type": "text"
      },
      "source": [
        "# Setups/ Imports"
      ]
    },
    {
      "cell_type": "code",
      "metadata": {
        "id": "2pSuOCB2V7wt",
        "colab_type": "code",
        "outputId": "067cc534-7897-45fb-cc16-6a52ebe0658a",
        "colab": {
          "base_uri": "https://localhost:8080/",
          "height": 406
        }
      },
      "source": [
        "#Colab stuffs:\n",
        "\n",
        "#get a fast operator system\n",
        "!nvidia-smi\n",
        "\n",
        "#mount google drive\n",
        "from google.colab import drive\n",
        "drive.mount('/content/drive')#click on the link it provides and copy and paste that code into the authorization area\n",
        "\n",
        "#access the OS system to work with current directories:\n",
        "import os"
      ],
      "execution_count": 0,
      "outputs": [
        {
          "output_type": "stream",
          "text": [
            "Sat Nov  2 19:42:42 2019       \n",
            "+-----------------------------------------------------------------------------+\n",
            "| NVIDIA-SMI 430.50       Driver Version: 418.67       CUDA Version: 10.1     |\n",
            "|-------------------------------+----------------------+----------------------+\n",
            "| GPU  Name        Persistence-M| Bus-Id        Disp.A | Volatile Uncorr. ECC |\n",
            "| Fan  Temp  Perf  Pwr:Usage/Cap|         Memory-Usage | GPU-Util  Compute M. |\n",
            "|===============================+======================+======================|\n",
            "|   0  Tesla K80           Off  | 00000000:00:04.0 Off |                    0 |\n",
            "| N/A   40C    P8    25W / 149W |      0MiB / 11441MiB |      0%      Default |\n",
            "+-------------------------------+----------------------+----------------------+\n",
            "                                                                               \n",
            "+-----------------------------------------------------------------------------+\n",
            "| Processes:                                                       GPU Memory |\n",
            "|  GPU       PID   Type   Process name                             Usage      |\n",
            "|=============================================================================|\n",
            "|  No running processes found                                                 |\n",
            "+-----------------------------------------------------------------------------+\n",
            "Go to this URL in a browser: https://accounts.google.com/o/oauth2/auth?client_id=947318989803-6bn6qk8qdgf4n4g3pfee6491hc0brc4i.apps.googleusercontent.com&redirect_uri=urn%3Aietf%3Awg%3Aoauth%3A2.0%3Aoob&scope=email%20https%3A%2F%2Fwww.googleapis.com%2Fauth%2Fdocs.test%20https%3A%2F%2Fwww.googleapis.com%2Fauth%2Fdrive%20https%3A%2F%2Fwww.googleapis.com%2Fauth%2Fdrive.photos.readonly%20https%3A%2F%2Fwww.googleapis.com%2Fauth%2Fpeopleapi.readonly&response_type=code\n",
            "\n",
            "Enter your authorization code:\n",
            "··········\n",
            "Mounted at /content/drive\n"
          ],
          "name": "stdout"
        }
      ]
    },
    {
      "cell_type": "code",
      "metadata": {
        "id": "A8erIywKRnom",
        "colab_type": "code",
        "colab": {}
      },
      "source": [
        "#Imports\n",
        "\n",
        "import warnings \n",
        "warnings.filterwarnings('ignore')\n",
        "import numpy as np \n",
        "import pandas as pd \n",
        "import matplotlib.pyplot as plt\n",
        "import seaborn as sns\n",
        "\n",
        "from sklearn.model_selection import train_test_split \n",
        "from sklearn.ensemble import RandomForestRegressor\n",
        "from lightgbm import LGBMRegressor\n",
        "from sklearn.metrics import mean_squared_error\n",
        "\n",
        "from math import sqrt\n",
        "import statsmodels.api as sm\n",
        "from sklearn import metrics\n",
        "plt.style.use('fivethirtyeight')\n",
        "sns.set_style(\"whitegrid\")\n",
        "sns.despine()\n",
        "sns.set(rc={'figure.figsize':(15,9)})\n",
        "%matplotlib inline"
      ],
      "execution_count": 0,
      "outputs": []
    },
    {
      "cell_type": "code",
      "metadata": {
        "id": "JZhxCnLoMUdM",
        "colab_type": "code",
        "colab": {}
      },
      "source": [
        "#import and clean DF\n",
        "df2 = pd.read_csv('drive/My Drive/Capstone_2/data/100_items.csv', index_col= 'invdate', low_memory=False)#100 highest revenue items to test models\n",
        "df = pd.read_csv('drive/My Drive/Capstone_2/data/one_year.csv', index_col= 'invdate', low_memory=False)#all 3000 product codes\n",
        "df3 = pd.read_csv('drive/My Drive/Capstone_2/data/two_year.csv', index_col= 'invdate', low_memory=False)#all 3000 product codes"
      ],
      "execution_count": 0,
      "outputs": []
    },
    {
      "cell_type": "markdown",
      "metadata": {
        "id": "ZEPHqG-ZbFvc",
        "colab_type": "text"
      },
      "source": [
        "## Testing all product codes\n",
        "\n",
        "\n",
        "*   First I need to filter out any item codes that are delivery based logs and not actual items\n",
        ">* Will do this by catching any item string with less than 3 numbers which indicate its something like \"SUGARTAX\" or \"BOTLEDEL\"\n",
        "*   Next I need to drop any items that haven't been ordered more than 10 times\n",
        "\n"
      ]
    },
    {
      "cell_type": "code",
      "metadata": {
        "id": "ZlKQGTcZeM47",
        "colab_type": "code",
        "outputId": "831e046c-a93f-4c4c-ba40-e49c7c86ed40",
        "colab": {
          "base_uri": "https://localhost:8080/",
          "height": 538
        }
      },
      "source": [
        "#Counting Null values in df\n",
        "print (df.isna().sum())\n",
        "\n",
        "#getting rid of irrelevant columns\n",
        "df.drop(columns= ['route', 'salesman'], inplace= True)"
      ],
      "execution_count": 0,
      "outputs": [
        {
          "output_type": "stream",
          "text": [
            "index               0\n",
            "invno               0\n",
            "item                0\n",
            "desc                0\n",
            "uom                 0\n",
            "units               0\n",
            "price               0\n",
            "totalcost           0\n",
            "ordqty              0\n",
            "shipqty             0\n",
            "diff_quantity       0\n",
            "amount              0\n",
            "profit              0\n",
            "custno              0\n",
            "sono_x              0\n",
            "sono_y              0\n",
            "paid                0\n",
            "diff_amt_paid       0\n",
            "duedate             0\n",
            "days                0\n",
            "status              0\n",
            "datesold            0\n",
            "delivery            0\n",
            "route            3994\n",
            "salesman         4001\n",
            "priccode            0\n",
            "orgprice            0\n",
            "firstrun            0\n",
            "added               0\n",
            "invline             0\n",
            "dtype: int64\n"
          ],
          "name": "stdout"
        }
      ]
    },
    {
      "cell_type": "code",
      "metadata": {
        "id": "CONZnRwaQnzo",
        "colab_type": "code",
        "colab": {}
      },
      "source": [
        "#Getting rid of any non-item codes \n",
        "#filtering out the item codes with 2 or less numbers because these indicate non-plu codes\n",
        "def count_numbers (df, col):\n",
        "    \n",
        "    #Turning items that have less than 3 numbers into nulls\n",
        "    df[col] = df[col].apply(lambda x: x if sum(char.isdigit() for char in x) > 2 else np.nan)\n",
        "\n",
        "    #Dropping the bad items from the data frame\n",
        "    df.dropna(subset= [col],axis=0, inplace=True)\n",
        "\n",
        "count_numbers(df, 'item')\n"
      ],
      "execution_count": 0,
      "outputs": []
    },
    {
      "cell_type": "code",
      "metadata": {
        "id": "By4eTsLAdxyq",
        "colab_type": "code",
        "outputId": "5ce5538f-bdef-4c33-9e64-ed402a9124ad",
        "colab": {
          "base_uri": "https://localhost:8080/",
          "height": 50
        }
      },
      "source": [
        "#Dropping the negative values because they represent returns and we are only measuring demand/ returns is a different problem\n",
        "\n",
        "#counting negative values\n",
        "print (f'Number of Negative Order Quantities Values: {np.sum((df.ordqty < 0).values.ravel())}') \n",
        "print (f'Number of credits given to customer: {np.sum((df.price < 0).values.ravel())}') \n",
        "\n",
        "#dropping the return or negative value rows\n",
        "df[df.ordqty < 0] = np.nan\n",
        "df[df.price < 0] = np.nan\n",
        "df.dropna(subset= ['ordqty'], axis= 0, inplace=True)"
      ],
      "execution_count": 0,
      "outputs": [
        {
          "output_type": "stream",
          "text": [
            "Number of Negative Order Quantities Values: 7624\n",
            "Number of credits given to customer: 0\n"
          ],
          "name": "stdout"
        }
      ]
    },
    {
      "cell_type": "code",
      "metadata": {
        "id": "JKwk0qyqeafy",
        "colab_type": "code",
        "colab": {}
      },
      "source": [
        "#Creating a normalized Order Qty column\n",
        "df['norm_qty'] = df['ordqty'] / df['units']"
      ],
      "execution_count": 0,
      "outputs": []
    },
    {
      "cell_type": "code",
      "metadata": {
        "id": "HCKWl0GKecgg",
        "colab_type": "code",
        "colab": {}
      },
      "source": [
        "#Creating a revenue column per item per day\n",
        "df['revenue'] = df['shipqty'] * df['price']"
      ],
      "execution_count": 0,
      "outputs": []
    },
    {
      "cell_type": "code",
      "metadata": {
        "id": "Bhwyy8Szehzw",
        "colab_type": "code",
        "colab": {}
      },
      "source": [
        "#creating a column for the total orders per item\n",
        "df['total_qty'] = df.groupby('item')[\"norm_qty\"].transform('sum')\n",
        "\n",
        "#creating a column for the total revenue per item\n",
        "df['total_rev'] = df.groupby('item')[\"revenue\"].transform('sum')"
      ],
      "execution_count": 0,
      "outputs": []
    },
    {
      "cell_type": "code",
      "metadata": {
        "id": "CRQtZnzeek9T",
        "colab_type": "code",
        "colab": {}
      },
      "source": [
        "#splitting off the first phrase from the item's description, and turning them into lower case\n",
        "df['label'] = df['desc'].str.split(\",\").str[0].str.lower()\n",
        "df['label'] = df['label'].str.split(\" \").str[0].str.lower()"
      ],
      "execution_count": 0,
      "outputs": []
    },
    {
      "cell_type": "code",
      "metadata": {
        "id": "OBP2R90bPyjn",
        "colab_type": "code",
        "colab": {}
      },
      "source": [
        "#Figuring out all the low PLU quantities that were ordered ten times or less in a one year time frame\n",
        "\n",
        "df['low_quantities'] = df['total_qty'].apply(lambda x: x if x > 10 else np.nan)\n",
        "low= df[df['low_quantities'].isnull()]\n",
        "print (f'Number of PLUs ordered less than 10 times last year = {low.item.nunique()}')\n",
        "print ('List of all the PLUs ordered less than 10 times')\n",
        "list(low.item.unique())"
      ],
      "execution_count": 0,
      "outputs": []
    },
    {
      "cell_type": "code",
      "metadata": {
        "id": "Mr1mVUUjhKr1",
        "colab_type": "code",
        "outputId": "4149d7ed-7da1-4aac-ff2a-af0ea5f8411a",
        "colab": {
          "base_uri": "https://localhost:8080/",
          "height": 84
        }
      },
      "source": [
        "print (f'DF size before dropping the low quantity items = {df.shape[0]}')\n",
        "print (f'Number of unique items(PLUs) before dropping the low quantity items = {df.item.nunique()}')\n",
        "df.dropna(subset= ['low_quantities'], axis= 0, inplace=True)\n",
        "print (f'DF size AFTER dropping the low quantity items = {df.shape[0]}')\n",
        "print (f'Number of unique items(PLUs) AFTER dropping the low quantity items = {df.item.nunique()}')\n"
      ],
      "execution_count": 0,
      "outputs": [
        {
          "output_type": "stream",
          "text": [
            "DF size before dropping the low quantity items = 197420\n",
            "Number of unique items(PLUs) before dropping the low quantity items = 2100\n",
            "DF size AFTER dropping the low quantity items = 194544\n",
            "Number of unique items(PLUs) AFTER dropping the low quantity items = 1332\n"
          ],
          "name": "stdout"
        }
      ]
    },
    {
      "cell_type": "markdown",
      "metadata": {
        "id": "gfBNw5kuh5QO",
        "colab_type": "text"
      },
      "source": [
        "*OK so we lost 768 items because they were too low of demand over a one years time period, but not suprisingly we did not loose too many entries in our invoice data since they represented so low of demand. We still have a lot of entries to work with.*"
      ]
    },
    {
      "cell_type": "code",
      "metadata": {
        "id": "kA_3UW_liaAa",
        "colab_type": "code",
        "outputId": "ce8cdd94-d83a-4ab5-ceed-7d6f851f0f73",
        "colab": {
          "base_uri": "https://localhost:8080/",
          "height": 621
        }
      },
      "source": [
        "#quick visual of the demand of items after dropping the least ordered\n",
        "plt.hist(df.total_qty, bins=50)"
      ],
      "execution_count": 0,
      "outputs": [
        {
          "output_type": "execute_result",
          "data": {
            "text/plain": [
              "(array([74702., 38147., 22426., 18874., 12052.,  8043.,  4909.,  4010.,\n",
              "         2777.,   275.,     0.,  4051.,  1639.,     0.,     0.,     0.,\n",
              "            0.,  1310.,     0.,     0.,     0.,     0.,     0.,     0.,\n",
              "            0.,     0.,     0.,     0.,     0.,     0.,     0.,     0.,\n",
              "            0.,     0.,     0.,     0.,     0.,     0.,     0.,     0.,\n",
              "            0.,     0.,     0.,     0.,     0.,     0.,     0.,     0.,\n",
              "            0.,  1329.]),\n",
              " array([1.01600000e+01, 4.57876800e+02, 9.05593600e+02, 1.35331040e+03,\n",
              "        1.80102720e+03, 2.24874400e+03, 2.69646080e+03, 3.14417760e+03,\n",
              "        3.59189440e+03, 4.03961120e+03, 4.48732800e+03, 4.93504480e+03,\n",
              "        5.38276160e+03, 5.83047840e+03, 6.27819520e+03, 6.72591200e+03,\n",
              "        7.17362880e+03, 7.62134560e+03, 8.06906240e+03, 8.51677920e+03,\n",
              "        8.96449600e+03, 9.41221280e+03, 9.85992960e+03, 1.03076464e+04,\n",
              "        1.07553632e+04, 1.12030800e+04, 1.16507968e+04, 1.20985136e+04,\n",
              "        1.25462304e+04, 1.29939472e+04, 1.34416640e+04, 1.38893808e+04,\n",
              "        1.43370976e+04, 1.47848144e+04, 1.52325312e+04, 1.56802480e+04,\n",
              "        1.61279648e+04, 1.65756816e+04, 1.70233984e+04, 1.74711152e+04,\n",
              "        1.79188320e+04, 1.83665488e+04, 1.88142656e+04, 1.92619824e+04,\n",
              "        1.97096992e+04, 2.01574160e+04, 2.06051328e+04, 2.10528496e+04,\n",
              "        2.15005664e+04, 2.19482832e+04, 2.23960000e+04]),\n",
              " <a list of 50 Patch objects>)"
            ]
          },
          "metadata": {
            "tags": []
          },
          "execution_count": 38
        },
        {
          "output_type": "display_data",
          "data": {
            "image/png": "[encoded data removed]",
            "text/plain": [
              "<Figure size 432x288 with 1 Axes>"
            ]
          },
          "metadata": {
            "tags": []
          }
        }
      ]
    },
    {
      "cell_type": "markdown",
      "metadata": {
        "id": "NwrEynbRjDsY",
        "colab_type": "text"
      },
      "source": [
        "*So most of the demand is still centered around the zero mark which is good for a random forest which can handle the sparsity*"
      ]
    },
    {
      "cell_type": "code",
      "metadata": {
        "id": "8Onk6k0qkxIB",
        "colab_type": "code",
        "colab": {}
      },
      "source": [
        "df.head(20)"
      ],
      "execution_count": 0,
      "outputs": []
    },
    {
      "cell_type": "code",
      "metadata": {
        "id": "5wIVMszuR_BJ",
        "colab_type": "code",
        "outputId": "13084eb8-8543-4c4c-b4f4-1d2c6676b877",
        "colab": {
          "base_uri": "https://localhost:8080/",
          "height": 345
        }
      },
      "source": [
        "#creating a data frame with just the normalized quantities ordered.\n",
        "dfqty = pd.pivot_table(df, values= \"norm_qty\", index= \"invdate\", columns = \"item\", aggfunc=np.sum, fill_value=0)\n",
        "\n",
        "# #Adding total columns--- dont think I want to add this...\n",
        "# dfqty[\"day_total\"]= dfqty.sum(axis = 1, skipna = True)\n",
        "\n",
        "#resetting index to datetime\n",
        "dfqty.index = pd.to_datetime(dfqty.index)\n",
        "\n",
        "#filling in the missing days\n",
        "idx = pd.date_range('2018-08-23', '2019-08-23')\n",
        "dfqty = dfqty.reindex(idx, fill_value=0)\n",
        "\n",
        "#Whoops accidentally did 366 days instead of 365! Let's fix that...\n",
        "dfqty = dfqty[1:]\n",
        "\n",
        "print (dfqty.shape)\n",
        "dfqty.head()"
      ],
      "execution_count": 0,
      "outputs": [
        {
          "output_type": "stream",
          "text": [
            "(365, 1332)\n"
          ],
          "name": "stdout"
        },
        {
          "output_type": "execute_result",
          "data": {
            "text/html": [
              "<div>\n",
              "<style scoped>\n",
              "    .dataframe tbody tr th:only-of-type {\n",
              "        vertical-align: middle;\n",
              "    }\n",
              "\n",
              "    .dataframe tbody tr th {\n",
              "        vertical-align: top;\n",
              "    }\n",
              "\n",
              "    .dataframe thead th {\n",
              "        text-align: right;\n",
              "    }\n",
              "</style>\n",
              "<table border=\"1\" class=\"dataframe\">\n",
              "  <thead>\n",
              "    <tr style=\"text-align: right;\">\n",
              "      <th>item</th>\n",
              "      <th>10004PM</th>\n",
              "      <th>10004PS</th>\n",
              "      <th>10005</th>\n",
              "      <th>10005A</th>\n",
              "      <th>10006</th>\n",
              "      <th>10006E</th>\n",
              "      <th>10006F</th>\n",
              "      <th>10007A</th>\n",
              "      <th>10009PL</th>\n",
              "      <th>10011</th>\n",
              "      <th>10017</th>\n",
              "      <th>10018</th>\n",
              "      <th>10018D</th>\n",
              "      <th>10018E</th>\n",
              "      <th>10019A</th>\n",
              "      <th>10021</th>\n",
              "      <th>10026</th>\n",
              "      <th>10026B</th>\n",
              "      <th>10027</th>\n",
              "      <th>10027A</th>\n",
              "      <th>10027D</th>\n",
              "      <th>10028A</th>\n",
              "      <th>10028D</th>\n",
              "      <th>10032A</th>\n",
              "      <th>10033B</th>\n",
              "      <th>10036</th>\n",
              "      <th>10037</th>\n",
              "      <th>10040B</th>\n",
              "      <th>10041</th>\n",
              "      <th>10042</th>\n",
              "      <th>10042A</th>\n",
              "      <th>10042B</th>\n",
              "      <th>10042D</th>\n",
              "      <th>10043</th>\n",
              "      <th>10043A</th>\n",
              "      <th>10043B</th>\n",
              "      <th>10043C</th>\n",
              "      <th>10043D</th>\n",
              "      <th>10045D</th>\n",
              "      <th>10048A</th>\n",
              "      <th>...</th>\n",
              "      <th>G5101Q</th>\n",
              "      <th>G5102</th>\n",
              "      <th>G5102D</th>\n",
              "      <th>G5102E</th>\n",
              "      <th>G5102F</th>\n",
              "      <th>G5102G</th>\n",
              "      <th>G5102H</th>\n",
              "      <th>G5102I</th>\n",
              "      <th>G5102J</th>\n",
              "      <th>G5103</th>\n",
              "      <th>R10001</th>\n",
              "      <th>R10215</th>\n",
              "      <th>R10230</th>\n",
              "      <th>R10237</th>\n",
              "      <th>R10304</th>\n",
              "      <th>R10330</th>\n",
              "      <th>R10343</th>\n",
              "      <th>R10355</th>\n",
              "      <th>R10428</th>\n",
              "      <th>R10511</th>\n",
              "      <th>R20029</th>\n",
              "      <th>R20144</th>\n",
              "      <th>R20286</th>\n",
              "      <th>R20303</th>\n",
              "      <th>R30089</th>\n",
              "      <th>R30143</th>\n",
              "      <th>R30180</th>\n",
              "      <th>R30208</th>\n",
              "      <th>R30233</th>\n",
              "      <th>R30327</th>\n",
              "      <th>R30517</th>\n",
              "      <th>R30547</th>\n",
              "      <th>R30557</th>\n",
              "      <th>R30587</th>\n",
              "      <th>R30600</th>\n",
              "      <th>R30601</th>\n",
              "      <th>R30683</th>\n",
              "      <th>R40008</th>\n",
              "      <th>R50084</th>\n",
              "      <th>R60013</th>\n",
              "    </tr>\n",
              "  </thead>\n",
              "  <tbody>\n",
              "    <tr>\n",
              "      <th>2018-08-24</th>\n",
              "      <td>0</td>\n",
              "      <td>0</td>\n",
              "      <td>0</td>\n",
              "      <td>0.0</td>\n",
              "      <td>0.0</td>\n",
              "      <td>0.0</td>\n",
              "      <td>0.0</td>\n",
              "      <td>4.0</td>\n",
              "      <td>0</td>\n",
              "      <td>0.0</td>\n",
              "      <td>0.0</td>\n",
              "      <td>0.0</td>\n",
              "      <td>0.0</td>\n",
              "      <td>9.0</td>\n",
              "      <td>0</td>\n",
              "      <td>0.0</td>\n",
              "      <td>0.0</td>\n",
              "      <td>0.0</td>\n",
              "      <td>0.0</td>\n",
              "      <td>0.0</td>\n",
              "      <td>0.0</td>\n",
              "      <td>0.0</td>\n",
              "      <td>0</td>\n",
              "      <td>0.0</td>\n",
              "      <td>0.0</td>\n",
              "      <td>0.0</td>\n",
              "      <td>0</td>\n",
              "      <td>0</td>\n",
              "      <td>0.0</td>\n",
              "      <td>0.0</td>\n",
              "      <td>0.0</td>\n",
              "      <td>0.0</td>\n",
              "      <td>8.0</td>\n",
              "      <td>0.0</td>\n",
              "      <td>0.0</td>\n",
              "      <td>0.0</td>\n",
              "      <td>0.0</td>\n",
              "      <td>0.0</td>\n",
              "      <td>0</td>\n",
              "      <td>0.0</td>\n",
              "      <td>...</td>\n",
              "      <td>0</td>\n",
              "      <td>0</td>\n",
              "      <td>0</td>\n",
              "      <td>0</td>\n",
              "      <td>0</td>\n",
              "      <td>0</td>\n",
              "      <td>0</td>\n",
              "      <td>0</td>\n",
              "      <td>0</td>\n",
              "      <td>0</td>\n",
              "      <td>0.0</td>\n",
              "      <td>0.0</td>\n",
              "      <td>0.0</td>\n",
              "      <td>0.0</td>\n",
              "      <td>0.0</td>\n",
              "      <td>0.0</td>\n",
              "      <td>0.0</td>\n",
              "      <td>0.0</td>\n",
              "      <td>0.0</td>\n",
              "      <td>0.0</td>\n",
              "      <td>0</td>\n",
              "      <td>0.0</td>\n",
              "      <td>0</td>\n",
              "      <td>0.0</td>\n",
              "      <td>0.0</td>\n",
              "      <td>0.0</td>\n",
              "      <td>1.0</td>\n",
              "      <td>0.0</td>\n",
              "      <td>0.0</td>\n",
              "      <td>1.0</td>\n",
              "      <td>0.0</td>\n",
              "      <td>0</td>\n",
              "      <td>0.0</td>\n",
              "      <td>1.0</td>\n",
              "      <td>0.0</td>\n",
              "      <td>0.0</td>\n",
              "      <td>0.0</td>\n",
              "      <td>0.0</td>\n",
              "      <td>0.0</td>\n",
              "      <td>0.0</td>\n",
              "    </tr>\n",
              "    <tr>\n",
              "      <th>2018-08-25</th>\n",
              "      <td>0</td>\n",
              "      <td>0</td>\n",
              "      <td>0</td>\n",
              "      <td>0.0</td>\n",
              "      <td>0.0</td>\n",
              "      <td>0.0</td>\n",
              "      <td>0.0</td>\n",
              "      <td>1.0</td>\n",
              "      <td>0</td>\n",
              "      <td>0.0</td>\n",
              "      <td>0.0</td>\n",
              "      <td>0.0</td>\n",
              "      <td>0.0</td>\n",
              "      <td>0.0</td>\n",
              "      <td>0</td>\n",
              "      <td>0.0</td>\n",
              "      <td>0.0</td>\n",
              "      <td>0.0</td>\n",
              "      <td>0.0</td>\n",
              "      <td>0.0</td>\n",
              "      <td>0.0</td>\n",
              "      <td>0.0</td>\n",
              "      <td>0</td>\n",
              "      <td>0.0</td>\n",
              "      <td>0.0</td>\n",
              "      <td>0.0</td>\n",
              "      <td>0</td>\n",
              "      <td>0</td>\n",
              "      <td>0.0</td>\n",
              "      <td>0.0</td>\n",
              "      <td>0.0</td>\n",
              "      <td>0.0</td>\n",
              "      <td>2.0</td>\n",
              "      <td>0.0</td>\n",
              "      <td>0.0</td>\n",
              "      <td>0.0</td>\n",
              "      <td>0.0</td>\n",
              "      <td>0.0</td>\n",
              "      <td>0</td>\n",
              "      <td>0.0</td>\n",
              "      <td>...</td>\n",
              "      <td>0</td>\n",
              "      <td>1</td>\n",
              "      <td>0</td>\n",
              "      <td>0</td>\n",
              "      <td>0</td>\n",
              "      <td>0</td>\n",
              "      <td>0</td>\n",
              "      <td>0</td>\n",
              "      <td>0</td>\n",
              "      <td>0</td>\n",
              "      <td>0.0</td>\n",
              "      <td>0.0</td>\n",
              "      <td>0.0</td>\n",
              "      <td>0.0</td>\n",
              "      <td>0.5</td>\n",
              "      <td>0.0</td>\n",
              "      <td>0.0</td>\n",
              "      <td>0.0</td>\n",
              "      <td>0.0</td>\n",
              "      <td>0.5</td>\n",
              "      <td>0</td>\n",
              "      <td>0.0</td>\n",
              "      <td>0</td>\n",
              "      <td>0.0</td>\n",
              "      <td>0.0</td>\n",
              "      <td>0.0</td>\n",
              "      <td>0.0</td>\n",
              "      <td>0.0</td>\n",
              "      <td>0.0</td>\n",
              "      <td>0.0</td>\n",
              "      <td>0.0</td>\n",
              "      <td>0</td>\n",
              "      <td>0.0</td>\n",
              "      <td>0.0</td>\n",
              "      <td>0.0</td>\n",
              "      <td>0.0</td>\n",
              "      <td>0.0</td>\n",
              "      <td>0.0</td>\n",
              "      <td>0.0</td>\n",
              "      <td>0.0</td>\n",
              "    </tr>\n",
              "    <tr>\n",
              "      <th>2018-08-26</th>\n",
              "      <td>0</td>\n",
              "      <td>0</td>\n",
              "      <td>0</td>\n",
              "      <td>0.0</td>\n",
              "      <td>0.0</td>\n",
              "      <td>0.0</td>\n",
              "      <td>0.0</td>\n",
              "      <td>3.0</td>\n",
              "      <td>0</td>\n",
              "      <td>0.0</td>\n",
              "      <td>0.0</td>\n",
              "      <td>0.0</td>\n",
              "      <td>0.0</td>\n",
              "      <td>0.0</td>\n",
              "      <td>0</td>\n",
              "      <td>0.0</td>\n",
              "      <td>0.0</td>\n",
              "      <td>0.0</td>\n",
              "      <td>0.0</td>\n",
              "      <td>0.0</td>\n",
              "      <td>0.0</td>\n",
              "      <td>0.0</td>\n",
              "      <td>0</td>\n",
              "      <td>0.0</td>\n",
              "      <td>0.0</td>\n",
              "      <td>0.0</td>\n",
              "      <td>0</td>\n",
              "      <td>0</td>\n",
              "      <td>0.0</td>\n",
              "      <td>0.0</td>\n",
              "      <td>0.0</td>\n",
              "      <td>0.0</td>\n",
              "      <td>1.0</td>\n",
              "      <td>0.0</td>\n",
              "      <td>0.0</td>\n",
              "      <td>0.0</td>\n",
              "      <td>0.0</td>\n",
              "      <td>0.0</td>\n",
              "      <td>0</td>\n",
              "      <td>0.0</td>\n",
              "      <td>...</td>\n",
              "      <td>0</td>\n",
              "      <td>0</td>\n",
              "      <td>0</td>\n",
              "      <td>0</td>\n",
              "      <td>0</td>\n",
              "      <td>0</td>\n",
              "      <td>0</td>\n",
              "      <td>0</td>\n",
              "      <td>0</td>\n",
              "      <td>0</td>\n",
              "      <td>0.0</td>\n",
              "      <td>0.0</td>\n",
              "      <td>0.0</td>\n",
              "      <td>0.0</td>\n",
              "      <td>0.0</td>\n",
              "      <td>0.0</td>\n",
              "      <td>0.0</td>\n",
              "      <td>0.0</td>\n",
              "      <td>0.0</td>\n",
              "      <td>0.0</td>\n",
              "      <td>0</td>\n",
              "      <td>0.0</td>\n",
              "      <td>0</td>\n",
              "      <td>0.0</td>\n",
              "      <td>0.0</td>\n",
              "      <td>0.0</td>\n",
              "      <td>0.0</td>\n",
              "      <td>0.0</td>\n",
              "      <td>0.0</td>\n",
              "      <td>0.0</td>\n",
              "      <td>0.0</td>\n",
              "      <td>0</td>\n",
              "      <td>0.0</td>\n",
              "      <td>0.0</td>\n",
              "      <td>0.0</td>\n",
              "      <td>0.0</td>\n",
              "      <td>0.0</td>\n",
              "      <td>0.0</td>\n",
              "      <td>0.0</td>\n",
              "      <td>0.0</td>\n",
              "    </tr>\n",
              "    <tr>\n",
              "      <th>2018-08-27</th>\n",
              "      <td>0</td>\n",
              "      <td>0</td>\n",
              "      <td>0</td>\n",
              "      <td>0.0</td>\n",
              "      <td>0.0</td>\n",
              "      <td>0.0</td>\n",
              "      <td>0.0</td>\n",
              "      <td>16.5</td>\n",
              "      <td>0</td>\n",
              "      <td>0.0</td>\n",
              "      <td>0.0</td>\n",
              "      <td>0.0</td>\n",
              "      <td>0.0</td>\n",
              "      <td>1.0</td>\n",
              "      <td>0</td>\n",
              "      <td>0.0</td>\n",
              "      <td>0.0</td>\n",
              "      <td>0.0</td>\n",
              "      <td>0.0</td>\n",
              "      <td>0.0</td>\n",
              "      <td>0.0</td>\n",
              "      <td>0.0</td>\n",
              "      <td>0</td>\n",
              "      <td>0.0</td>\n",
              "      <td>0.0</td>\n",
              "      <td>0.0</td>\n",
              "      <td>0</td>\n",
              "      <td>0</td>\n",
              "      <td>0.0</td>\n",
              "      <td>0.0</td>\n",
              "      <td>0.0</td>\n",
              "      <td>0.0</td>\n",
              "      <td>16.0</td>\n",
              "      <td>0.0</td>\n",
              "      <td>0.0</td>\n",
              "      <td>0.0</td>\n",
              "      <td>0.0</td>\n",
              "      <td>0.0</td>\n",
              "      <td>0</td>\n",
              "      <td>0.0</td>\n",
              "      <td>...</td>\n",
              "      <td>0</td>\n",
              "      <td>0</td>\n",
              "      <td>0</td>\n",
              "      <td>0</td>\n",
              "      <td>0</td>\n",
              "      <td>0</td>\n",
              "      <td>0</td>\n",
              "      <td>0</td>\n",
              "      <td>0</td>\n",
              "      <td>0</td>\n",
              "      <td>0.0</td>\n",
              "      <td>0.0</td>\n",
              "      <td>0.0</td>\n",
              "      <td>0.0</td>\n",
              "      <td>0.0</td>\n",
              "      <td>0.0</td>\n",
              "      <td>0.0</td>\n",
              "      <td>0.0</td>\n",
              "      <td>0.0</td>\n",
              "      <td>0.0</td>\n",
              "      <td>0</td>\n",
              "      <td>0.0</td>\n",
              "      <td>0</td>\n",
              "      <td>0.0</td>\n",
              "      <td>0.0</td>\n",
              "      <td>0.0</td>\n",
              "      <td>0.0</td>\n",
              "      <td>0.0</td>\n",
              "      <td>0.0</td>\n",
              "      <td>0.0</td>\n",
              "      <td>0.0</td>\n",
              "      <td>0</td>\n",
              "      <td>0.0</td>\n",
              "      <td>0.0</td>\n",
              "      <td>0.0</td>\n",
              "      <td>0.0</td>\n",
              "      <td>0.0</td>\n",
              "      <td>0.0</td>\n",
              "      <td>0.0</td>\n",
              "      <td>0.0</td>\n",
              "    </tr>\n",
              "    <tr>\n",
              "      <th>2018-08-28</th>\n",
              "      <td>0</td>\n",
              "      <td>0</td>\n",
              "      <td>0</td>\n",
              "      <td>0.0</td>\n",
              "      <td>0.0</td>\n",
              "      <td>0.0</td>\n",
              "      <td>0.0</td>\n",
              "      <td>6.0</td>\n",
              "      <td>0</td>\n",
              "      <td>0.0</td>\n",
              "      <td>0.0</td>\n",
              "      <td>0.0</td>\n",
              "      <td>0.0</td>\n",
              "      <td>0.0</td>\n",
              "      <td>0</td>\n",
              "      <td>0.0</td>\n",
              "      <td>0.0</td>\n",
              "      <td>0.0</td>\n",
              "      <td>0.0</td>\n",
              "      <td>0.0</td>\n",
              "      <td>0.0</td>\n",
              "      <td>0.0</td>\n",
              "      <td>0</td>\n",
              "      <td>0.0</td>\n",
              "      <td>1.0</td>\n",
              "      <td>4.5</td>\n",
              "      <td>0</td>\n",
              "      <td>0</td>\n",
              "      <td>0.0</td>\n",
              "      <td>0.0</td>\n",
              "      <td>0.0</td>\n",
              "      <td>0.0</td>\n",
              "      <td>7.0</td>\n",
              "      <td>0.0</td>\n",
              "      <td>0.0</td>\n",
              "      <td>0.0</td>\n",
              "      <td>0.0</td>\n",
              "      <td>0.0</td>\n",
              "      <td>0</td>\n",
              "      <td>0.0</td>\n",
              "      <td>...</td>\n",
              "      <td>0</td>\n",
              "      <td>0</td>\n",
              "      <td>0</td>\n",
              "      <td>0</td>\n",
              "      <td>0</td>\n",
              "      <td>0</td>\n",
              "      <td>0</td>\n",
              "      <td>0</td>\n",
              "      <td>0</td>\n",
              "      <td>0</td>\n",
              "      <td>0.0</td>\n",
              "      <td>0.0</td>\n",
              "      <td>0.0</td>\n",
              "      <td>0.0</td>\n",
              "      <td>0.0</td>\n",
              "      <td>0.0</td>\n",
              "      <td>0.0</td>\n",
              "      <td>0.0</td>\n",
              "      <td>0.0</td>\n",
              "      <td>0.0</td>\n",
              "      <td>0</td>\n",
              "      <td>0.0</td>\n",
              "      <td>0</td>\n",
              "      <td>0.0</td>\n",
              "      <td>0.0</td>\n",
              "      <td>0.0</td>\n",
              "      <td>0.0</td>\n",
              "      <td>0.0</td>\n",
              "      <td>0.0</td>\n",
              "      <td>0.0</td>\n",
              "      <td>0.0</td>\n",
              "      <td>1</td>\n",
              "      <td>0.0</td>\n",
              "      <td>0.0</td>\n",
              "      <td>0.0</td>\n",
              "      <td>0.0</td>\n",
              "      <td>0.0</td>\n",
              "      <td>0.0</td>\n",
              "      <td>0.0</td>\n",
              "      <td>0.0</td>\n",
              "    </tr>\n",
              "  </tbody>\n",
              "</table>\n",
              "<p>5 rows × 1332 columns</p>\n",
              "</div>"
            ],
            "text/plain": [
              "item        10004PM  10004PS  10005  10005A  ...  R30683  R40008  R50084  R60013\n",
              "2018-08-24        0        0      0     0.0  ...     0.0     0.0     0.0     0.0\n",
              "2018-08-25        0        0      0     0.0  ...     0.0     0.0     0.0     0.0\n",
              "2018-08-26        0        0      0     0.0  ...     0.0     0.0     0.0     0.0\n",
              "2018-08-27        0        0      0     0.0  ...     0.0     0.0     0.0     0.0\n",
              "2018-08-28        0        0      0     0.0  ...     0.0     0.0     0.0     0.0\n",
              "\n",
              "[5 rows x 1332 columns]"
            ]
          },
          "metadata": {
            "tags": []
          },
          "execution_count": 39
        }
      ]
    },
    {
      "cell_type": "code",
      "metadata": {
        "id": "Bu_GnL97prmc",
        "colab_type": "code",
        "outputId": "4991ac99-55a0-4667-a58c-d1bc20beacef",
        "colab": {
          "base_uri": "https://localhost:8080/",
          "height": 252
        }
      },
      "source": [
        "dfwkly.index.unique()"
      ],
      "execution_count": 0,
      "outputs": [
        {
          "output_type": "execute_result",
          "data": {
            "text/plain": [
              "DatetimeIndex(['2018-08-24', '2018-08-31', '2018-09-07', '2018-09-14',\n",
              "               '2018-09-21', '2018-09-28', '2018-10-05', '2018-10-12',\n",
              "               '2018-10-19', '2018-10-26', '2018-11-02', '2018-11-09',\n",
              "               '2018-11-16', '2018-11-23', '2018-11-30', '2018-12-07',\n",
              "               '2018-12-14', '2018-12-21', '2018-12-28', '2019-01-04',\n",
              "               '2019-01-11', '2019-01-18', '2019-01-25', '2019-02-01',\n",
              "               '2019-02-08', '2019-02-15', '2019-02-22', '2019-03-01',\n",
              "               '2019-03-08', '2019-03-15', '2019-03-22', '2019-03-29',\n",
              "               '2019-04-05', '2019-04-12', '2019-04-19', '2019-04-26',\n",
              "               '2019-05-03', '2019-05-10', '2019-05-17', '2019-05-24',\n",
              "               '2019-05-31', '2019-06-07', '2019-06-14', '2019-06-21',\n",
              "               '2019-06-28', '2019-07-05', '2019-07-12', '2019-07-19',\n",
              "               '2019-07-26', '2019-08-02', '2019-08-09', '2019-08-16'],\n",
              "              dtype='datetime64[ns]', name='index', freq=None)"
            ]
          },
          "metadata": {
            "tags": []
          },
          "execution_count": 40
        }
      ]
    },
    {
      "cell_type": "code",
      "metadata": {
        "id": "rrFEAAx7lijV",
        "colab_type": "code",
        "outputId": "092dc486-f7b1-4018-babe-fa3ac8919297",
        "colab": {
          "base_uri": "https://localhost:8080/",
          "height": 34
        }
      },
      "source": [
        "dfqty.shape"
      ],
      "execution_count": 0,
      "outputs": [
        {
          "output_type": "execute_result",
          "data": {
            "text/plain": [
              "(365, 1332)"
            ]
          },
          "metadata": {
            "tags": []
          },
          "execution_count": 41
        }
      ]
    },
    {
      "cell_type": "code",
      "metadata": {
        "id": "qwN9TQWUlQ9u",
        "colab_type": "code",
        "outputId": "5ee8cadd-71f5-41ff-d622-f811cc67866d",
        "colab": {
          "base_uri": "https://localhost:8080/",
          "height": 50
        }
      },
      "source": [
        "#Creating a weekly DF\n",
        "\n",
        "dfwkly = dfqty.resample('7D').sum()\n",
        "print (dfwkly.shape)\n",
        "\n",
        "#resetting index to datetime\n",
        "dfwkly.index = pd.to_datetime(dfwkly.index)\n",
        "\n",
        "#Whoops accidentally did 53 weeks instead of 52! Let's fix that...\n",
        "dfwkly = dfwkly[:-1]\n",
        "\n",
        "print (dfwkly.shape)"
      ],
      "execution_count": 0,
      "outputs": [
        {
          "output_type": "stream",
          "text": [
            "(53, 1332)\n",
            "(52, 1332)\n"
          ],
          "name": "stdout"
        }
      ]
    },
    {
      "cell_type": "code",
      "metadata": {
        "id": "1k11yH_KSb_X",
        "colab_type": "code",
        "outputId": "9ca5c3a9-d42e-4bf9-921a-1dc8c0409d8e",
        "colab": {
          "base_uri": "https://localhost:8080/",
          "height": 134
        }
      },
      "source": [
        "#melting the training data\n",
        "\n",
        "dfwkly.reset_index(inplace= True) #reset index for melt\n",
        "melt = dfwkly.melt(id_vars='index', var_name='item', value_name='sales')\n",
        "melt = melt.sort_values(['index', 'item'])\n",
        "dfwkly.set_index('index', inplace= True) #put index back\n",
        "print (f'Number of Rows in the melted dataframe: {melt.shape}')\n",
        "num_rows= melt.shape[0]\n",
        "print (melt.head())"
      ],
      "execution_count": 0,
      "outputs": [
        {
          "output_type": "stream",
          "text": [
            "Number of Rows in the melted dataframe: (69264, 3)\n",
            "         index     item  sales\n",
            "0   2018-08-24  10004PM    0.0\n",
            "52  2018-08-24  10004PS    0.0\n",
            "104 2018-08-24    10005    0.0\n",
            "156 2018-08-24   10005A    0.0\n",
            "208 2018-08-24    10006    0.0\n"
          ],
          "name": "stdout"
        }
      ]
    },
    {
      "cell_type": "markdown",
      "metadata": {
        "id": "kOriaUwjSeic",
        "colab_type": "text"
      },
      "source": [
        "*Bueno! We have 486180 rows to work with!*"
      ]
    },
    {
      "cell_type": "markdown",
      "metadata": {
        "id": "YPLdMQKxSnr_",
        "colab_type": "text"
      },
      "source": [
        "# Feature Engineering\n",
        "\n",
        "We need to create lots of feature for the trees to sort with. After we run a couple test cases, we can also trim these down once we figure out which ones do not beneift the model. We will add the following:\n",
        "\n",
        "* Date features like day number, week number month number, ect.\n",
        ">* Day number of the week (0-6, where 0 = Monday, 6 =Sunday)\n",
        "* Lag and differences of the current weeks demand (usually very correlated, and generally the more the merrier)\n",
        ">* I will be taking the lags and differences in 7 day increments. Why? Because I want to model weekly demand, not daily. \n",
        "* Holiday Features\n",
        ">* As discussed with the client that pertains to their type of business\n"
      ]
    },
    {
      "cell_type": "code",
      "metadata": {
        "id": "AV7iw-brSfJL",
        "colab_type": "code",
        "outputId": "92f157b3-0f0a-46d2-c028-a02d2c2bf5ea",
        "colab": {
          "base_uri": "https://localhost:8080/",
          "height": 195
        }
      },
      "source": [
        "#Basic Feature engineering- Dates\n",
        "melt2 = melt.copy()\n",
        "\n",
        "melt2['date']= pd.to_datetime(melt2['index']) #converting index to a datetime\n",
        "melt2.drop(columns= ['index'], inplace= True)\n",
        "\n",
        "\n",
        "# Extracting date features\n",
        "melt2['dayofmonth'] = melt2.date.dt.day\n",
        "melt2['dayofyear'] = melt2.date.dt.dayofyear\n",
        "melt2['dayofweek'] = melt2.date.dt.dayofweek\n",
        "melt2['month'] = melt2.date.dt.month\n",
        "melt2['year'] = melt2.date.dt.year\n",
        "melt2['weekofyear'] = melt2.date.dt.weekofyear\n",
        "melt2['is_month_start'] = (melt2.date.dt.is_month_start).astype(int)\n",
        "melt2['is_month_end'] = (melt2.date.dt.is_month_end).astype(int)\n",
        "melt2.head()"
      ],
      "execution_count": 0,
      "outputs": [
        {
          "output_type": "execute_result",
          "data": {
            "text/html": [
              "<div>\n",
              "<style scoped>\n",
              "    .dataframe tbody tr th:only-of-type {\n",
              "        vertical-align: middle;\n",
              "    }\n",
              "\n",
              "    .dataframe tbody tr th {\n",
              "        vertical-align: top;\n",
              "    }\n",
              "\n",
              "    .dataframe thead th {\n",
              "        text-align: right;\n",
              "    }\n",
              "</style>\n",
              "<table border=\"1\" class=\"dataframe\">\n",
              "  <thead>\n",
              "    <tr style=\"text-align: right;\">\n",
              "      <th></th>\n",
              "      <th>item</th>\n",
              "      <th>sales</th>\n",
              "      <th>date</th>\n",
              "      <th>dayofmonth</th>\n",
              "      <th>dayofyear</th>\n",
              "      <th>dayofweek</th>\n",
              "      <th>month</th>\n",
              "      <th>year</th>\n",
              "      <th>weekofyear</th>\n",
              "      <th>is_month_start</th>\n",
              "      <th>is_month_end</th>\n",
              "    </tr>\n",
              "  </thead>\n",
              "  <tbody>\n",
              "    <tr>\n",
              "      <th>0</th>\n",
              "      <td>10004PM</td>\n",
              "      <td>0.0</td>\n",
              "      <td>2018-08-24</td>\n",
              "      <td>24</td>\n",
              "      <td>236</td>\n",
              "      <td>4</td>\n",
              "      <td>8</td>\n",
              "      <td>2018</td>\n",
              "      <td>34</td>\n",
              "      <td>0</td>\n",
              "      <td>0</td>\n",
              "    </tr>\n",
              "    <tr>\n",
              "      <th>52</th>\n",
              "      <td>10004PS</td>\n",
              "      <td>0.0</td>\n",
              "      <td>2018-08-24</td>\n",
              "      <td>24</td>\n",
              "      <td>236</td>\n",
              "      <td>4</td>\n",
              "      <td>8</td>\n",
              "      <td>2018</td>\n",
              "      <td>34</td>\n",
              "      <td>0</td>\n",
              "      <td>0</td>\n",
              "    </tr>\n",
              "    <tr>\n",
              "      <th>104</th>\n",
              "      <td>10005</td>\n",
              "      <td>0.0</td>\n",
              "      <td>2018-08-24</td>\n",
              "      <td>24</td>\n",
              "      <td>236</td>\n",
              "      <td>4</td>\n",
              "      <td>8</td>\n",
              "      <td>2018</td>\n",
              "      <td>34</td>\n",
              "      <td>0</td>\n",
              "      <td>0</td>\n",
              "    </tr>\n",
              "    <tr>\n",
              "      <th>156</th>\n",
              "      <td>10005A</td>\n",
              "      <td>0.0</td>\n",
              "      <td>2018-08-24</td>\n",
              "      <td>24</td>\n",
              "      <td>236</td>\n",
              "      <td>4</td>\n",
              "      <td>8</td>\n",
              "      <td>2018</td>\n",
              "      <td>34</td>\n",
              "      <td>0</td>\n",
              "      <td>0</td>\n",
              "    </tr>\n",
              "    <tr>\n",
              "      <th>208</th>\n",
              "      <td>10006</td>\n",
              "      <td>0.0</td>\n",
              "      <td>2018-08-24</td>\n",
              "      <td>24</td>\n",
              "      <td>236</td>\n",
              "      <td>4</td>\n",
              "      <td>8</td>\n",
              "      <td>2018</td>\n",
              "      <td>34</td>\n",
              "      <td>0</td>\n",
              "      <td>0</td>\n",
              "    </tr>\n",
              "  </tbody>\n",
              "</table>\n",
              "</div>"
            ],
            "text/plain": [
              "        item  sales       date  ...  weekofyear  is_month_start  is_month_end\n",
              "0    10004PM    0.0 2018-08-24  ...          34               0             0\n",
              "52   10004PS    0.0 2018-08-24  ...          34               0             0\n",
              "104    10005    0.0 2018-08-24  ...          34               0             0\n",
              "156   10005A    0.0 2018-08-24  ...          34               0             0\n",
              "208    10006    0.0 2018-08-24  ...          34               0             0\n",
              "\n",
              "[5 rows x 11 columns]"
            ]
          },
          "metadata": {
            "tags": []
          },
          "execution_count": 45
        }
      ]
    },
    {
      "cell_type": "code",
      "metadata": {
        "id": "bUXHhRG4rFG9",
        "colab_type": "code",
        "outputId": "98e0499e-66ac-45be-843b-cc42eb7e77f4",
        "colab": {
          "base_uri": "https://localhost:8080/",
          "height": 67
        }
      },
      "source": [
        "melt2.columns"
      ],
      "execution_count": 0,
      "outputs": [
        {
          "output_type": "execute_result",
          "data": {
            "text/plain": [
              "Index(['item', 'sales', 'date', 'dayofmonth', 'dayofyear', 'dayofweek',\n",
              "       'month', 'year', 'weekofyear', 'is_month_start', 'is_month_end'],\n",
              "      dtype='object')"
            ]
          },
          "metadata": {
            "tags": []
          },
          "execution_count": 46
        }
      ]
    },
    {
      "cell_type": "code",
      "metadata": {
        "id": "D_2fGhl7rTXf",
        "colab_type": "code",
        "outputId": "f4f53bb2-7968-4032-d216-c4d956a1accf",
        "colab": {
          "base_uri": "https://localhost:8080/",
          "height": 97
        }
      },
      "source": [
        "melt2.head()"
      ],
      "execution_count": 0,
      "outputs": [
        {
          "output_type": "execute_result",
          "data": {
            "text/html": [
              "<div>\n",
              "<style scoped>\n",
              "    .dataframe tbody tr th:only-of-type {\n",
              "        vertical-align: middle;\n",
              "    }\n",
              "\n",
              "    .dataframe tbody tr th {\n",
              "        vertical-align: top;\n",
              "    }\n",
              "\n",
              "    .dataframe thead th {\n",
              "        text-align: right;\n",
              "    }\n",
              "</style>\n",
              "<table border=\"1\" class=\"dataframe\">\n",
              "  <thead>\n",
              "    <tr style=\"text-align: right;\">\n",
              "      <th></th>\n",
              "      <th>item</th>\n",
              "      <th>sales</th>\n",
              "      <th>date</th>\n",
              "      <th>dayofmonth</th>\n",
              "      <th>dayofyear</th>\n",
              "      <th>dayofweek</th>\n",
              "      <th>month</th>\n",
              "      <th>year</th>\n",
              "      <th>weekofyear</th>\n",
              "      <th>is_month_start</th>\n",
              "      <th>is_month_end</th>\n",
              "      <th>last_wk_sales</th>\n",
              "      <th>last_wk_diff</th>\n",
              "      <th>log_sales</th>\n",
              "      <th>2wks_sales</th>\n",
              "      <th>2wks_diff</th>\n",
              "      <th>3wks_sales</th>\n",
              "      <th>3wks_diff</th>\n",
              "      <th>4wks_sales</th>\n",
              "      <th>4wks_diff</th>\n",
              "      <th>5wks_sales</th>\n",
              "      <th>5wks_diff</th>\n",
              "      <th>6wks_sales</th>\n",
              "      <th>6wks_diff</th>\n",
              "      <th>7wks_sales</th>\n",
              "      <th>7wks_diff</th>\n",
              "      <th>8wks_sales</th>\n",
              "      <th>8wks_diff</th>\n",
              "    </tr>\n",
              "    <tr>\n",
              "      <th>item</th>\n",
              "      <th></th>\n",
              "      <th></th>\n",
              "      <th></th>\n",
              "      <th></th>\n",
              "      <th></th>\n",
              "      <th></th>\n",
              "      <th></th>\n",
              "      <th></th>\n",
              "      <th></th>\n",
              "      <th></th>\n",
              "      <th></th>\n",
              "      <th></th>\n",
              "      <th></th>\n",
              "      <th></th>\n",
              "      <th></th>\n",
              "      <th></th>\n",
              "      <th></th>\n",
              "      <th></th>\n",
              "      <th></th>\n",
              "      <th></th>\n",
              "      <th></th>\n",
              "      <th></th>\n",
              "      <th></th>\n",
              "      <th></th>\n",
              "      <th></th>\n",
              "      <th></th>\n",
              "      <th></th>\n",
              "      <th></th>\n",
              "    </tr>\n",
              "  </thead>\n",
              "  <tbody>\n",
              "  </tbody>\n",
              "</table>\n",
              "</div>"
            ],
            "text/plain": [
              "Empty DataFrame\n",
              "Columns: [item, sales, date, dayofmonth, dayofyear, dayofweek, month, year, weekofyear, is_month_start, is_month_end, last_wk_sales, last_wk_diff, log_sales, 2wks_sales, 2wks_diff, 3wks_sales, 3wks_diff, 4wks_sales, 4wks_diff, 5wks_sales, 5wks_diff, 6wks_sales, 6wks_diff, 7wks_sales, 7wks_diff, 8wks_sales, 8wks_diff]\n",
              "Index: []"
            ]
          },
          "metadata": {
            "tags": []
          },
          "execution_count": 25
        }
      ]
    },
    {
      "cell_type": "code",
      "metadata": {
        "id": "6tLKxcnFSvfM",
        "colab_type": "code",
        "outputId": "38874fe0-63f9-468e-f322-1556384f7dfd",
        "colab": {
          "base_uri": "https://localhost:8080/",
          "height": 316
        }
      },
      "source": [
        "#Basic Feature Engineering- lags, differences, and logs-- These tend to help ALOT with time series data\n",
        "\n",
        "melt2['last_wk_sales'] = melt2.groupby(['item'])['sales'].shift(1)\n",
        "melt2['last_wk_diff'] = melt2.groupby(['item'])['sales'].diff(1)\n",
        "melt2['log_sales'] = np.log1p(melt2.sales.values)# Converting sales to log(1+sales)\n",
        "melt2['2wks_sales'] = melt2.groupby(['item'])['sales'].shift(2)\n",
        "melt2['2wks_diff'] = melt2.groupby(['item'])['sales'].diff(2)\n",
        "melt2['3wks_sales'] = melt2.groupby(['item'])['sales'].shift(3)\n",
        "melt2['3wks_diff'] = melt2.groupby(['item'])['sales'].diff(3)\n",
        "melt2['4wks_sales'] = melt2.groupby(['item'])['sales'].shift(4)\n",
        "melt2['4wks_diff'] = melt2.groupby(['item'])['sales'].diff(4)\n",
        "melt2['5wks_sales'] = melt2.groupby(['item'])['sales'].shift(5)\n",
        "melt2['5wks_diff'] = melt2.groupby(['item'])['sales'].diff(5)\n",
        "melt2['6wks_sales'] = melt2.groupby(['item'])['sales'].shift(6)\n",
        "melt2['6wks_diff'] = melt2.groupby(['item'])['sales'].diff(6)\n",
        "melt2['7wks_sales'] = melt2.groupby(['item'])['sales'].shift(7)\n",
        "melt2['7wks_diff'] = melt2.groupby(['item'])['sales'].diff(7)\n",
        "melt2['8wks_sales'] = melt2.groupby(['item'])['sales'].shift(7)\n",
        "melt2['8wks_diff'] = melt2.groupby(['item'])['sales'].diff(7)\n",
        "melt2 = melt2.dropna()\n",
        "\n",
        "print (f'Number of Rows lost by differencing: {num_rows-melt2.shape[0]}') #how many rows did we loose from the differencing?\n",
        "melt2.head()"
      ],
      "execution_count": 0,
      "outputs": [
        {
          "output_type": "stream",
          "text": [
            "Number of Rows lost by differencing: 9324\n"
          ],
          "name": "stdout"
        },
        {
          "output_type": "execute_result",
          "data": {
            "text/html": [
              "<div>\n",
              "<style scoped>\n",
              "    .dataframe tbody tr th:only-of-type {\n",
              "        vertical-align: middle;\n",
              "    }\n",
              "\n",
              "    .dataframe tbody tr th {\n",
              "        vertical-align: top;\n",
              "    }\n",
              "\n",
              "    .dataframe thead th {\n",
              "        text-align: right;\n",
              "    }\n",
              "</style>\n",
              "<table border=\"1\" class=\"dataframe\">\n",
              "  <thead>\n",
              "    <tr style=\"text-align: right;\">\n",
              "      <th></th>\n",
              "      <th>item</th>\n",
              "      <th>sales</th>\n",
              "      <th>date</th>\n",
              "      <th>dayofmonth</th>\n",
              "      <th>dayofyear</th>\n",
              "      <th>dayofweek</th>\n",
              "      <th>month</th>\n",
              "      <th>year</th>\n",
              "      <th>weekofyear</th>\n",
              "      <th>is_month_start</th>\n",
              "      <th>is_month_end</th>\n",
              "      <th>last_wk_sales</th>\n",
              "      <th>last_wk_diff</th>\n",
              "      <th>log_sales</th>\n",
              "      <th>2wks_sales</th>\n",
              "      <th>2wks_diff</th>\n",
              "      <th>3wks_sales</th>\n",
              "      <th>3wks_diff</th>\n",
              "      <th>4wks_sales</th>\n",
              "      <th>4wks_diff</th>\n",
              "      <th>5wks_sales</th>\n",
              "      <th>5wks_diff</th>\n",
              "      <th>6wks_sales</th>\n",
              "      <th>6wks_diff</th>\n",
              "      <th>7wks_sales</th>\n",
              "      <th>7wks_diff</th>\n",
              "      <th>8wks_sales</th>\n",
              "      <th>8wks_diff</th>\n",
              "    </tr>\n",
              "  </thead>\n",
              "  <tbody>\n",
              "    <tr>\n",
              "      <th>7</th>\n",
              "      <td>10004PM</td>\n",
              "      <td>0.0</td>\n",
              "      <td>2018-10-12</td>\n",
              "      <td>12</td>\n",
              "      <td>285</td>\n",
              "      <td>4</td>\n",
              "      <td>10</td>\n",
              "      <td>2018</td>\n",
              "      <td>41</td>\n",
              "      <td>0</td>\n",
              "      <td>0</td>\n",
              "      <td>0.0</td>\n",
              "      <td>0.0</td>\n",
              "      <td>0.0</td>\n",
              "      <td>0.0</td>\n",
              "      <td>0.0</td>\n",
              "      <td>0.0</td>\n",
              "      <td>0.0</td>\n",
              "      <td>0.0</td>\n",
              "      <td>0.0</td>\n",
              "      <td>0.0</td>\n",
              "      <td>0.0</td>\n",
              "      <td>0.0</td>\n",
              "      <td>0.0</td>\n",
              "      <td>0.0</td>\n",
              "      <td>0.0</td>\n",
              "      <td>0.0</td>\n",
              "      <td>0.0</td>\n",
              "    </tr>\n",
              "    <tr>\n",
              "      <th>59</th>\n",
              "      <td>10004PS</td>\n",
              "      <td>0.0</td>\n",
              "      <td>2018-10-12</td>\n",
              "      <td>12</td>\n",
              "      <td>285</td>\n",
              "      <td>4</td>\n",
              "      <td>10</td>\n",
              "      <td>2018</td>\n",
              "      <td>41</td>\n",
              "      <td>0</td>\n",
              "      <td>0</td>\n",
              "      <td>0.0</td>\n",
              "      <td>0.0</td>\n",
              "      <td>0.0</td>\n",
              "      <td>0.0</td>\n",
              "      <td>0.0</td>\n",
              "      <td>0.0</td>\n",
              "      <td>0.0</td>\n",
              "      <td>0.0</td>\n",
              "      <td>0.0</td>\n",
              "      <td>0.0</td>\n",
              "      <td>0.0</td>\n",
              "      <td>0.0</td>\n",
              "      <td>0.0</td>\n",
              "      <td>0.0</td>\n",
              "      <td>0.0</td>\n",
              "      <td>0.0</td>\n",
              "      <td>0.0</td>\n",
              "    </tr>\n",
              "    <tr>\n",
              "      <th>111</th>\n",
              "      <td>10005</td>\n",
              "      <td>0.0</td>\n",
              "      <td>2018-10-12</td>\n",
              "      <td>12</td>\n",
              "      <td>285</td>\n",
              "      <td>4</td>\n",
              "      <td>10</td>\n",
              "      <td>2018</td>\n",
              "      <td>41</td>\n",
              "      <td>0</td>\n",
              "      <td>0</td>\n",
              "      <td>0.0</td>\n",
              "      <td>0.0</td>\n",
              "      <td>0.0</td>\n",
              "      <td>0.0</td>\n",
              "      <td>0.0</td>\n",
              "      <td>0.0</td>\n",
              "      <td>0.0</td>\n",
              "      <td>0.0</td>\n",
              "      <td>0.0</td>\n",
              "      <td>0.0</td>\n",
              "      <td>0.0</td>\n",
              "      <td>0.0</td>\n",
              "      <td>0.0</td>\n",
              "      <td>0.0</td>\n",
              "      <td>0.0</td>\n",
              "      <td>0.0</td>\n",
              "      <td>0.0</td>\n",
              "    </tr>\n",
              "    <tr>\n",
              "      <th>163</th>\n",
              "      <td>10005A</td>\n",
              "      <td>0.0</td>\n",
              "      <td>2018-10-12</td>\n",
              "      <td>12</td>\n",
              "      <td>285</td>\n",
              "      <td>4</td>\n",
              "      <td>10</td>\n",
              "      <td>2018</td>\n",
              "      <td>41</td>\n",
              "      <td>0</td>\n",
              "      <td>0</td>\n",
              "      <td>0.0</td>\n",
              "      <td>0.0</td>\n",
              "      <td>0.0</td>\n",
              "      <td>0.0</td>\n",
              "      <td>0.0</td>\n",
              "      <td>0.0</td>\n",
              "      <td>0.0</td>\n",
              "      <td>0.0</td>\n",
              "      <td>0.0</td>\n",
              "      <td>0.0</td>\n",
              "      <td>0.0</td>\n",
              "      <td>0.0</td>\n",
              "      <td>0.0</td>\n",
              "      <td>0.0</td>\n",
              "      <td>0.0</td>\n",
              "      <td>0.0</td>\n",
              "      <td>0.0</td>\n",
              "    </tr>\n",
              "    <tr>\n",
              "      <th>215</th>\n",
              "      <td>10006</td>\n",
              "      <td>0.0</td>\n",
              "      <td>2018-10-12</td>\n",
              "      <td>12</td>\n",
              "      <td>285</td>\n",
              "      <td>4</td>\n",
              "      <td>10</td>\n",
              "      <td>2018</td>\n",
              "      <td>41</td>\n",
              "      <td>0</td>\n",
              "      <td>0</td>\n",
              "      <td>0.0</td>\n",
              "      <td>0.0</td>\n",
              "      <td>0.0</td>\n",
              "      <td>0.0</td>\n",
              "      <td>0.0</td>\n",
              "      <td>0.0</td>\n",
              "      <td>0.0</td>\n",
              "      <td>0.0</td>\n",
              "      <td>0.0</td>\n",
              "      <td>0.0</td>\n",
              "      <td>0.0</td>\n",
              "      <td>0.0</td>\n",
              "      <td>0.0</td>\n",
              "      <td>0.0</td>\n",
              "      <td>0.0</td>\n",
              "      <td>0.0</td>\n",
              "      <td>0.0</td>\n",
              "    </tr>\n",
              "  </tbody>\n",
              "</table>\n",
              "</div>"
            ],
            "text/plain": [
              "        item  sales       date  ...  7wks_diff  8wks_sales  8wks_diff\n",
              "7    10004PM    0.0 2018-10-12  ...        0.0         0.0        0.0\n",
              "59   10004PS    0.0 2018-10-12  ...        0.0         0.0        0.0\n",
              "111    10005    0.0 2018-10-12  ...        0.0         0.0        0.0\n",
              "163   10005A    0.0 2018-10-12  ...        0.0         0.0        0.0\n",
              "215    10006    0.0 2018-10-12  ...        0.0         0.0        0.0\n",
              "\n",
              "[5 rows x 28 columns]"
            ]
          },
          "metadata": {
            "tags": []
          },
          "execution_count": 47
        }
      ]
    },
    {
      "cell_type": "code",
      "metadata": {
        "id": "xsY37tELffuE",
        "colab_type": "code",
        "colab": {}
      },
      "source": [
        "#converting date to index datetime\n",
        "melt2.date = pd.to_datetime(melt2.date)\n",
        "melt2.set_index('date', inplace= True)"
      ],
      "execution_count": 0,
      "outputs": []
    },
    {
      "cell_type": "code",
      "metadata": {
        "id": "whSDslfktkHu",
        "colab_type": "code",
        "outputId": "08f0280d-7fe0-4229-ae61-2013be30f3c9",
        "colab": {
          "base_uri": "https://localhost:8080/",
          "height": 1000
        }
      },
      "source": [
        "#Adding Holidays--- these were events discussed with the customer\n",
        "\n",
        "#adding holidays--- just create a column with a bunch of True and Falses for each holiday\n",
        "melt2[\"new_years\"] = melt2.index.dayofyear == 1\n",
        "melt2[\"christmas\"] = (melt2.index.month == 12) & ((melt2.index.day >= 18)&(melt2.index.day <= 26))\n",
        "melt2[\"thanksgiving\"] = (melt2.index.month == 11) & ((melt2.index.day >= 22)&(melt2.index.day <= 27))\n",
        "melt2[\"farm2table\"] = (melt2.index.month == 7) & ((melt2.index.day >= 1)&(melt2.index.day <= 15))\n",
        "melt2[\"memorial_day\"] = (melt2.index.month == 5) & ((melt2.index.day >= 18)&(melt2.index.day <= 28))\n",
        "melt2[\"back_to_school\"] = (melt2.index.month == 9) & (melt2.index.day == 1)\n"
      ],
      "execution_count": 0,
      "outputs": [
        {
          "output_type": "error",
          "ename": "KeyError",
          "evalue": "ignored",
          "traceback": [
            "\u001b[0;31m---------------------------------------------------------------------------\u001b[0m",
            "\u001b[0;31mKeyError\u001b[0m                                  Traceback (most recent call last)",
            "\u001b[0;32m/usr/local/lib/python3.6/dist-packages/pandas/core/indexes/base.py\u001b[0m in \u001b[0;36mget_loc\u001b[0;34m(self, key, method, tolerance)\u001b[0m\n\u001b[1;32m   2896\u001b[0m             \u001b[0;32mtry\u001b[0m\u001b[0;34m:\u001b[0m\u001b[0;34m\u001b[0m\u001b[0;34m\u001b[0m\u001b[0m\n\u001b[0;32m-> 2897\u001b[0;31m                 \u001b[0;32mreturn\u001b[0m \u001b[0mself\u001b[0m\u001b[0;34m.\u001b[0m\u001b[0m_engine\u001b[0m\u001b[0;34m.\u001b[0m\u001b[0mget_loc\u001b[0m\u001b[0;34m(\u001b[0m\u001b[0mkey\u001b[0m\u001b[0;34m)\u001b[0m\u001b[0;34m\u001b[0m\u001b[0;34m\u001b[0m\u001b[0m\n\u001b[0m\u001b[1;32m   2898\u001b[0m             \u001b[0;32mexcept\u001b[0m \u001b[0mKeyError\u001b[0m\u001b[0;34m:\u001b[0m\u001b[0;34m\u001b[0m\u001b[0;34m\u001b[0m\u001b[0m\n",
            "\u001b[0;32mpandas/_libs/index.pyx\u001b[0m in \u001b[0;36mpandas._libs.index.DatetimeEngine.get_loc\u001b[0;34m()\u001b[0m\n",
            "\u001b[0;32mpandas/_libs/index.pyx\u001b[0m in \u001b[0;36mpandas._libs.index.DatetimeEngine.get_loc\u001b[0;34m()\u001b[0m\n",
            "\u001b[0;32mpandas/_libs/index.pyx\u001b[0m in \u001b[0;36mpandas._libs.index.IndexEngine._get_loc_duplicates\u001b[0;34m()\u001b[0m\n",
            "\u001b[0;31mKeyError\u001b[0m: '2018-12-31'",
            "\nDuring handling of the above exception, another exception occurred:\n",
            "\u001b[0;31mKeyError\u001b[0m                                  Traceback (most recent call last)",
            "\u001b[0;32m/usr/local/lib/python3.6/dist-packages/pandas/core/indexes/datetimes.py\u001b[0m in \u001b[0;36mget_loc\u001b[0;34m(self, key, method, tolerance)\u001b[0m\n\u001b[1;32m   1056\u001b[0m         \u001b[0;32mtry\u001b[0m\u001b[0;34m:\u001b[0m\u001b[0;34m\u001b[0m\u001b[0;34m\u001b[0m\u001b[0m\n\u001b[0;32m-> 1057\u001b[0;31m             \u001b[0;32mreturn\u001b[0m \u001b[0mIndex\u001b[0m\u001b[0;34m.\u001b[0m\u001b[0mget_loc\u001b[0m\u001b[0;34m(\u001b[0m\u001b[0mself\u001b[0m\u001b[0;34m,\u001b[0m \u001b[0mkey\u001b[0m\u001b[0;34m,\u001b[0m \u001b[0mmethod\u001b[0m\u001b[0;34m,\u001b[0m \u001b[0mtolerance\u001b[0m\u001b[0;34m)\u001b[0m\u001b[0;34m\u001b[0m\u001b[0;34m\u001b[0m\u001b[0m\n\u001b[0m\u001b[1;32m   1058\u001b[0m         \u001b[0;32mexcept\u001b[0m \u001b[0;34m(\u001b[0m\u001b[0mKeyError\u001b[0m\u001b[0;34m,\u001b[0m \u001b[0mValueError\u001b[0m\u001b[0;34m,\u001b[0m \u001b[0mTypeError\u001b[0m\u001b[0;34m)\u001b[0m\u001b[0;34m:\u001b[0m\u001b[0;34m\u001b[0m\u001b[0;34m\u001b[0m\u001b[0m\n",
            "\u001b[0;32m/usr/local/lib/python3.6/dist-packages/pandas/core/indexes/base.py\u001b[0m in \u001b[0;36mget_loc\u001b[0;34m(self, key, method, tolerance)\u001b[0m\n\u001b[1;32m   2898\u001b[0m             \u001b[0;32mexcept\u001b[0m \u001b[0mKeyError\u001b[0m\u001b[0;34m:\u001b[0m\u001b[0;34m\u001b[0m\u001b[0;34m\u001b[0m\u001b[0m\n\u001b[0;32m-> 2899\u001b[0;31m                 \u001b[0;32mreturn\u001b[0m \u001b[0mself\u001b[0m\u001b[0;34m.\u001b[0m\u001b[0m_engine\u001b[0m\u001b[0;34m.\u001b[0m\u001b[0mget_loc\u001b[0m\u001b[0;34m(\u001b[0m\u001b[0mself\u001b[0m\u001b[0;34m.\u001b[0m\u001b[0m_maybe_cast_indexer\u001b[0m\u001b[0;34m(\u001b[0m\u001b[0mkey\u001b[0m\u001b[0;34m)\u001b[0m\u001b[0;34m)\u001b[0m\u001b[0;34m\u001b[0m\u001b[0;34m\u001b[0m\u001b[0m\n\u001b[0m\u001b[1;32m   2900\u001b[0m         \u001b[0mindexer\u001b[0m \u001b[0;34m=\u001b[0m \u001b[0mself\u001b[0m\u001b[0;34m.\u001b[0m\u001b[0mget_indexer\u001b[0m\u001b[0;34m(\u001b[0m\u001b[0;34m[\u001b[0m\u001b[0mkey\u001b[0m\u001b[0;34m]\u001b[0m\u001b[0;34m,\u001b[0m \u001b[0mmethod\u001b[0m\u001b[0;34m=\u001b[0m\u001b[0mmethod\u001b[0m\u001b[0;34m,\u001b[0m \u001b[0mtolerance\u001b[0m\u001b[0;34m=\u001b[0m\u001b[0mtolerance\u001b[0m\u001b[0;34m)\u001b[0m\u001b[0;34m\u001b[0m\u001b[0;34m\u001b[0m\u001b[0m\n",
            "\u001b[0;32mpandas/_libs/index.pyx\u001b[0m in \u001b[0;36mpandas._libs.index.DatetimeEngine.get_loc\u001b[0;34m()\u001b[0m\n",
            "\u001b[0;32mpandas/_libs/index.pyx\u001b[0m in \u001b[0;36mpandas._libs.index.DatetimeEngine.get_loc\u001b[0;34m()\u001b[0m\n",
            "\u001b[0;32mpandas/_libs/index.pyx\u001b[0m in \u001b[0;36mpandas._libs.index.IndexEngine._get_loc_duplicates\u001b[0;34m()\u001b[0m\n",
            "\u001b[0;31mKeyError\u001b[0m: '2018-12-31'",
            "\nDuring handling of the above exception, another exception occurred:\n",
            "\u001b[0;31mKeyError\u001b[0m                                  Traceback (most recent call last)",
            "\u001b[0;32m/usr/local/lib/python3.6/dist-packages/pandas/core/indexes/base.py\u001b[0m in \u001b[0;36mget_loc\u001b[0;34m(self, key, method, tolerance)\u001b[0m\n\u001b[1;32m   2896\u001b[0m             \u001b[0;32mtry\u001b[0m\u001b[0;34m:\u001b[0m\u001b[0;34m\u001b[0m\u001b[0;34m\u001b[0m\u001b[0m\n\u001b[0;32m-> 2897\u001b[0;31m                 \u001b[0;32mreturn\u001b[0m \u001b[0mself\u001b[0m\u001b[0;34m.\u001b[0m\u001b[0m_engine\u001b[0m\u001b[0;34m.\u001b[0m\u001b[0mget_loc\u001b[0m\u001b[0;34m(\u001b[0m\u001b[0mkey\u001b[0m\u001b[0;34m)\u001b[0m\u001b[0;34m\u001b[0m\u001b[0;34m\u001b[0m\u001b[0m\n\u001b[0m\u001b[1;32m   2898\u001b[0m             \u001b[0;32mexcept\u001b[0m \u001b[0mKeyError\u001b[0m\u001b[0;34m:\u001b[0m\u001b[0;34m\u001b[0m\u001b[0;34m\u001b[0m\u001b[0m\n",
            "\u001b[0;32mpandas/_libs/index.pyx\u001b[0m in \u001b[0;36mpandas._libs.index.DatetimeEngine.get_loc\u001b[0;34m()\u001b[0m\n",
            "\u001b[0;32mpandas/_libs/index.pyx\u001b[0m in \u001b[0;36mpandas._libs.index.DatetimeEngine.get_loc\u001b[0;34m()\u001b[0m\n",
            "\u001b[0;32mpandas/_libs/index.pyx\u001b[0m in \u001b[0;36mpandas._libs.index.IndexEngine._get_loc_duplicates\u001b[0;34m()\u001b[0m\n",
            "\u001b[0;31mKeyError\u001b[0m: 1546214400000000000",
            "\nDuring handling of the above exception, another exception occurred:\n",
            "\u001b[0;31mKeyError\u001b[0m                                  Traceback (most recent call last)",
            "\u001b[0;32m/usr/local/lib/python3.6/dist-packages/pandas/core/indexes/datetimes.py\u001b[0m in \u001b[0;36mget_loc\u001b[0;34m(self, key, method, tolerance)\u001b[0m\n\u001b[1;32m   1069\u001b[0m                     \u001b[0mstamp\u001b[0m \u001b[0;34m=\u001b[0m \u001b[0mstamp\u001b[0m\u001b[0;34m.\u001b[0m\u001b[0mtz_localize\u001b[0m\u001b[0;34m(\u001b[0m\u001b[0mself\u001b[0m\u001b[0;34m.\u001b[0m\u001b[0mtz\u001b[0m\u001b[0;34m)\u001b[0m\u001b[0;34m\u001b[0m\u001b[0;34m\u001b[0m\u001b[0m\n\u001b[0;32m-> 1070\u001b[0;31m                 \u001b[0;32mreturn\u001b[0m \u001b[0mIndex\u001b[0m\u001b[0;34m.\u001b[0m\u001b[0mget_loc\u001b[0m\u001b[0;34m(\u001b[0m\u001b[0mself\u001b[0m\u001b[0;34m,\u001b[0m \u001b[0mstamp\u001b[0m\u001b[0;34m,\u001b[0m \u001b[0mmethod\u001b[0m\u001b[0;34m,\u001b[0m \u001b[0mtolerance\u001b[0m\u001b[0;34m)\u001b[0m\u001b[0;34m\u001b[0m\u001b[0;34m\u001b[0m\u001b[0m\n\u001b[0m\u001b[1;32m   1071\u001b[0m             \u001b[0;32mexcept\u001b[0m \u001b[0mKeyError\u001b[0m\u001b[0;34m:\u001b[0m\u001b[0;34m\u001b[0m\u001b[0;34m\u001b[0m\u001b[0m\n",
            "\u001b[0;32m/usr/local/lib/python3.6/dist-packages/pandas/core/indexes/base.py\u001b[0m in \u001b[0;36mget_loc\u001b[0;34m(self, key, method, tolerance)\u001b[0m\n\u001b[1;32m   2898\u001b[0m             \u001b[0;32mexcept\u001b[0m \u001b[0mKeyError\u001b[0m\u001b[0;34m:\u001b[0m\u001b[0;34m\u001b[0m\u001b[0;34m\u001b[0m\u001b[0m\n\u001b[0;32m-> 2899\u001b[0;31m                 \u001b[0;32mreturn\u001b[0m \u001b[0mself\u001b[0m\u001b[0;34m.\u001b[0m\u001b[0m_engine\u001b[0m\u001b[0;34m.\u001b[0m\u001b[0mget_loc\u001b[0m\u001b[0;34m(\u001b[0m\u001b[0mself\u001b[0m\u001b[0;34m.\u001b[0m\u001b[0m_maybe_cast_indexer\u001b[0m\u001b[0;34m(\u001b[0m\u001b[0mkey\u001b[0m\u001b[0;34m)\u001b[0m\u001b[0;34m)\u001b[0m\u001b[0;34m\u001b[0m\u001b[0;34m\u001b[0m\u001b[0m\n\u001b[0m\u001b[1;32m   2900\u001b[0m         \u001b[0mindexer\u001b[0m \u001b[0;34m=\u001b[0m \u001b[0mself\u001b[0m\u001b[0;34m.\u001b[0m\u001b[0mget_indexer\u001b[0m\u001b[0;34m(\u001b[0m\u001b[0;34m[\u001b[0m\u001b[0mkey\u001b[0m\u001b[0;34m]\u001b[0m\u001b[0;34m,\u001b[0m \u001b[0mmethod\u001b[0m\u001b[0;34m=\u001b[0m\u001b[0mmethod\u001b[0m\u001b[0;34m,\u001b[0m \u001b[0mtolerance\u001b[0m\u001b[0;34m=\u001b[0m\u001b[0mtolerance\u001b[0m\u001b[0;34m)\u001b[0m\u001b[0;34m\u001b[0m\u001b[0;34m\u001b[0m\u001b[0m\n",
            "\u001b[0;32mpandas/_libs/index.pyx\u001b[0m in \u001b[0;36mpandas._libs.index.DatetimeEngine.get_loc\u001b[0;34m()\u001b[0m\n",
            "\u001b[0;32mpandas/_libs/index.pyx\u001b[0m in \u001b[0;36mpandas._libs.index.DatetimeEngine.get_loc\u001b[0;34m()\u001b[0m\n",
            "\u001b[0;32mpandas/_libs/index.pyx\u001b[0m in \u001b[0;36mpandas._libs.index.IndexEngine._get_loc_duplicates\u001b[0;34m()\u001b[0m\n",
            "\u001b[0;31mKeyError\u001b[0m: 1546214400000000000",
            "\nDuring handling of the above exception, another exception occurred:\n",
            "\u001b[0;31mKeyError\u001b[0m                                  Traceback (most recent call last)",
            "\u001b[0;32m<ipython-input-49-73aca3260dcd>\u001b[0m in \u001b[0;36m<module>\u001b[0;34m()\u001b[0m\n\u001b[1;32m      5\u001b[0m \u001b[0mmelt2\u001b[0m\u001b[0;34m[\u001b[0m\u001b[0;34m\"memorial_day\"\u001b[0m\u001b[0;34m]\u001b[0m \u001b[0;34m=\u001b[0m \u001b[0;34m(\u001b[0m\u001b[0mmelt2\u001b[0m\u001b[0;34m.\u001b[0m\u001b[0mindex\u001b[0m\u001b[0;34m.\u001b[0m\u001b[0mmonth\u001b[0m \u001b[0;34m==\u001b[0m \u001b[0;36m5\u001b[0m\u001b[0;34m)\u001b[0m \u001b[0;34m&\u001b[0m \u001b[0;34m(\u001b[0m\u001b[0;34m(\u001b[0m\u001b[0mmelt2\u001b[0m\u001b[0;34m.\u001b[0m\u001b[0mindex\u001b[0m\u001b[0;34m.\u001b[0m\u001b[0mday\u001b[0m \u001b[0;34m>=\u001b[0m \u001b[0;36m18\u001b[0m\u001b[0;34m)\u001b[0m\u001b[0;34m&\u001b[0m\u001b[0;34m(\u001b[0m\u001b[0mmelt2\u001b[0m\u001b[0;34m.\u001b[0m\u001b[0mindex\u001b[0m\u001b[0;34m.\u001b[0m\u001b[0mday\u001b[0m \u001b[0;34m<=\u001b[0m \u001b[0;36m28\u001b[0m\u001b[0;34m)\u001b[0m\u001b[0;34m)\u001b[0m\u001b[0;34m\u001b[0m\u001b[0;34m\u001b[0m\u001b[0m\n\u001b[1;32m      6\u001b[0m \u001b[0mmelt2\u001b[0m\u001b[0;34m[\u001b[0m\u001b[0;34m\"back_to_school\"\u001b[0m\u001b[0;34m]\u001b[0m \u001b[0;34m=\u001b[0m \u001b[0;34m(\u001b[0m\u001b[0mmelt2\u001b[0m\u001b[0;34m.\u001b[0m\u001b[0mindex\u001b[0m\u001b[0;34m.\u001b[0m\u001b[0mmonth\u001b[0m \u001b[0;34m==\u001b[0m \u001b[0;36m9\u001b[0m\u001b[0;34m)\u001b[0m \u001b[0;34m&\u001b[0m \u001b[0;34m(\u001b[0m\u001b[0mmelt2\u001b[0m\u001b[0;34m.\u001b[0m\u001b[0mindex\u001b[0m\u001b[0;34m.\u001b[0m\u001b[0mday\u001b[0m \u001b[0;34m==\u001b[0m \u001b[0;36m1\u001b[0m\u001b[0;34m)\u001b[0m\u001b[0;34m\u001b[0m\u001b[0;34m\u001b[0m\u001b[0m\n\u001b[0;32m----> 7\u001b[0;31m \u001b[0mmelt2\u001b[0m\u001b[0;34m.\u001b[0m\u001b[0mloc\u001b[0m\u001b[0;34m[\u001b[0m\u001b[0;34m'2018-12-31'\u001b[0m\u001b[0;34m]\u001b[0m \u001b[0;31m#double checking\u001b[0m\u001b[0;34m\u001b[0m\u001b[0;34m\u001b[0m\u001b[0m\n\u001b[0m",
            "\u001b[0;32m/usr/local/lib/python3.6/dist-packages/pandas/core/indexing.py\u001b[0m in \u001b[0;36m__getitem__\u001b[0;34m(self, key)\u001b[0m\n\u001b[1;32m   1422\u001b[0m \u001b[0;34m\u001b[0m\u001b[0m\n\u001b[1;32m   1423\u001b[0m             \u001b[0mmaybe_callable\u001b[0m \u001b[0;34m=\u001b[0m \u001b[0mcom\u001b[0m\u001b[0;34m.\u001b[0m\u001b[0mapply_if_callable\u001b[0m\u001b[0;34m(\u001b[0m\u001b[0mkey\u001b[0m\u001b[0;34m,\u001b[0m \u001b[0mself\u001b[0m\u001b[0;34m.\u001b[0m\u001b[0mobj\u001b[0m\u001b[0;34m)\u001b[0m\u001b[0;34m\u001b[0m\u001b[0;34m\u001b[0m\u001b[0m\n\u001b[0;32m-> 1424\u001b[0;31m             \u001b[0;32mreturn\u001b[0m \u001b[0mself\u001b[0m\u001b[0;34m.\u001b[0m\u001b[0m_getitem_axis\u001b[0m\u001b[0;34m(\u001b[0m\u001b[0mmaybe_callable\u001b[0m\u001b[0;34m,\u001b[0m \u001b[0maxis\u001b[0m\u001b[0;34m=\u001b[0m\u001b[0maxis\u001b[0m\u001b[0;34m)\u001b[0m\u001b[0;34m\u001b[0m\u001b[0;34m\u001b[0m\u001b[0m\n\u001b[0m\u001b[1;32m   1425\u001b[0m \u001b[0;34m\u001b[0m\u001b[0m\n\u001b[1;32m   1426\u001b[0m     \u001b[0;32mdef\u001b[0m \u001b[0m_is_scalar_access\u001b[0m\u001b[0;34m(\u001b[0m\u001b[0mself\u001b[0m\u001b[0;34m,\u001b[0m \u001b[0mkey\u001b[0m\u001b[0;34m:\u001b[0m \u001b[0mTuple\u001b[0m\u001b[0;34m)\u001b[0m\u001b[0;34m:\u001b[0m\u001b[0;34m\u001b[0m\u001b[0;34m\u001b[0m\u001b[0m\n",
            "\u001b[0;32m/usr/local/lib/python3.6/dist-packages/pandas/core/indexing.py\u001b[0m in \u001b[0;36m_getitem_axis\u001b[0;34m(self, key, axis)\u001b[0m\n\u001b[1;32m   1848\u001b[0m         \u001b[0;31m# fall thru to straight lookup\u001b[0m\u001b[0;34m\u001b[0m\u001b[0;34m\u001b[0m\u001b[0;34m\u001b[0m\u001b[0m\n\u001b[1;32m   1849\u001b[0m         \u001b[0mself\u001b[0m\u001b[0;34m.\u001b[0m\u001b[0m_validate_key\u001b[0m\u001b[0;34m(\u001b[0m\u001b[0mkey\u001b[0m\u001b[0;34m,\u001b[0m \u001b[0maxis\u001b[0m\u001b[0;34m)\u001b[0m\u001b[0;34m\u001b[0m\u001b[0;34m\u001b[0m\u001b[0m\n\u001b[0;32m-> 1850\u001b[0;31m         \u001b[0;32mreturn\u001b[0m \u001b[0mself\u001b[0m\u001b[0;34m.\u001b[0m\u001b[0m_get_label\u001b[0m\u001b[0;34m(\u001b[0m\u001b[0mkey\u001b[0m\u001b[0;34m,\u001b[0m \u001b[0maxis\u001b[0m\u001b[0;34m=\u001b[0m\u001b[0maxis\u001b[0m\u001b[0;34m)\u001b[0m\u001b[0;34m\u001b[0m\u001b[0;34m\u001b[0m\u001b[0m\n\u001b[0m\u001b[1;32m   1851\u001b[0m \u001b[0;34m\u001b[0m\u001b[0m\n\u001b[1;32m   1852\u001b[0m \u001b[0;34m\u001b[0m\u001b[0m\n",
            "\u001b[0;32m/usr/local/lib/python3.6/dist-packages/pandas/core/indexing.py\u001b[0m in \u001b[0;36m_get_label\u001b[0;34m(self, label, axis)\u001b[0m\n\u001b[1;32m    158\u001b[0m             \u001b[0;32mraise\u001b[0m \u001b[0mIndexingError\u001b[0m\u001b[0;34m(\u001b[0m\u001b[0;34m\"no slices here, handle elsewhere\"\u001b[0m\u001b[0;34m)\u001b[0m\u001b[0;34m\u001b[0m\u001b[0;34m\u001b[0m\u001b[0m\n\u001b[1;32m    159\u001b[0m \u001b[0;34m\u001b[0m\u001b[0m\n\u001b[0;32m--> 160\u001b[0;31m         \u001b[0;32mreturn\u001b[0m \u001b[0mself\u001b[0m\u001b[0;34m.\u001b[0m\u001b[0mobj\u001b[0m\u001b[0;34m.\u001b[0m\u001b[0m_xs\u001b[0m\u001b[0;34m(\u001b[0m\u001b[0mlabel\u001b[0m\u001b[0;34m,\u001b[0m \u001b[0maxis\u001b[0m\u001b[0;34m=\u001b[0m\u001b[0maxis\u001b[0m\u001b[0;34m)\u001b[0m\u001b[0;34m\u001b[0m\u001b[0;34m\u001b[0m\u001b[0m\n\u001b[0m\u001b[1;32m    161\u001b[0m \u001b[0;34m\u001b[0m\u001b[0m\n\u001b[1;32m    162\u001b[0m     \u001b[0;32mdef\u001b[0m \u001b[0m_get_loc\u001b[0m\u001b[0;34m(\u001b[0m\u001b[0mself\u001b[0m\u001b[0;34m,\u001b[0m \u001b[0mkey\u001b[0m\u001b[0;34m:\u001b[0m \u001b[0mint\u001b[0m\u001b[0;34m,\u001b[0m \u001b[0maxis\u001b[0m\u001b[0;34m:\u001b[0m \u001b[0mint\u001b[0m\u001b[0;34m)\u001b[0m\u001b[0;34m:\u001b[0m\u001b[0;34m\u001b[0m\u001b[0;34m\u001b[0m\u001b[0m\n",
            "\u001b[0;32m/usr/local/lib/python3.6/dist-packages/pandas/core/generic.py\u001b[0m in \u001b[0;36mxs\u001b[0;34m(self, key, axis, level, drop_level)\u001b[0m\n\u001b[1;32m   3735\u001b[0m             \u001b[0mloc\u001b[0m\u001b[0;34m,\u001b[0m \u001b[0mnew_index\u001b[0m \u001b[0;34m=\u001b[0m \u001b[0mself\u001b[0m\u001b[0;34m.\u001b[0m\u001b[0mindex\u001b[0m\u001b[0;34m.\u001b[0m\u001b[0mget_loc_level\u001b[0m\u001b[0;34m(\u001b[0m\u001b[0mkey\u001b[0m\u001b[0;34m,\u001b[0m \u001b[0mdrop_level\u001b[0m\u001b[0;34m=\u001b[0m\u001b[0mdrop_level\u001b[0m\u001b[0;34m)\u001b[0m\u001b[0;34m\u001b[0m\u001b[0;34m\u001b[0m\u001b[0m\n\u001b[1;32m   3736\u001b[0m         \u001b[0;32melse\u001b[0m\u001b[0;34m:\u001b[0m\u001b[0;34m\u001b[0m\u001b[0;34m\u001b[0m\u001b[0m\n\u001b[0;32m-> 3737\u001b[0;31m             \u001b[0mloc\u001b[0m \u001b[0;34m=\u001b[0m \u001b[0mself\u001b[0m\u001b[0;34m.\u001b[0m\u001b[0mindex\u001b[0m\u001b[0;34m.\u001b[0m\u001b[0mget_loc\u001b[0m\u001b[0;34m(\u001b[0m\u001b[0mkey\u001b[0m\u001b[0;34m)\u001b[0m\u001b[0;34m\u001b[0m\u001b[0;34m\u001b[0m\u001b[0m\n\u001b[0m\u001b[1;32m   3738\u001b[0m \u001b[0;34m\u001b[0m\u001b[0m\n\u001b[1;32m   3739\u001b[0m             \u001b[0;32mif\u001b[0m \u001b[0misinstance\u001b[0m\u001b[0;34m(\u001b[0m\u001b[0mloc\u001b[0m\u001b[0;34m,\u001b[0m \u001b[0mnp\u001b[0m\u001b[0;34m.\u001b[0m\u001b[0mndarray\u001b[0m\u001b[0;34m)\u001b[0m\u001b[0;34m:\u001b[0m\u001b[0;34m\u001b[0m\u001b[0;34m\u001b[0m\u001b[0m\n",
            "\u001b[0;32m/usr/local/lib/python3.6/dist-packages/pandas/core/indexes/datetimes.py\u001b[0m in \u001b[0;36mget_loc\u001b[0;34m(self, key, method, tolerance)\u001b[0m\n\u001b[1;32m   1070\u001b[0m                 \u001b[0;32mreturn\u001b[0m \u001b[0mIndex\u001b[0m\u001b[0;34m.\u001b[0m\u001b[0mget_loc\u001b[0m\u001b[0;34m(\u001b[0m\u001b[0mself\u001b[0m\u001b[0;34m,\u001b[0m \u001b[0mstamp\u001b[0m\u001b[0;34m,\u001b[0m \u001b[0mmethod\u001b[0m\u001b[0;34m,\u001b[0m \u001b[0mtolerance\u001b[0m\u001b[0;34m)\u001b[0m\u001b[0;34m\u001b[0m\u001b[0;34m\u001b[0m\u001b[0m\n\u001b[1;32m   1071\u001b[0m             \u001b[0;32mexcept\u001b[0m \u001b[0mKeyError\u001b[0m\u001b[0;34m:\u001b[0m\u001b[0;34m\u001b[0m\u001b[0;34m\u001b[0m\u001b[0m\n\u001b[0;32m-> 1072\u001b[0;31m                 \u001b[0;32mraise\u001b[0m \u001b[0mKeyError\u001b[0m\u001b[0;34m(\u001b[0m\u001b[0mkey\u001b[0m\u001b[0;34m)\u001b[0m\u001b[0;34m\u001b[0m\u001b[0;34m\u001b[0m\u001b[0m\n\u001b[0m\u001b[1;32m   1073\u001b[0m             \u001b[0;32mexcept\u001b[0m \u001b[0mValueError\u001b[0m \u001b[0;32mas\u001b[0m \u001b[0me\u001b[0m\u001b[0;34m:\u001b[0m\u001b[0;34m\u001b[0m\u001b[0;34m\u001b[0m\u001b[0m\n\u001b[1;32m   1074\u001b[0m                 \u001b[0;31m# list-like tolerance size must match target index size\u001b[0m\u001b[0;34m\u001b[0m\u001b[0;34m\u001b[0m\u001b[0;34m\u001b[0m\u001b[0m\n",
            "\u001b[0;31mKeyError\u001b[0m: '2018-12-31'"
          ]
        }
      ]
    },
    {
      "cell_type": "code",
      "metadata": {
        "id": "hshmqr1YsqpB",
        "colab_type": "code",
        "outputId": "0bc9b9cb-b166-452c-fb69-a0eeb9debb5c",
        "colab": {
          "base_uri": "https://localhost:8080/",
          "height": 329
        }
      },
      "source": [
        "melt2.head()"
      ],
      "execution_count": 0,
      "outputs": [
        {
          "output_type": "execute_result",
          "data": {
            "text/html": [
              "<div>\n",
              "<style scoped>\n",
              "    .dataframe tbody tr th:only-of-type {\n",
              "        vertical-align: middle;\n",
              "    }\n",
              "\n",
              "    .dataframe tbody tr th {\n",
              "        vertical-align: top;\n",
              "    }\n",
              "\n",
              "    .dataframe thead th {\n",
              "        text-align: right;\n",
              "    }\n",
              "</style>\n",
              "<table border=\"1\" class=\"dataframe\">\n",
              "  <thead>\n",
              "    <tr style=\"text-align: right;\">\n",
              "      <th></th>\n",
              "      <th>item</th>\n",
              "      <th>sales</th>\n",
              "      <th>dayofmonth</th>\n",
              "      <th>dayofyear</th>\n",
              "      <th>dayofweek</th>\n",
              "      <th>month</th>\n",
              "      <th>year</th>\n",
              "      <th>weekofyear</th>\n",
              "      <th>is_month_start</th>\n",
              "      <th>is_month_end</th>\n",
              "      <th>last_wk_sales</th>\n",
              "      <th>last_wk_diff</th>\n",
              "      <th>log_sales</th>\n",
              "      <th>2wks_sales</th>\n",
              "      <th>2wks_diff</th>\n",
              "      <th>3wks_sales</th>\n",
              "      <th>3wks_diff</th>\n",
              "      <th>4wks_sales</th>\n",
              "      <th>4wks_diff</th>\n",
              "      <th>5wks_sales</th>\n",
              "      <th>5wks_diff</th>\n",
              "      <th>6wks_sales</th>\n",
              "      <th>6wks_diff</th>\n",
              "      <th>7wks_sales</th>\n",
              "      <th>7wks_diff</th>\n",
              "      <th>8wks_sales</th>\n",
              "      <th>8wks_diff</th>\n",
              "      <th>new_years</th>\n",
              "      <th>christmas</th>\n",
              "      <th>thanksgiving</th>\n",
              "      <th>farm2table</th>\n",
              "      <th>memorial_day</th>\n",
              "      <th>back_to_school</th>\n",
              "    </tr>\n",
              "    <tr>\n",
              "      <th>date</th>\n",
              "      <th></th>\n",
              "      <th></th>\n",
              "      <th></th>\n",
              "      <th></th>\n",
              "      <th></th>\n",
              "      <th></th>\n",
              "      <th></th>\n",
              "      <th></th>\n",
              "      <th></th>\n",
              "      <th></th>\n",
              "      <th></th>\n",
              "      <th></th>\n",
              "      <th></th>\n",
              "      <th></th>\n",
              "      <th></th>\n",
              "      <th></th>\n",
              "      <th></th>\n",
              "      <th></th>\n",
              "      <th></th>\n",
              "      <th></th>\n",
              "      <th></th>\n",
              "      <th></th>\n",
              "      <th></th>\n",
              "      <th></th>\n",
              "      <th></th>\n",
              "      <th></th>\n",
              "      <th></th>\n",
              "      <th></th>\n",
              "      <th></th>\n",
              "      <th></th>\n",
              "      <th></th>\n",
              "      <th></th>\n",
              "      <th></th>\n",
              "    </tr>\n",
              "  </thead>\n",
              "  <tbody>\n",
              "    <tr>\n",
              "      <th>2018-10-12</th>\n",
              "      <td>10004PM</td>\n",
              "      <td>0.0</td>\n",
              "      <td>12</td>\n",
              "      <td>285</td>\n",
              "      <td>4</td>\n",
              "      <td>10</td>\n",
              "      <td>2018</td>\n",
              "      <td>41</td>\n",
              "      <td>0</td>\n",
              "      <td>0</td>\n",
              "      <td>0.0</td>\n",
              "      <td>0.0</td>\n",
              "      <td>0.0</td>\n",
              "      <td>0.0</td>\n",
              "      <td>0.0</td>\n",
              "      <td>0.0</td>\n",
              "      <td>0.0</td>\n",
              "      <td>0.0</td>\n",
              "      <td>0.0</td>\n",
              "      <td>0.0</td>\n",
              "      <td>0.0</td>\n",
              "      <td>0.0</td>\n",
              "      <td>0.0</td>\n",
              "      <td>0.0</td>\n",
              "      <td>0.0</td>\n",
              "      <td>0.0</td>\n",
              "      <td>0.0</td>\n",
              "      <td>False</td>\n",
              "      <td>False</td>\n",
              "      <td>False</td>\n",
              "      <td>False</td>\n",
              "      <td>False</td>\n",
              "      <td>False</td>\n",
              "    </tr>\n",
              "    <tr>\n",
              "      <th>2018-10-12</th>\n",
              "      <td>10004PS</td>\n",
              "      <td>0.0</td>\n",
              "      <td>12</td>\n",
              "      <td>285</td>\n",
              "      <td>4</td>\n",
              "      <td>10</td>\n",
              "      <td>2018</td>\n",
              "      <td>41</td>\n",
              "      <td>0</td>\n",
              "      <td>0</td>\n",
              "      <td>0.0</td>\n",
              "      <td>0.0</td>\n",
              "      <td>0.0</td>\n",
              "      <td>0.0</td>\n",
              "      <td>0.0</td>\n",
              "      <td>0.0</td>\n",
              "      <td>0.0</td>\n",
              "      <td>0.0</td>\n",
              "      <td>0.0</td>\n",
              "      <td>0.0</td>\n",
              "      <td>0.0</td>\n",
              "      <td>0.0</td>\n",
              "      <td>0.0</td>\n",
              "      <td>0.0</td>\n",
              "      <td>0.0</td>\n",
              "      <td>0.0</td>\n",
              "      <td>0.0</td>\n",
              "      <td>False</td>\n",
              "      <td>False</td>\n",
              "      <td>False</td>\n",
              "      <td>False</td>\n",
              "      <td>False</td>\n",
              "      <td>False</td>\n",
              "    </tr>\n",
              "    <tr>\n",
              "      <th>2018-10-12</th>\n",
              "      <td>10005</td>\n",
              "      <td>0.0</td>\n",
              "      <td>12</td>\n",
              "      <td>285</td>\n",
              "      <td>4</td>\n",
              "      <td>10</td>\n",
              "      <td>2018</td>\n",
              "      <td>41</td>\n",
              "      <td>0</td>\n",
              "      <td>0</td>\n",
              "      <td>0.0</td>\n",
              "      <td>0.0</td>\n",
              "      <td>0.0</td>\n",
              "      <td>0.0</td>\n",
              "      <td>0.0</td>\n",
              "      <td>0.0</td>\n",
              "      <td>0.0</td>\n",
              "      <td>0.0</td>\n",
              "      <td>0.0</td>\n",
              "      <td>0.0</td>\n",
              "      <td>0.0</td>\n",
              "      <td>0.0</td>\n",
              "      <td>0.0</td>\n",
              "      <td>0.0</td>\n",
              "      <td>0.0</td>\n",
              "      <td>0.0</td>\n",
              "      <td>0.0</td>\n",
              "      <td>False</td>\n",
              "      <td>False</td>\n",
              "      <td>False</td>\n",
              "      <td>False</td>\n",
              "      <td>False</td>\n",
              "      <td>False</td>\n",
              "    </tr>\n",
              "    <tr>\n",
              "      <th>2018-10-12</th>\n",
              "      <td>10005A</td>\n",
              "      <td>0.0</td>\n",
              "      <td>12</td>\n",
              "      <td>285</td>\n",
              "      <td>4</td>\n",
              "      <td>10</td>\n",
              "      <td>2018</td>\n",
              "      <td>41</td>\n",
              "      <td>0</td>\n",
              "      <td>0</td>\n",
              "      <td>0.0</td>\n",
              "      <td>0.0</td>\n",
              "      <td>0.0</td>\n",
              "      <td>0.0</td>\n",
              "      <td>0.0</td>\n",
              "      <td>0.0</td>\n",
              "      <td>0.0</td>\n",
              "      <td>0.0</td>\n",
              "      <td>0.0</td>\n",
              "      <td>0.0</td>\n",
              "      <td>0.0</td>\n",
              "      <td>0.0</td>\n",
              "      <td>0.0</td>\n",
              "      <td>0.0</td>\n",
              "      <td>0.0</td>\n",
              "      <td>0.0</td>\n",
              "      <td>0.0</td>\n",
              "      <td>False</td>\n",
              "      <td>False</td>\n",
              "      <td>False</td>\n",
              "      <td>False</td>\n",
              "      <td>False</td>\n",
              "      <td>False</td>\n",
              "    </tr>\n",
              "    <tr>\n",
              "      <th>2018-10-12</th>\n",
              "      <td>10006</td>\n",
              "      <td>0.0</td>\n",
              "      <td>12</td>\n",
              "      <td>285</td>\n",
              "      <td>4</td>\n",
              "      <td>10</td>\n",
              "      <td>2018</td>\n",
              "      <td>41</td>\n",
              "      <td>0</td>\n",
              "      <td>0</td>\n",
              "      <td>0.0</td>\n",
              "      <td>0.0</td>\n",
              "      <td>0.0</td>\n",
              "      <td>0.0</td>\n",
              "      <td>0.0</td>\n",
              "      <td>0.0</td>\n",
              "      <td>0.0</td>\n",
              "      <td>0.0</td>\n",
              "      <td>0.0</td>\n",
              "      <td>0.0</td>\n",
              "      <td>0.0</td>\n",
              "      <td>0.0</td>\n",
              "      <td>0.0</td>\n",
              "      <td>0.0</td>\n",
              "      <td>0.0</td>\n",
              "      <td>0.0</td>\n",
              "      <td>0.0</td>\n",
              "      <td>False</td>\n",
              "      <td>False</td>\n",
              "      <td>False</td>\n",
              "      <td>False</td>\n",
              "      <td>False</td>\n",
              "      <td>False</td>\n",
              "    </tr>\n",
              "  </tbody>\n",
              "</table>\n",
              "</div>"
            ],
            "text/plain": [
              "               item  sales  ...  memorial_day  back_to_school\n",
              "date                        ...                              \n",
              "2018-10-12  10004PM    0.0  ...         False           False\n",
              "2018-10-12  10004PS    0.0  ...         False           False\n",
              "2018-10-12    10005    0.0  ...         False           False\n",
              "2018-10-12   10005A    0.0  ...         False           False\n",
              "2018-10-12    10006    0.0  ...         False           False\n",
              "\n",
              "[5 rows x 33 columns]"
            ]
          },
          "metadata": {
            "tags": []
          },
          "execution_count": 50
        }
      ]
    },
    {
      "cell_type": "code",
      "metadata": {
        "id": "LIJNScHt1YNo",
        "colab_type": "code",
        "outputId": "9053c074-5fd7-4677-f71e-872f3607d9ee",
        "colab": {
          "base_uri": "https://localhost:8080/",
          "height": 651
        }
      },
      "source": [
        "#I'm curious... how correlated are these variables to the actual sales?\n",
        "\n",
        "# calculate the correlation matrix\n",
        "corr = melt2.corr()\n",
        "\n",
        "# plot the heatmap\n",
        "plt.figure(figsize=(12,9))\n",
        "sns.heatmap(corr, \n",
        "        xticklabels=corr.columns,\n",
        "        yticklabels=corr.columns, cmap='magma')\n",
        "\n",
        "plt.title(\"Correlation Matrix od the different features\", fontsize= 18)"
      ],
      "execution_count": 0,
      "outputs": [
        {
          "output_type": "execute_result",
          "data": {
            "text/plain": [
              "Text(0.5, 1, 'Correlation Matrix od the different features')"
            ]
          },
          "metadata": {
            "tags": []
          },
          "execution_count": 51
        },
        {
          "output_type": "display_data",
          "data": {
            "image/png": "[encoded data removed]",
            "text/plain": [
              "<Figure size 864x648 with 2 Axes>"
            ]
          },
          "metadata": {
            "tags": []
          }
        }
      ]
    },
    {
      "cell_type": "markdown",
      "metadata": {
        "id": "UYirKP9T3HdC",
        "colab_type": "text"
      },
      "source": [
        "#### INSIGHTS\n",
        "\n",
        "\n",
        "*   Anything close to pink is not great correlation. Anything on the lighter or darker side is a good correlation with white being the best positive correlation and black being the best negative correlation.\n",
        "* Looks like there is a fair amount of correlation between past sales. \n",
        "*   Not a lot of correlation with the other variables\n",
        "* Day number of the week and week number of the year have a sliiiiiight correlation. This makes sense because our EDA was showing some weekly trends.\n",
        "\n"
      ]
    },
    {
      "cell_type": "markdown",
      "metadata": {
        "id": "NS-PMFlmS0Pv",
        "colab_type": "text"
      },
      "source": [
        "# Re-establishing a Baseline and Train/Validation Set"
      ]
    },
    {
      "cell_type": "code",
      "metadata": {
        "id": "eDV9DK7JS3z4",
        "colab_type": "code",
        "colab": {}
      },
      "source": [
        "#rmse metric function\n",
        "def rmse(ytrue, ypred):\n",
        "  return (round(sqrt(mean_squared_error(ytrue, ypred)), 3))\n",
        "\n",
        "#getting the last week of this subset of data\n",
        "last_week = melt2['weekofyear'].iloc[-1] "
      ],
      "execution_count": 0,
      "outputs": []
    },
    {
      "cell_type": "code",
      "metadata": {
        "id": "nCByNwO9S6dn",
        "colab_type": "code",
        "outputId": "42481ec3-d6a2-45bb-91b6-37743cab9d19",
        "colab": {
          "base_uri": "https://localhost:8080/",
          "height": 168
        }
      },
      "source": [
        "#Restablishing a Naive Baseline and a Validation Split\n",
        "\n",
        "mean_error = []\n",
        "for week in range(last_week-8, last_week): #setting up eight weeks train/validation set\n",
        "    train = melt2[melt2['weekofyear'] < week] \n",
        "    val = melt2[melt2['weekofyear'] == week]\n",
        "    \n",
        "    p = val['last_wk_sales'].values\n",
        "    \n",
        "    error = rmse(val['sales'].values, p)\n",
        "    print('Week %d - Error %.5f' % (week, error))\n",
        "    mean_error.append(error)\n",
        "naive_error= np.mean(mean_error)\n",
        "print('Mean Error = %.5f' % naive_error)"
      ],
      "execution_count": 0,
      "outputs": [
        {
          "output_type": "stream",
          "text": [
            "Week 25 - Error 11.11500\n",
            "Week 26 - Error 10.31400\n",
            "Week 27 - Error 10.25300\n",
            "Week 28 - Error 13.72300\n",
            "Week 29 - Error 20.92800\n",
            "Week 30 - Error 17.81100\n",
            "Week 31 - Error 13.89800\n",
            "Week 32 - Error 13.24700\n",
            "Mean Error = 13.91113\n"
          ],
          "name": "stdout"
        }
      ]
    },
    {
      "cell_type": "code",
      "metadata": {
        "id": "kvD0EfAI0z0O",
        "colab_type": "code",
        "outputId": "0941f217-0495-4262-c388-506e6a36fccf",
        "colab": {
          "base_uri": "https://localhost:8080/",
          "height": 412
        }
      },
      "source": [
        "#You can SEE how sparse this data set is... how most of the demand is around 0\n",
        "melt2['sales'].hist(bins=60, figsize=(10,6))\n",
        "plt.title (\"Overall, how sparse is the demand of the items?\", fontsize= 16)"
      ],
      "execution_count": 0,
      "outputs": [
        {
          "output_type": "execute_result",
          "data": {
            "text/plain": [
              "Text(0.5, 1.0, 'Overall, how sparse is the demand of the items?')"
            ]
          },
          "metadata": {
            "tags": []
          },
          "execution_count": 54
        },
        {
          "output_type": "display_data",
          "data": {
            "image/png": "[encoded data removed]",
            "text/plain": [
              "<Figure size 720x432 with 1 Axes>"
            ]
          },
          "metadata": {
            "tags": []
          }
        }
      ]
    },
    {
      "cell_type": "markdown",
      "metadata": {
        "id": "lsnSdKjoTUNC",
        "colab_type": "text"
      },
      "source": [
        "# Random Forest\n",
        "* Before jumping straight into a Light Grandient Boost Model, lets first try a random forest.\n",
        "* Random Forests are fantastic at being a great first model (out of the box) to throw at the problem.\n",
        "* It has the ability to model multiple datatypes.\n",
        ">* Later, I can play around with one-hot encoding on the categorical columns to see if that improves the score\n",
        "* Parameters I will focus on= max number of trees, max depth of trees\n"
      ]
    },
    {
      "cell_type": "code",
      "metadata": {
        "id": "mnQwH4FMTU9a",
        "colab_type": "code",
        "outputId": "814e2536-762c-4e35-8aad-16627d3e5445",
        "colab": {
          "base_uri": "https://localhost:8080/",
          "height": 245
        }
      },
      "source": [
        "#dropping columns that the Random forest cannot compute\n",
        "melt2.reset_index(inplace= True)\n",
        "melt2.drop(columns= 'date', inplace=True)\n",
        "melt2.set_index('item', inplace=True)\n",
        "melt2.head()"
      ],
      "execution_count": 0,
      "outputs": [
        {
          "output_type": "execute_result",
          "data": {
            "text/html": [
              "<div>\n",
              "<style scoped>\n",
              "    .dataframe tbody tr th:only-of-type {\n",
              "        vertical-align: middle;\n",
              "    }\n",
              "\n",
              "    .dataframe tbody tr th {\n",
              "        vertical-align: top;\n",
              "    }\n",
              "\n",
              "    .dataframe thead th {\n",
              "        text-align: right;\n",
              "    }\n",
              "</style>\n",
              "<table border=\"1\" class=\"dataframe\">\n",
              "  <thead>\n",
              "    <tr style=\"text-align: right;\">\n",
              "      <th></th>\n",
              "      <th>sales</th>\n",
              "      <th>dayofmonth</th>\n",
              "      <th>dayofyear</th>\n",
              "      <th>dayofweek</th>\n",
              "      <th>month</th>\n",
              "      <th>year</th>\n",
              "      <th>weekofyear</th>\n",
              "      <th>is_month_start</th>\n",
              "      <th>is_month_end</th>\n",
              "      <th>last_wk_sales</th>\n",
              "      <th>last_wk_diff</th>\n",
              "      <th>log_sales</th>\n",
              "      <th>2wks_sales</th>\n",
              "      <th>2wks_diff</th>\n",
              "      <th>3wks_sales</th>\n",
              "      <th>3wks_diff</th>\n",
              "      <th>4wks_sales</th>\n",
              "      <th>4wks_diff</th>\n",
              "      <th>5wks_sales</th>\n",
              "      <th>5wks_diff</th>\n",
              "      <th>6wks_sales</th>\n",
              "      <th>6wks_diff</th>\n",
              "      <th>7wks_sales</th>\n",
              "      <th>7wks_diff</th>\n",
              "      <th>8wks_sales</th>\n",
              "      <th>8wks_diff</th>\n",
              "      <th>new_years</th>\n",
              "      <th>christmas</th>\n",
              "      <th>thanksgiving</th>\n",
              "      <th>farm2table</th>\n",
              "      <th>memorial_day</th>\n",
              "      <th>back_to_school</th>\n",
              "    </tr>\n",
              "    <tr>\n",
              "      <th>item</th>\n",
              "      <th></th>\n",
              "      <th></th>\n",
              "      <th></th>\n",
              "      <th></th>\n",
              "      <th></th>\n",
              "      <th></th>\n",
              "      <th></th>\n",
              "      <th></th>\n",
              "      <th></th>\n",
              "      <th></th>\n",
              "      <th></th>\n",
              "      <th></th>\n",
              "      <th></th>\n",
              "      <th></th>\n",
              "      <th></th>\n",
              "      <th></th>\n",
              "      <th></th>\n",
              "      <th></th>\n",
              "      <th></th>\n",
              "      <th></th>\n",
              "      <th></th>\n",
              "      <th></th>\n",
              "      <th></th>\n",
              "      <th></th>\n",
              "      <th></th>\n",
              "      <th></th>\n",
              "      <th></th>\n",
              "      <th></th>\n",
              "      <th></th>\n",
              "      <th></th>\n",
              "      <th></th>\n",
              "      <th></th>\n",
              "    </tr>\n",
              "  </thead>\n",
              "  <tbody>\n",
              "    <tr>\n",
              "      <th>10004PM</th>\n",
              "      <td>0.0</td>\n",
              "      <td>12</td>\n",
              "      <td>285</td>\n",
              "      <td>4</td>\n",
              "      <td>10</td>\n",
              "      <td>2018</td>\n",
              "      <td>41</td>\n",
              "      <td>0</td>\n",
              "      <td>0</td>\n",
              "      <td>0.0</td>\n",
              "      <td>0.0</td>\n",
              "      <td>0.0</td>\n",
              "      <td>0.0</td>\n",
              "      <td>0.0</td>\n",
              "      <td>0.0</td>\n",
              "      <td>0.0</td>\n",
              "      <td>0.0</td>\n",
              "      <td>0.0</td>\n",
              "      <td>0.0</td>\n",
              "      <td>0.0</td>\n",
              "      <td>0.0</td>\n",
              "      <td>0.0</td>\n",
              "      <td>0.0</td>\n",
              "      <td>0.0</td>\n",
              "      <td>0.0</td>\n",
              "      <td>0.0</td>\n",
              "      <td>False</td>\n",
              "      <td>False</td>\n",
              "      <td>False</td>\n",
              "      <td>False</td>\n",
              "      <td>False</td>\n",
              "      <td>False</td>\n",
              "    </tr>\n",
              "    <tr>\n",
              "      <th>10004PS</th>\n",
              "      <td>0.0</td>\n",
              "      <td>12</td>\n",
              "      <td>285</td>\n",
              "      <td>4</td>\n",
              "      <td>10</td>\n",
              "      <td>2018</td>\n",
              "      <td>41</td>\n",
              "      <td>0</td>\n",
              "      <td>0</td>\n",
              "      <td>0.0</td>\n",
              "      <td>0.0</td>\n",
              "      <td>0.0</td>\n",
              "      <td>0.0</td>\n",
              "      <td>0.0</td>\n",
              "      <td>0.0</td>\n",
              "      <td>0.0</td>\n",
              "      <td>0.0</td>\n",
              "      <td>0.0</td>\n",
              "      <td>0.0</td>\n",
              "      <td>0.0</td>\n",
              "      <td>0.0</td>\n",
              "      <td>0.0</td>\n",
              "      <td>0.0</td>\n",
              "      <td>0.0</td>\n",
              "      <td>0.0</td>\n",
              "      <td>0.0</td>\n",
              "      <td>False</td>\n",
              "      <td>False</td>\n",
              "      <td>False</td>\n",
              "      <td>False</td>\n",
              "      <td>False</td>\n",
              "      <td>False</td>\n",
              "    </tr>\n",
              "    <tr>\n",
              "      <th>10005</th>\n",
              "      <td>0.0</td>\n",
              "      <td>12</td>\n",
              "      <td>285</td>\n",
              "      <td>4</td>\n",
              "      <td>10</td>\n",
              "      <td>2018</td>\n",
              "      <td>41</td>\n",
              "      <td>0</td>\n",
              "      <td>0</td>\n",
              "      <td>0.0</td>\n",
              "      <td>0.0</td>\n",
              "      <td>0.0</td>\n",
              "      <td>0.0</td>\n",
              "      <td>0.0</td>\n",
              "      <td>0.0</td>\n",
              "      <td>0.0</td>\n",
              "      <td>0.0</td>\n",
              "      <td>0.0</td>\n",
              "      <td>0.0</td>\n",
              "      <td>0.0</td>\n",
              "      <td>0.0</td>\n",
              "      <td>0.0</td>\n",
              "      <td>0.0</td>\n",
              "      <td>0.0</td>\n",
              "      <td>0.0</td>\n",
              "      <td>0.0</td>\n",
              "      <td>False</td>\n",
              "      <td>False</td>\n",
              "      <td>False</td>\n",
              "      <td>False</td>\n",
              "      <td>False</td>\n",
              "      <td>False</td>\n",
              "    </tr>\n",
              "    <tr>\n",
              "      <th>10005A</th>\n",
              "      <td>0.0</td>\n",
              "      <td>12</td>\n",
              "      <td>285</td>\n",
              "      <td>4</td>\n",
              "      <td>10</td>\n",
              "      <td>2018</td>\n",
              "      <td>41</td>\n",
              "      <td>0</td>\n",
              "      <td>0</td>\n",
              "      <td>0.0</td>\n",
              "      <td>0.0</td>\n",
              "      <td>0.0</td>\n",
              "      <td>0.0</td>\n",
              "      <td>0.0</td>\n",
              "      <td>0.0</td>\n",
              "      <td>0.0</td>\n",
              "      <td>0.0</td>\n",
              "      <td>0.0</td>\n",
              "      <td>0.0</td>\n",
              "      <td>0.0</td>\n",
              "      <td>0.0</td>\n",
              "      <td>0.0</td>\n",
              "      <td>0.0</td>\n",
              "      <td>0.0</td>\n",
              "      <td>0.0</td>\n",
              "      <td>0.0</td>\n",
              "      <td>False</td>\n",
              "      <td>False</td>\n",
              "      <td>False</td>\n",
              "      <td>False</td>\n",
              "      <td>False</td>\n",
              "      <td>False</td>\n",
              "    </tr>\n",
              "    <tr>\n",
              "      <th>10006</th>\n",
              "      <td>0.0</td>\n",
              "      <td>12</td>\n",
              "      <td>285</td>\n",
              "      <td>4</td>\n",
              "      <td>10</td>\n",
              "      <td>2018</td>\n",
              "      <td>41</td>\n",
              "      <td>0</td>\n",
              "      <td>0</td>\n",
              "      <td>0.0</td>\n",
              "      <td>0.0</td>\n",
              "      <td>0.0</td>\n",
              "      <td>0.0</td>\n",
              "      <td>0.0</td>\n",
              "      <td>0.0</td>\n",
              "      <td>0.0</td>\n",
              "      <td>0.0</td>\n",
              "      <td>0.0</td>\n",
              "      <td>0.0</td>\n",
              "      <td>0.0</td>\n",
              "      <td>0.0</td>\n",
              "      <td>0.0</td>\n",
              "      <td>0.0</td>\n",
              "      <td>0.0</td>\n",
              "      <td>0.0</td>\n",
              "      <td>0.0</td>\n",
              "      <td>False</td>\n",
              "      <td>False</td>\n",
              "      <td>False</td>\n",
              "      <td>False</td>\n",
              "      <td>False</td>\n",
              "      <td>False</td>\n",
              "    </tr>\n",
              "  </tbody>\n",
              "</table>\n",
              "</div>"
            ],
            "text/plain": [
              "         sales  dayofmonth  dayofyear  ...  farm2table  memorial_day  back_to_school\n",
              "item                                   ...                                          \n",
              "10004PM    0.0          12        285  ...       False         False           False\n",
              "10004PS    0.0          12        285  ...       False         False           False\n",
              "10005      0.0          12        285  ...       False         False           False\n",
              "10005A     0.0          12        285  ...       False         False           False\n",
              "10006      0.0          12        285  ...       False         False           False\n",
              "\n",
              "[5 rows x 32 columns]"
            ]
          },
          "metadata": {
            "tags": []
          },
          "execution_count": 55
        }
      ]
    },
    {
      "cell_type": "code",
      "metadata": {
        "id": "z1lfhfPCTdZV",
        "colab_type": "code",
        "outputId": "eaae2a71-04ff-4c0b-ea55-f794ad85d61b",
        "colab": {
          "base_uri": "https://localhost:8080/",
          "height": 168
        }
      },
      "source": [
        "mean_error = []\n",
        "\n",
        "for week in range(last_week-8, last_week): #setting up 8 weeks train/test set\n",
        "  \n",
        "    train = melt2[melt2['weekofyear'] < week]\n",
        "    val = melt2[melt2['weekofyear'] == week]\n",
        "    \n",
        "    xtr, xts = train.drop(['sales'], axis=1), val.drop(['sales'], axis=1)\n",
        "    ytr, yts = train['sales'].values, val['sales'].values\n",
        "    \n",
        "    mdl = RandomForestRegressor(n_estimators=1000, n_jobs=-1, random_state=0)\n",
        "    mdl.fit(xtr, ytr)\n",
        "    \n",
        "    p = mdl.predict(xts)\n",
        "    \n",
        "    error = rmse(yts, p)\n",
        "    print('Week %d - Error %.5f' % (week, error))\n",
        "    mean_error.append(error)\n",
        "    \n",
        "print('Mean Error = %.5f' % np.mean(mean_error))"
      ],
      "execution_count": 0,
      "outputs": [
        {
          "output_type": "stream",
          "text": [
            "Week 26 - Error 0.64600\n",
            "Week 27 - Error 0.38400\n",
            "Week 28 - Error 0.19400\n",
            "Week 29 - Error 0.30700\n",
            "Week 30 - Error 0.10500\n",
            "Week 31 - Error 0.17300\n",
            "Week 32 - Error 0.07700\n",
            "Week 33 - Error 0.42700\n",
            "Mean Error = 0.28913\n"
          ],
          "name": "stdout"
        }
      ]
    },
    {
      "cell_type": "markdown",
      "metadata": {
        "id": "JrVg16WoUVbh",
        "colab_type": "text"
      },
      "source": [
        "#### Is my model overfitting?\n",
        "\n",
        "\n",
        "* If the training error is low and the validation error is much higher, your model is overfitting.\n",
        "*   YES, empirically trees can definitely over fit.\n",
        "*   One way to prevent overfitting is to trim the trees and indicate a max number of leaves. I will create a grid search, and then visualize the testing versus the training data and see at which values overfitting is occuring.\n"
      ]
    },
    {
      "cell_type": "code",
      "metadata": {
        "id": "bgS4c-IjUT8O",
        "colab_type": "code",
        "colab": {}
      },
      "source": [
        "#Is my model over fitting here? Possibly! Let's take a look at how max_depth affects overfitting\n",
        "#We'll take the last week in the data set as the testing set and train on the other weeks\n",
        "\n",
        "train = melt2[melt2['weekofyear'] < 33] #NOTE: our training set gets smaller the further out the weeks are\n",
        "test = melt2[melt2['weekofyear'] == 33]\n",
        "    \n",
        "x_train, x_test = train.drop(['sales'], axis=1), test.drop(['sales'], axis=1)\n",
        "y_train, y_test = train['sales'].values, test['sales'].values\n",
        "\n",
        "\n",
        "max_depths = np.linspace(1, 15, 15, endpoint=True)\n",
        "train_results = []\n",
        "test_results = []\n",
        "\n",
        "for max_depth in max_depths:\n",
        "  rf = RandomForestRegressor(n_estimators=1000, max_depth=max_depth, n_jobs=-1)\n",
        "  rf.fit(x_train, y_train)\n",
        "  train_p = rf.predict(x_train)\n",
        "  train_err = rmse(y_train, train_p)\n",
        "  train_results.append(train_err)\n",
        "  \n",
        "  test_p = rf.predict(x_test)\n",
        "  test_err = rmse(y_test, test_p)\n",
        "  test_results.append(test_err)"
      ],
      "execution_count": 0,
      "outputs": []
    },
    {
      "cell_type": "code",
      "metadata": {
        "id": "CfP1JiJJx6_4",
        "colab_type": "code",
        "outputId": "76eef752-53d3-4fbd-900a-6c400e281b9f",
        "colab": {
          "base_uri": "https://localhost:8080/",
          "height": 289
        }
      },
      "source": [
        "#Plot Tree Depth of Testing Versus Training\n",
        "plt.plot(max_depths, train_results, color= 'b', label='Train RMSE')\n",
        "plt.plot(max_depths, test_results, color= 'r', label='Test RMSE')\n",
        "plt.legend()\n",
        "plt.ylabel('RMSE')\n",
        "plt.ylim(0,1)\n",
        "plt.xlabel('Tree Depth')\n",
        "plt.show()"
      ],
      "execution_count": 0,
      "outputs": [
        {
          "output_type": "display_data",
          "data": {
            "image/png": "[encoded data removed]",
            "text/plain": [
              "<Figure size 432x288 with 1 Axes>"
            ]
          },
          "metadata": {
            "tags": []
          }
        }
      ]
    },
    {
      "cell_type": "markdown",
      "metadata": {
        "id": "AWlUOGS5xaol",
        "colab_type": "text"
      },
      "source": [
        "#### INSIGHTS\n",
        "*GREAT! Tree depth of 5 seems to be a good trade-off between a lower RMSE and being able to genralize into the future. Although, all these values seem to be doing fairly well and not over fitting too badly.*"
      ]
    },
    {
      "cell_type": "code",
      "metadata": {
        "id": "2uEbaZp4zlMo",
        "colab_type": "code",
        "outputId": "c4688cb7-8810-48ab-ef75-40e6fb921da5",
        "colab": {
          "base_uri": "https://localhost:8080/",
          "height": 334
        }
      },
      "source": [
        "#Let's do the same thing for the max number of trees, and see what the optimal balance of lower RMSE without overfitting\n",
        "%%time\n",
        "\n",
        "train = melt2[melt2['weekofyear'] < 33] #NOTE: our training set gets smaller the further out the weeks are\n",
        "test = melt2[melt2['weekofyear'] == 33]\n",
        "    \n",
        "x_train, x_test = train.drop(['sales'], axis=1), test.drop(['sales'], axis=1)\n",
        "y_train, y_test = train['sales'].values, test['sales'].values\n",
        "\n",
        "\n",
        "num_trees = [10000] #100, 500, 750, 1000, 2000\n",
        "train_results = []\n",
        "test_results = []\n",
        " \n",
        "for num in num_trees:\n",
        "  rf = RandomForestRegressor(n_estimators=num, max_depth= 5, n_jobs=-1)\n",
        "  rf.fit(x_train, y_train)\n",
        "  train_p = rf.predict(x_train)\n",
        "  train_err = rmse(y_train, train_p)\n",
        "  train_results.append(train_err)\n",
        "  \n",
        "  test_p = rf.predict(x_test)\n",
        "  test_err = rmse(y_test, test_p)\n",
        "  test_results.append(test_err)\n",
        "\n",
        "#Plot Tree Depth of Testing Versus Training\n",
        "plt.plot(num_trees, train_results, color= 'b', label='Train RMSE')\n",
        "plt.plot(num_trees, test_results, color= 'r', label='Test RMSE')\n",
        "plt.legend()\n",
        "plt.title(\"Best Max Number of Trees\")\n",
        "plt.ylabel('RMSE')\n",
        "plt.xlabel('Max Number of Trees')\n",
        "plt.show()\n",
        "\n"
      ],
      "execution_count": 0,
      "outputs": [
        {
          "output_type": "display_data",
          "data": {
            "image/png": "[encoded data removed]",
            "text/plain": [
              "<Figure size 432x288 with 1 Axes>"
            ]
          },
          "metadata": {
            "tags": []
          }
        },
        {
          "output_type": "stream",
          "text": [
            "CPU times: user 19min 34s, sys: 3.28 s, total: 19min 37s\n",
            "Wall time: 9min 59s\n"
          ],
          "name": "stdout"
        }
      ]
    },
    {
      "cell_type": "code",
      "metadata": {
        "id": "DrflqDGm7mRX",
        "colab_type": "code",
        "outputId": "e3b5f86e-29f5-46fe-a351-a9fc65945374",
        "colab": {
          "base_uri": "https://localhost:8080/",
          "height": 34
        }
      },
      "source": [
        "print (train_results, test_results)"
      ],
      "execution_count": 0,
      "outputs": [
        {
          "output_type": "stream",
          "text": [
            "[0.59] [0.547]\n"
          ],
          "name": "stdout"
        }
      ]
    },
    {
      "cell_type": "markdown",
      "metadata": {
        "id": "tJbjXNg61amd",
        "colab_type": "text"
      },
      "source": [
        "#### INSIGHTS\n",
        "\n",
        "\n",
        "*   Hookay, between 10, 50, 100, 500, 1000 which number is the best?\n",
        "*   1000 seems the be the optimal max number of trees which also helps with computing power\n",
        "\n"
      ]
    },
    {
      "cell_type": "markdown",
      "metadata": {
        "id": "rRNyDEvNDPWY",
        "colab_type": "text"
      },
      "source": [
        "## Testing daily order qty for all the viable PLU codes...\n"
      ]
    },
    {
      "cell_type": "code",
      "metadata": {
        "id": "P4xRBcx2t0XW",
        "colab_type": "code",
        "outputId": "90a7a2ea-6a77-481e-a429-6864a2fad571",
        "colab": {
          "base_uri": "https://localhost:8080/",
          "height": 451
        }
      },
      "source": [
        "melt2 [melt2.weekofyear == 33]"
      ],
      "execution_count": 0,
      "outputs": [
        {
          "output_type": "execute_result",
          "data": {
            "text/html": [
              "<div>\n",
              "<style scoped>\n",
              "    .dataframe tbody tr th:only-of-type {\n",
              "        vertical-align: middle;\n",
              "    }\n",
              "\n",
              "    .dataframe tbody tr th {\n",
              "        vertical-align: top;\n",
              "    }\n",
              "\n",
              "    .dataframe thead th {\n",
              "        text-align: right;\n",
              "    }\n",
              "</style>\n",
              "<table border=\"1\" class=\"dataframe\">\n",
              "  <thead>\n",
              "    <tr style=\"text-align: right;\">\n",
              "      <th></th>\n",
              "      <th>sales</th>\n",
              "      <th>dayofmonth</th>\n",
              "      <th>dayofyear</th>\n",
              "      <th>dayofweek</th>\n",
              "      <th>month</th>\n",
              "      <th>year</th>\n",
              "      <th>weekofyear</th>\n",
              "      <th>is_month_start</th>\n",
              "      <th>is_month_end</th>\n",
              "      <th>last_wk_sales</th>\n",
              "      <th>last_wk_diff</th>\n",
              "      <th>log_sales</th>\n",
              "      <th>2wks_sales</th>\n",
              "      <th>2wks_diff</th>\n",
              "      <th>3wks_sales</th>\n",
              "      <th>3wks_diff</th>\n",
              "      <th>4wks_sales</th>\n",
              "      <th>4wks_diff</th>\n",
              "      <th>5wks_sales</th>\n",
              "      <th>5wks_diff</th>\n",
              "      <th>6wks_sales</th>\n",
              "      <th>6wks_diff</th>\n",
              "      <th>7wks_sales</th>\n",
              "      <th>7wks_diff</th>\n",
              "      <th>8wks_sales</th>\n",
              "      <th>8wks_diff</th>\n",
              "      <th>new_years</th>\n",
              "      <th>christmas</th>\n",
              "      <th>thanksgiving</th>\n",
              "      <th>farm2table</th>\n",
              "      <th>memorial_day</th>\n",
              "      <th>back_to_school</th>\n",
              "    </tr>\n",
              "    <tr>\n",
              "      <th>item</th>\n",
              "      <th></th>\n",
              "      <th></th>\n",
              "      <th></th>\n",
              "      <th></th>\n",
              "      <th></th>\n",
              "      <th></th>\n",
              "      <th></th>\n",
              "      <th></th>\n",
              "      <th></th>\n",
              "      <th></th>\n",
              "      <th></th>\n",
              "      <th></th>\n",
              "      <th></th>\n",
              "      <th></th>\n",
              "      <th></th>\n",
              "      <th></th>\n",
              "      <th></th>\n",
              "      <th></th>\n",
              "      <th></th>\n",
              "      <th></th>\n",
              "      <th></th>\n",
              "      <th></th>\n",
              "      <th></th>\n",
              "      <th></th>\n",
              "      <th></th>\n",
              "      <th></th>\n",
              "      <th></th>\n",
              "      <th></th>\n",
              "      <th></th>\n",
              "      <th></th>\n",
              "      <th></th>\n",
              "      <th></th>\n",
              "    </tr>\n",
              "  </thead>\n",
              "  <tbody>\n",
              "    <tr>\n",
              "      <th>10004PM</th>\n",
              "      <td>0.0</td>\n",
              "      <td>16</td>\n",
              "      <td>228</td>\n",
              "      <td>4</td>\n",
              "      <td>8</td>\n",
              "      <td>2019</td>\n",
              "      <td>33</td>\n",
              "      <td>0</td>\n",
              "      <td>0</td>\n",
              "      <td>0.0</td>\n",
              "      <td>0.0</td>\n",
              "      <td>0.000000</td>\n",
              "      <td>0.0</td>\n",
              "      <td>0.0</td>\n",
              "      <td>0.0</td>\n",
              "      <td>0.0</td>\n",
              "      <td>0.0</td>\n",
              "      <td>0.0</td>\n",
              "      <td>0.0</td>\n",
              "      <td>0.0</td>\n",
              "      <td>0.0</td>\n",
              "      <td>0.0</td>\n",
              "      <td>0.0</td>\n",
              "      <td>0.0</td>\n",
              "      <td>0.0</td>\n",
              "      <td>0.0</td>\n",
              "      <td>False</td>\n",
              "      <td>False</td>\n",
              "      <td>False</td>\n",
              "      <td>False</td>\n",
              "      <td>False</td>\n",
              "      <td>False</td>\n",
              "    </tr>\n",
              "    <tr>\n",
              "      <th>10004PS</th>\n",
              "      <td>0.0</td>\n",
              "      <td>16</td>\n",
              "      <td>228</td>\n",
              "      <td>4</td>\n",
              "      <td>8</td>\n",
              "      <td>2019</td>\n",
              "      <td>33</td>\n",
              "      <td>0</td>\n",
              "      <td>0</td>\n",
              "      <td>0.0</td>\n",
              "      <td>0.0</td>\n",
              "      <td>0.000000</td>\n",
              "      <td>0.0</td>\n",
              "      <td>0.0</td>\n",
              "      <td>0.0</td>\n",
              "      <td>0.0</td>\n",
              "      <td>0.0</td>\n",
              "      <td>0.0</td>\n",
              "      <td>0.0</td>\n",
              "      <td>0.0</td>\n",
              "      <td>0.0</td>\n",
              "      <td>0.0</td>\n",
              "      <td>0.0</td>\n",
              "      <td>0.0</td>\n",
              "      <td>0.0</td>\n",
              "      <td>0.0</td>\n",
              "      <td>False</td>\n",
              "      <td>False</td>\n",
              "      <td>False</td>\n",
              "      <td>False</td>\n",
              "      <td>False</td>\n",
              "      <td>False</td>\n",
              "    </tr>\n",
              "    <tr>\n",
              "      <th>10005</th>\n",
              "      <td>0.0</td>\n",
              "      <td>16</td>\n",
              "      <td>228</td>\n",
              "      <td>4</td>\n",
              "      <td>8</td>\n",
              "      <td>2019</td>\n",
              "      <td>33</td>\n",
              "      <td>0</td>\n",
              "      <td>0</td>\n",
              "      <td>0.0</td>\n",
              "      <td>0.0</td>\n",
              "      <td>0.000000</td>\n",
              "      <td>0.0</td>\n",
              "      <td>0.0</td>\n",
              "      <td>0.0</td>\n",
              "      <td>0.0</td>\n",
              "      <td>0.0</td>\n",
              "      <td>0.0</td>\n",
              "      <td>0.0</td>\n",
              "      <td>0.0</td>\n",
              "      <td>0.0</td>\n",
              "      <td>0.0</td>\n",
              "      <td>0.0</td>\n",
              "      <td>0.0</td>\n",
              "      <td>0.0</td>\n",
              "      <td>0.0</td>\n",
              "      <td>False</td>\n",
              "      <td>False</td>\n",
              "      <td>False</td>\n",
              "      <td>False</td>\n",
              "      <td>False</td>\n",
              "      <td>False</td>\n",
              "    </tr>\n",
              "    <tr>\n",
              "      <th>10005A</th>\n",
              "      <td>0.0</td>\n",
              "      <td>16</td>\n",
              "      <td>228</td>\n",
              "      <td>4</td>\n",
              "      <td>8</td>\n",
              "      <td>2019</td>\n",
              "      <td>33</td>\n",
              "      <td>0</td>\n",
              "      <td>0</td>\n",
              "      <td>0.0</td>\n",
              "      <td>0.0</td>\n",
              "      <td>0.000000</td>\n",
              "      <td>0.0</td>\n",
              "      <td>0.0</td>\n",
              "      <td>0.0</td>\n",
              "      <td>0.0</td>\n",
              "      <td>0.0</td>\n",
              "      <td>0.0</td>\n",
              "      <td>0.0</td>\n",
              "      <td>0.0</td>\n",
              "      <td>0.0</td>\n",
              "      <td>0.0</td>\n",
              "      <td>0.0</td>\n",
              "      <td>0.0</td>\n",
              "      <td>0.0</td>\n",
              "      <td>0.0</td>\n",
              "      <td>False</td>\n",
              "      <td>False</td>\n",
              "      <td>False</td>\n",
              "      <td>False</td>\n",
              "      <td>False</td>\n",
              "      <td>False</td>\n",
              "    </tr>\n",
              "    <tr>\n",
              "      <th>10006</th>\n",
              "      <td>0.0</td>\n",
              "      <td>16</td>\n",
              "      <td>228</td>\n",
              "      <td>4</td>\n",
              "      <td>8</td>\n",
              "      <td>2019</td>\n",
              "      <td>33</td>\n",
              "      <td>0</td>\n",
              "      <td>0</td>\n",
              "      <td>0.0</td>\n",
              "      <td>0.0</td>\n",
              "      <td>0.000000</td>\n",
              "      <td>0.0</td>\n",
              "      <td>0.0</td>\n",
              "      <td>0.0</td>\n",
              "      <td>0.0</td>\n",
              "      <td>0.0</td>\n",
              "      <td>0.0</td>\n",
              "      <td>0.0</td>\n",
              "      <td>0.0</td>\n",
              "      <td>0.0</td>\n",
              "      <td>0.0</td>\n",
              "      <td>0.0</td>\n",
              "      <td>0.0</td>\n",
              "      <td>0.0</td>\n",
              "      <td>0.0</td>\n",
              "      <td>False</td>\n",
              "      <td>False</td>\n",
              "      <td>False</td>\n",
              "      <td>False</td>\n",
              "      <td>False</td>\n",
              "      <td>False</td>\n",
              "    </tr>\n",
              "    <tr>\n",
              "      <th>...</th>\n",
              "      <td>...</td>\n",
              "      <td>...</td>\n",
              "      <td>...</td>\n",
              "      <td>...</td>\n",
              "      <td>...</td>\n",
              "      <td>...</td>\n",
              "      <td>...</td>\n",
              "      <td>...</td>\n",
              "      <td>...</td>\n",
              "      <td>...</td>\n",
              "      <td>...</td>\n",
              "      <td>...</td>\n",
              "      <td>...</td>\n",
              "      <td>...</td>\n",
              "      <td>...</td>\n",
              "      <td>...</td>\n",
              "      <td>...</td>\n",
              "      <td>...</td>\n",
              "      <td>...</td>\n",
              "      <td>...</td>\n",
              "      <td>...</td>\n",
              "      <td>...</td>\n",
              "      <td>...</td>\n",
              "      <td>...</td>\n",
              "      <td>...</td>\n",
              "      <td>...</td>\n",
              "      <td>...</td>\n",
              "      <td>...</td>\n",
              "      <td>...</td>\n",
              "      <td>...</td>\n",
              "      <td>...</td>\n",
              "      <td>...</td>\n",
              "    </tr>\n",
              "    <tr>\n",
              "      <th>R30601</th>\n",
              "      <td>1.0</td>\n",
              "      <td>16</td>\n",
              "      <td>228</td>\n",
              "      <td>4</td>\n",
              "      <td>8</td>\n",
              "      <td>2019</td>\n",
              "      <td>33</td>\n",
              "      <td>0</td>\n",
              "      <td>0</td>\n",
              "      <td>1.0</td>\n",
              "      <td>0.0</td>\n",
              "      <td>0.693147</td>\n",
              "      <td>0.0</td>\n",
              "      <td>1.0</td>\n",
              "      <td>1.1</td>\n",
              "      <td>-0.1</td>\n",
              "      <td>0.0</td>\n",
              "      <td>1.0</td>\n",
              "      <td>0.5</td>\n",
              "      <td>0.5</td>\n",
              "      <td>2.0</td>\n",
              "      <td>-1.0</td>\n",
              "      <td>0.0</td>\n",
              "      <td>1.0</td>\n",
              "      <td>0.0</td>\n",
              "      <td>1.0</td>\n",
              "      <td>False</td>\n",
              "      <td>False</td>\n",
              "      <td>False</td>\n",
              "      <td>False</td>\n",
              "      <td>False</td>\n",
              "      <td>False</td>\n",
              "    </tr>\n",
              "    <tr>\n",
              "      <th>R30683</th>\n",
              "      <td>1.1</td>\n",
              "      <td>16</td>\n",
              "      <td>228</td>\n",
              "      <td>4</td>\n",
              "      <td>8</td>\n",
              "      <td>2019</td>\n",
              "      <td>33</td>\n",
              "      <td>0</td>\n",
              "      <td>0</td>\n",
              "      <td>0.0</td>\n",
              "      <td>1.1</td>\n",
              "      <td>0.741937</td>\n",
              "      <td>0.0</td>\n",
              "      <td>1.1</td>\n",
              "      <td>0.0</td>\n",
              "      <td>1.1</td>\n",
              "      <td>0.0</td>\n",
              "      <td>1.1</td>\n",
              "      <td>1.0</td>\n",
              "      <td>0.1</td>\n",
              "      <td>0.0</td>\n",
              "      <td>1.1</td>\n",
              "      <td>0.0</td>\n",
              "      <td>1.1</td>\n",
              "      <td>0.0</td>\n",
              "      <td>1.1</td>\n",
              "      <td>False</td>\n",
              "      <td>False</td>\n",
              "      <td>False</td>\n",
              "      <td>False</td>\n",
              "      <td>False</td>\n",
              "      <td>False</td>\n",
              "    </tr>\n",
              "    <tr>\n",
              "      <th>R40008</th>\n",
              "      <td>0.0</td>\n",
              "      <td>16</td>\n",
              "      <td>228</td>\n",
              "      <td>4</td>\n",
              "      <td>8</td>\n",
              "      <td>2019</td>\n",
              "      <td>33</td>\n",
              "      <td>0</td>\n",
              "      <td>0</td>\n",
              "      <td>3.1</td>\n",
              "      <td>-3.1</td>\n",
              "      <td>0.000000</td>\n",
              "      <td>17.0</td>\n",
              "      <td>-17.0</td>\n",
              "      <td>16.2</td>\n",
              "      <td>-16.2</td>\n",
              "      <td>1.1</td>\n",
              "      <td>-1.1</td>\n",
              "      <td>5.1</td>\n",
              "      <td>-5.1</td>\n",
              "      <td>5.0</td>\n",
              "      <td>-5.0</td>\n",
              "      <td>0.0</td>\n",
              "      <td>0.0</td>\n",
              "      <td>0.0</td>\n",
              "      <td>0.0</td>\n",
              "      <td>False</td>\n",
              "      <td>False</td>\n",
              "      <td>False</td>\n",
              "      <td>False</td>\n",
              "      <td>False</td>\n",
              "      <td>False</td>\n",
              "    </tr>\n",
              "    <tr>\n",
              "      <th>R50084</th>\n",
              "      <td>1.0</td>\n",
              "      <td>16</td>\n",
              "      <td>228</td>\n",
              "      <td>4</td>\n",
              "      <td>8</td>\n",
              "      <td>2019</td>\n",
              "      <td>33</td>\n",
              "      <td>0</td>\n",
              "      <td>0</td>\n",
              "      <td>1.6</td>\n",
              "      <td>-0.6</td>\n",
              "      <td>0.693147</td>\n",
              "      <td>5.0</td>\n",
              "      <td>-4.0</td>\n",
              "      <td>1.0</td>\n",
              "      <td>0.0</td>\n",
              "      <td>0.3</td>\n",
              "      <td>0.7</td>\n",
              "      <td>0.0</td>\n",
              "      <td>1.0</td>\n",
              "      <td>1.0</td>\n",
              "      <td>0.0</td>\n",
              "      <td>1.2</td>\n",
              "      <td>-0.2</td>\n",
              "      <td>1.2</td>\n",
              "      <td>-0.2</td>\n",
              "      <td>False</td>\n",
              "      <td>False</td>\n",
              "      <td>False</td>\n",
              "      <td>False</td>\n",
              "      <td>False</td>\n",
              "      <td>False</td>\n",
              "    </tr>\n",
              "    <tr>\n",
              "      <th>R60013</th>\n",
              "      <td>4.0</td>\n",
              "      <td>16</td>\n",
              "      <td>228</td>\n",
              "      <td>4</td>\n",
              "      <td>8</td>\n",
              "      <td>2019</td>\n",
              "      <td>33</td>\n",
              "      <td>0</td>\n",
              "      <td>0</td>\n",
              "      <td>1.0</td>\n",
              "      <td>3.0</td>\n",
              "      <td>1.609438</td>\n",
              "      <td>1.0</td>\n",
              "      <td>3.0</td>\n",
              "      <td>5.2</td>\n",
              "      <td>-1.2</td>\n",
              "      <td>0.0</td>\n",
              "      <td>4.0</td>\n",
              "      <td>4.1</td>\n",
              "      <td>-0.1</td>\n",
              "      <td>1.0</td>\n",
              "      <td>3.0</td>\n",
              "      <td>0.1</td>\n",
              "      <td>3.9</td>\n",
              "      <td>0.1</td>\n",
              "      <td>3.9</td>\n",
              "      <td>False</td>\n",
              "      <td>False</td>\n",
              "      <td>False</td>\n",
              "      <td>False</td>\n",
              "      <td>False</td>\n",
              "      <td>False</td>\n",
              "    </tr>\n",
              "  </tbody>\n",
              "</table>\n",
              "<p>1332 rows × 32 columns</p>\n",
              "</div>"
            ],
            "text/plain": [
              "         sales  dayofmonth  dayofyear  ...  farm2table  memorial_day  back_to_school\n",
              "item                                   ...                                          \n",
              "10004PM    0.0          16        228  ...       False         False           False\n",
              "10004PS    0.0          16        228  ...       False         False           False\n",
              "10005      0.0          16        228  ...       False         False           False\n",
              "10005A     0.0          16        228  ...       False         False           False\n",
              "10006      0.0          16        228  ...       False         False           False\n",
              "...        ...         ...        ...  ...         ...           ...             ...\n",
              "R30601     1.0          16        228  ...       False         False           False\n",
              "R30683     1.1          16        228  ...       False         False           False\n",
              "R40008     0.0          16        228  ...       False         False           False\n",
              "R50084     1.0          16        228  ...       False         False           False\n",
              "R60013     4.0          16        228  ...       False         False           False\n",
              "\n",
              "[1332 rows x 32 columns]"
            ]
          },
          "metadata": {
            "tags": []
          },
          "execution_count": 58
        }
      ]
    },
    {
      "cell_type": "code",
      "metadata": {
        "id": "DgxOWxNfrxM1",
        "colab_type": "code",
        "outputId": "11ea3000-16ce-4f43-9c02-3ee6f2c38ba6",
        "colab": {
          "base_uri": "https://localhost:8080/",
          "height": 84
        }
      },
      "source": [
        "#Officially training and testing the last weeks model with the best tree parameters\n",
        "  \n",
        "#def model(df, week):\n",
        "\n",
        "%%time \n",
        "train = melt2[melt2['weekofyear'] < 33]\n",
        "test = melt2[melt2['weekofyear'] == 33]\n",
        "    \n",
        "x_train, x_test = train.drop(['sales'], axis=1), test.drop(['sales'], axis=1)\n",
        "y_train, y_test = train['sales'].values, test['sales'].values\n",
        "    \n",
        "mdl = RandomForestRegressor(n_estimators=1000, max_depth= 5, n_jobs=-1, random_state=0)\n",
        "mdl.fit(x_train, np.log1p(y_train))\n",
        "    \n",
        "p_train = np.expm1(mdl.predict(x_train))\n",
        "train_error = rmse(y_train, p_train) \n",
        "print (f'Train Error= {train_error}')\n",
        "\n",
        "pred_vs_actual_train = pd.DataFrame({\n",
        "    'actual': y_train,\n",
        "    'predicted': p_train,\n",
        "    'error_rf': (((p_train-y_train)/y_train*100)),\n",
        "    'rmse': train_error,\n",
        "})\n",
        "pred_vs_actual_train= pred_vs_actual_train.round(3)\n",
        "        \n",
        "p = np.expm1(mdl.predict(x_test))\n",
        "error = rmse(y_test, p)\n",
        "print (f'Test Error= {error}')\n",
        "\n",
        "pred_vs_actual_test = pd.DataFrame({\n",
        "    'actual': y_test,\n",
        "    'predicted': p,\n",
        "    'error_rf': (((p-y_test)/y_test*100)),\n",
        "    'rmse': error,\n",
        "})\n",
        "pred_vs_actual_test= pred_vs_actual_test.round(3)"
      ],
      "execution_count": 0,
      "outputs": [
        {
          "output_type": "stream",
          "text": [
            "Train Error= 2.948\n",
            "Test Error= 1.202\n",
            "CPU times: user 1min 58s, sys: 396 ms, total: 1min 58s\n",
            "Wall time: 1min\n"
          ],
          "name": "stdout"
        }
      ]
    },
    {
      "cell_type": "code",
      "metadata": {
        "id": "raetlru0CuoU",
        "colab_type": "code",
        "outputId": "4071c31b-09a1-45ca-e36b-121f6bb1ef3e",
        "colab": {
          "base_uri": "https://localhost:8080/",
          "height": 252
        }
      },
      "source": [
        "#Test\n",
        "test.reset_index(inplace=True)\n",
        "results_test = pd.concat([test, pred_vs_actual_test], axis=1, sort=False)\n",
        "results_test= results_test[['item', 'weekofyear', 'actual', 'last_wk_sales','predicted', 'error_rf', 'rmse']]\n",
        "results_test['error_n']= ((results_test.last_wk_sales.values- results_test.actual.values)/results_test.actual.values)*100\n",
        "\n",
        "print (results_test)\n"
      ],
      "execution_count": 0,
      "outputs": [
        {
          "output_type": "stream",
          "text": [
            "         item  weekofyear  actual  ...  error_rf   rmse  error_n\n",
            "0     10004PM          33     0.0  ...       inf  1.202      NaN\n",
            "1     10004PS          33     0.0  ...       inf  1.202      NaN\n",
            "2       10005          33     0.0  ...       inf  1.202      NaN\n",
            "3      10005A          33     0.0  ...       inf  1.202      NaN\n",
            "4       10006          33     0.0  ...       inf  1.202      NaN\n",
            "...       ...         ...     ...  ...       ...    ...      ...\n",
            "1327   R30601          33     1.0  ...     0.115  1.202      0.0\n",
            "1328   R30683          33     1.1  ...    -8.987  1.202   -100.0\n",
            "1329   R40008          33     0.0  ...       inf  1.202      inf\n",
            "1330   R50084          33     1.0  ...     0.115  1.202     60.0\n",
            "1331   R60013          33     4.0  ...    -1.843  1.202    -75.0\n",
            "\n",
            "[1332 rows x 8 columns]\n"
          ],
          "name": "stdout"
        }
      ]
    },
    {
      "cell_type": "code",
      "metadata": {
        "id": "JoAy2a_EGGad",
        "colab_type": "code",
        "outputId": "415ae0d8-25b9-443f-d42c-9ce01f0a9c5f",
        "colab": {
          "base_uri": "https://localhost:8080/",
          "height": 482
        }
      },
      "source": [
        "#Actual values versus predicted values\n",
        "print (\"How much better did the Random Forest perform than the Naive Model?\")\n",
        "print(f'Random Forest model increased performance by: {abs((error-naive_error)/naive_error) * 100: .2f} % \\n')\n",
        "plt.figure(figsize=(10,6))\n",
        "plt.scatter(results_test.actual, results_test.predicted, s=300, color='lightseagreen', alpha= .4, label= \"Random Forest\")\n",
        "plt.scatter(results_test.actual, results_test.last_wk_sales, s=50, color='red', alpha= .1, label= \"Naive Model\")\n",
        "\n",
        "x = np.linspace(0,60,60)\n",
        "y = x\n",
        "plt.plot(x, y, 'k', linestyle='--', label= \"Perfect Prediction\")\n",
        "plt.legend()\n",
        "plt.ylim(0,60)\n",
        "plt.xlim(0,60)\n",
        "plt.xlabel('Actual Quantities')\n",
        "plt.ylabel('Predicted Quantities')\n",
        "plt.title(\"How well did the Random Forest Do?\", fontsize= 18)\n"
      ],
      "execution_count": 0,
      "outputs": [
        {
          "output_type": "stream",
          "text": [
            "How much better did the Random Forest perform than the Naive Model?\n",
            "Random Forest model increased performance by:  91.36 % \n",
            "\n"
          ],
          "name": "stdout"
        },
        {
          "output_type": "execute_result",
          "data": {
            "text/plain": [
              "Text(0.5, 1.0, 'How well did the Random Forest Do?')"
            ]
          },
          "metadata": {
            "tags": []
          },
          "execution_count": 61
        },
        {
          "output_type": "display_data",
          "data": {
            "image/png": "[encoded data removed]",
            "text/plain": [
              "<Figure size 720x432 with 1 Axes>"
            ]
          },
          "metadata": {
            "tags": []
          }
        }
      ]
    },
    {
      "cell_type": "markdown",
      "metadata": {
        "id": "MWUlRkqAExKt",
        "colab_type": "text"
      },
      "source": [
        "#### Insights\n",
        "\n",
        "\n",
        "*   Runs fairly slow, I can adjust number of trees to improve this and see how that affects the performance\n",
        "*   62% increase in performance!\n",
        "\n"
      ]
    },
    {
      "cell_type": "code",
      "metadata": {
        "id": "vB3RPFLCb3vR",
        "colab_type": "code",
        "colab": {}
      },
      "source": [
        "feature_importances = pd.Series(mdl.feature_importances_, index=x_train.columns)\n",
        "feature_importances.sort_values(inplace=True, ascending=False)\n",
        "feature_importances[:50].plot.bar( color=\"dodgerblue\", figsize= (10,8), width= 1)\n",
        "plt.title(\"Most Important Features for Random Forest\")"
      ],
      "execution_count": 0,
      "outputs": []
    },
    {
      "cell_type": "markdown",
      "metadata": {
        "id": "acUT-aZjTklv",
        "colab_type": "text"
      },
      "source": [
        "# Light Gradiant Boost Model\n",
        "* Cutting edge with gradient boosting!\n",
        "* Wins lots of Kaggle Competitions!\n",
        "* Seems to be super efficient"
      ]
    },
    {
      "cell_type": "code",
      "metadata": {
        "id": "xKQUfs1YTn0e",
        "colab_type": "code",
        "outputId": "03fdb9cd-3111-4292-9d37-ae433f15b050",
        "colab": {
          "base_uri": "https://localhost:8080/",
          "height": 151
        }
      },
      "source": [
        "#LGBM WITH logged data\n",
        "\n",
        "mean_error = []\n",
        "\n",
        "for week in range(last_week-8, last_week): #setting up 8 weeks train/test set\n",
        "  \n",
        "    train = melt2[melt2['weekofyear'] < week]\n",
        "    val = melt2[melt2['weekofyear'] == week]\n",
        "    \n",
        "    xtr, xts = train.drop(['sales'], axis=1), val.drop(['sales'], axis=1)\n",
        "    ytr, yts = train['sales'].values, val['sales'].values\n",
        "    \n",
        "    mdl = LGBMRegressor(n_estimators=1000, learning_rate=0.01)\n",
        "    mdl.fit(xtr, np.log1p(ytr))\n",
        "    \n",
        "    p = np.expm1(mdl.predict(xts))\n",
        "    \n",
        "    error = rmse(yts, p)\n",
        "    print('Week %d - Error %.5f' % (week, error))\n",
        "    mean_error.append(error)\n",
        "    \n"
      ],
      "execution_count": 0,
      "outputs": [
        {
          "output_type": "stream",
          "text": [
            "Week 26 - Error 0.40700\n",
            "Week 27 - Error 0.67300\n",
            "Week 28 - Error 0.86800\n",
            "Week 29 - Error 0.50800\n",
            "Week 30 - Error 0.40700\n",
            "Week 31 - Error 0.29000\n",
            "Week 32 - Error 0.56600\n",
            "Week 33 - Error 0.03500\n"
          ],
          "name": "stdout"
        }
      ]
    },
    {
      "cell_type": "code",
      "metadata": {
        "id": "Y9TcfWOKIyFy",
        "colab_type": "code",
        "outputId": "313203c1-4508-4c24-abb7-a4eab540476e",
        "colab": {
          "base_uri": "https://localhost:8080/",
          "height": 101
        }
      },
      "source": [
        "print (\"How Well Did the Models Do?\\n\")\n",
        "\n",
        "print (f\"Mean Error of Naive Model = {naive_error}\")\n",
        "print (\"Mean Error of Random Forest= 0.289\")\n",
        "print(f\"Mean Error of a LGBM = {np.mean(mean_error):.3f}\" )"
      ],
      "execution_count": 0,
      "outputs": [
        {
          "output_type": "stream",
          "text": [
            "How Well Did the Models Do?\n",
            "\n",
            "Mean Error of Naive Model = 7.71675\n",
            "Mean Error of Random Forest= 0.289\n",
            "Mean Error of a LGBM = 0.469\n"
          ],
          "name": "stdout"
        }
      ]
    },
    {
      "cell_type": "code",
      "metadata": {
        "id": "UqcW0RCjRiuk",
        "colab_type": "code",
        "colab": {}
      },
      "source": [
        "#parameter hyper tuning\n",
        "\n",
        "# params = {\n",
        "#     'boosting_type': 'gbdt',  # np.random.choice(['dart', 'gbdt']),\n",
        "#     'objective': 'binary',\n",
        "#     'metric': ['binary_logloss', 'auc'], \n",
        "    \n",
        "#     'learning_rate': 0.35,\n",
        "    \n",
        "#     'num_leaves': np.random.randint(64, 128),\n",
        "#     'max_depth': np.random.randint(6, 12),\n",
        "#     'min_data_in_leaf': int(2 ** (np.random.rand()*3.5 + 9)),\n",
        "    \n",
        "#     'feature_fraction': np.random.rand()*0.35+0.65,\n",
        "#     'bagging_fraction': np.random.rand()*0.35+0.65,\n",
        "#     'bagging_freq': 1,\n",
        "    \n",
        "#     'lambda_l1': 10 ** (np.random.rand() * 4),\n",
        "#     'lambda_l2': 10 ** (np.random.rand() * 3 + 2),\n",
        "#     'min_gain_to_split': 0.0,\n",
        "#     'min_sum_hessian_in_leaf': 0.1,\n",
        "    \n",
        "#     'num_threads': 16,\n",
        "#     'verbose': 0,\n",
        "#     'is_training_metric': 'True'\n",
        "# }"
      ],
      "execution_count": 0,
      "outputs": []
    },
    {
      "cell_type": "code",
      "metadata": {
        "id": "ePqN5ciqRKHw",
        "colab_type": "code",
        "outputId": "6810bd7c-b36c-44f9-f8a7-1c376e2fab7b",
        "colab": {
          "base_uri": "https://localhost:8080/",
          "height": 34
        }
      },
      "source": [
        "# Hypertune Parameters of LGBM Model\n",
        "\n",
        "from sklearn.model_selection import GridSearchCV\n",
        "estimator = LGBMRegressor()\n",
        "\n",
        "param_grid = {\n",
        "    'learning_rate': [0.01, 0.05, .1, .2, .3],\n",
        "    'n_estimators': [20, 50, 100, 500, 1000],\n",
        "    'num_leaves':[3,4,5,6,7,8,9,10,15,20,25,30]\n",
        "}\n",
        "\n",
        "gbm = GridSearchCV(estimator, param_grid, cv=3)\n",
        "gbm.fit(x_train, y_train)\n",
        "\n",
        "print('Best parameters found by grid search are:', gbm.best_params_)"
      ],
      "execution_count": 0,
      "outputs": [
        {
          "output_type": "stream",
          "text": [
            "Best parameters found by grid search are: {'learning_rate': 0.05, 'n_estimators': 1000, 'num_leaves': 4}\n"
          ],
          "name": "stdout"
        }
      ]
    },
    {
      "cell_type": "code",
      "metadata": {
        "id": "3HE1L-xOVE2a",
        "colab_type": "code",
        "outputId": "158c0745-d614-4f57-b19d-f28f6e76410a",
        "colab": {
          "base_uri": "https://localhost:8080/",
          "height": 322
        }
      },
      "source": [
        "#Is my model over fitting here? Possibly! Let's take a look at how max_depth affects overfitting\n",
        "#We'll take the last week in the data set as the testing set and train on the other weeks\n",
        "\n",
        "%%time \n",
        "train = melt2[melt2['weekofyear'] < 33] #NOTE: our training set gets smaller the further out the weeks are\n",
        "test = melt2[melt2['weekofyear'] == 33]\n",
        "    \n",
        "x_train, x_test = train.drop(['sales'], axis=1), test.drop(['sales'], axis=1)\n",
        "y_train, y_test = train['sales'].values, test['sales'].values\n",
        "\n",
        "\n",
        "max_depths = [1,2,3,4,5,6,7,8,9,10,11,12,13,14,15]\n",
        "train_results = []\n",
        "test_results = []\n",
        "\n",
        "for max_depth in max_depths:\n",
        "  lgb = LGBMRegressor(n_estimators=1000, num_leaves=4, max_depth=max_depth, learning_rate=0.05)\n",
        "  lgb.fit(x_train, y_train)\n",
        "  train_p = lgb.predict(x_train)\n",
        "  train_err = rmse(y_train, train_p)\n",
        "  train_results.append(train_err)\n",
        "  \n",
        "  test_p = lgb.predict(x_test)\n",
        "  test_err = rmse(y_test, test_p)\n",
        "  test_results.append(test_err)\n",
        "\n",
        "#Plot Tree Depth of Testing Versus Training\n",
        "plt.plot(max_depths, train_results, color= 'b', label='Train RMSE')\n",
        "plt.plot(max_depths, test_results, color= 'r', label='Test RMSE')\n",
        "plt.legend()\n",
        "plt.ylabel('RMSE')\n",
        "plt.ylim(0,1)\n",
        "plt.xlabel('Tree Depth')\n",
        "plt.show()"
      ],
      "execution_count": 0,
      "outputs": [
        {
          "output_type": "display_data",
          "data": {
            "image/png": "[encoded data removed]",
            "text/plain": [
              "<Figure size 432x288 with 1 Axes>"
            ]
          },
          "metadata": {
            "tags": []
          }
        },
        {
          "output_type": "stream",
          "text": [
            "CPU times: user 1min 4s, sys: 445 ms, total: 1min 5s\n",
            "Wall time: 34.2 s\n"
          ],
          "name": "stdout"
        }
      ]
    },
    {
      "cell_type": "markdown",
      "metadata": {
        "id": "QLie7G1hY8Ro",
        "colab_type": "text"
      },
      "source": [
        "#### INSIGHTS\n",
        "\n",
        "\n",
        "*   Best parameters found by grid search are: {'learning_rate': 0.05, 'n_estimators': 1000, 'num_leaves': 4}\n",
        "*   To prevent overfitting max_depth is set to 2 to prevent overfitting\n",
        "\n"
      ]
    },
    {
      "cell_type": "code",
      "metadata": {
        "id": "BERd2gWwP-8A",
        "colab_type": "code",
        "outputId": "bf4345c4-f0fa-4810-832a-9e4cd9fe22f5",
        "colab": {
          "base_uri": "https://localhost:8080/",
          "height": 84
        }
      },
      "source": [
        "#Officially training and testing the last weeks model with the best tree parameters\n",
        "  \n",
        "#def model(df, week):\n",
        "\n",
        "%%time \n",
        "train = melt2[melt2['weekofyear'] < 34]\n",
        "test = melt2[melt2['weekofyear'] == 34]\n",
        "    \n",
        "x_train, x_test = train.drop(['sales'], axis=1), test.drop(['sales'], axis=1)\n",
        "y_train, y_test = train['sales'].values, test['sales'].values\n",
        "    \n",
        "lgb = LGBMRegressor(n_estimators=1000, num_leaves=4, max_depth= 2, learning_rate=0.05)\n",
        "lgb.fit(x_train, np.log1p(y_train))\n",
        "    \n",
        "p_train = np.expm1(lgb.predict(x_train))\n",
        "train_error = rmse(y_train, p_train) \n",
        "print (f'Train Error= {train_error}')\n",
        "\n",
        "pred_vs_actual_train = pd.DataFrame({\n",
        "    'actual': y_train,\n",
        "    'predicted': p_train,\n",
        "    'error_rf': (((p_train-y_train)/y_train*100)),\n",
        "    'rmse': train_error,\n",
        "})\n",
        "pred_vs_actual_train= pred_vs_actual_train.round(3)\n",
        "        \n",
        "p = np.expm1(lgb.predict(x_test))\n",
        "error = rmse(y_test, p)\n",
        "print (f'Test Error= {error}')\n",
        "\n",
        "pred_vs_actual_test = pd.DataFrame({\n",
        "    'actual': y_test,\n",
        "    'predicted': p,\n",
        "    'error_rf': (((p-y_test)/y_test*100)),\n",
        "    'rmse': error,\n",
        "})\n",
        "pred_vs_actual_test= pred_vs_actual_test.round(3)"
      ],
      "execution_count": 0,
      "outputs": [
        {
          "output_type": "stream",
          "text": [
            "Train Error= 0.218\n",
            "Test Error= 0.521\n",
            "CPU times: user 4.31 s, sys: 33.9 ms, total: 4.34 s\n",
            "Wall time: 2.26 s\n"
          ],
          "name": "stdout"
        }
      ]
    },
    {
      "cell_type": "code",
      "metadata": {
        "id": "NDo-9CjGPLSQ",
        "colab_type": "code",
        "outputId": "a5e78357-d052-4326-f533-bf4a2ee2e187",
        "colab": {
          "base_uri": "https://localhost:8080/",
          "height": 482
        }
      },
      "source": [
        "#Test\n",
        "test.reset_index(inplace=True)\n",
        "results_test = pd.concat([test, pred_vs_actual_test], axis=1, sort=False)\n",
        "results_test= results_test[['item', 'weekofyear', 'actual', 'last_wk_sales','predicted', 'error_rf', 'rmse']]\n",
        "results_test['error_n']= ((results_test.last_wk_sales.values- results_test.actual.values)/results_test.actual.values)*100\n",
        "\n",
        "#Actual values versus predicted values\n",
        "print (\"How much better did the LightGBM perform than the Naive Model?\")\n",
        "print(f'LightGBM increased performance by: {abs((error-naive_error)/naive_error) * 100: .2f} % \\n')\n",
        "plt.figure(figsize=(10,6))\n",
        "plt.scatter(results_test.actual, results_test.predicted, s=300, color='lightseagreen', alpha= .4, label= \"LGBM Forest\")\n",
        "plt.scatter(results_test.actual, results_test.last_wk_sales, s=50, color='red', alpha= .1, label= \"Naive Model\")\n",
        "\n",
        "x = np.linspace(0,60,60)\n",
        "y = x\n",
        "plt.plot(x, y, 'k', linestyle='--', label= \"Perfect Prediction\")\n",
        "plt.legend()\n",
        "plt.ylim(0,60)\n",
        "plt.xlim(0,60)\n",
        "plt.xlabel('Actual Quantities')\n",
        "plt.ylabel('Predicted Quantities')\n",
        "plt.title(\"How well did the LightGradientBoost Model Do?\", fontsize= 18)\n"
      ],
      "execution_count": 0,
      "outputs": [
        {
          "output_type": "stream",
          "text": [
            "How much better did the LightGBM perform than the Naive Model?\n",
            "LightGBM increased performance by:  93.25 % \n",
            "\n"
          ],
          "name": "stdout"
        },
        {
          "output_type": "execute_result",
          "data": {
            "text/plain": [
              "Text(0.5, 1.0, 'How well did the LightGradientBoost Model Do?')"
            ]
          },
          "metadata": {
            "tags": []
          },
          "execution_count": 51
        },
        {
          "output_type": "display_data",
          "data": {
            "image/png": "[encoded data removed]",
            "text/plain": [
              "<Figure size 720x432 with 1 Axes>"
            ]
          },
          "metadata": {
            "tags": []
          }
        }
      ]
    },
    {
      "cell_type": "markdown",
      "metadata": {
        "id": "BN8EYUQybpq8",
        "colab_type": "text"
      },
      "source": [
        "#### Which features are the most important?"
      ]
    },
    {
      "cell_type": "code",
      "metadata": {
        "id": "yhJX9M-lWTNS",
        "colab_type": "code",
        "outputId": "1d3b5a0d-f813-4266-be46-25f114a86064",
        "colab": {
          "base_uri": "https://localhost:8080/",
          "height": 592
        }
      },
      "source": [
        "# feature importances\n",
        "feature_importances = pd.Series(lgb.feature_importances_, index=x_train.columns)\n",
        "feature_importances.sort_values(inplace=True, ascending=False)\n",
        "feature_importances[:50].plot.bar( color=\"dodgerblue\", figsize= (10,8), width= 1)\n",
        "plt.title(\"Most Important Features for LightGB MODEL\")"
      ],
      "execution_count": 0,
      "outputs": [
        {
          "output_type": "execute_result",
          "data": {
            "text/plain": [
              "Text(0.5, 1.0, 'Most Important Features for LightGB MODEL')"
            ]
          },
          "metadata": {
            "tags": []
          },
          "execution_count": 60
        },
        {
          "output_type": "display_data",
          "data": {
            "image/png": "[encoded data removed]",
            "text/plain": [
              "<Figure size 720x576 with 1 Axes>"
            ]
          },
          "metadata": {
            "tags": []
          }
        }
      ]
    },
    {
      "cell_type": "markdown",
      "metadata": {
        "id": "TZ-1nImTePG_",
        "colab_type": "text"
      },
      "source": [
        "# Questions\n",
        "\n",
        "1. Is LGBM overfitting?\n",
        "2.   Can I drop features that don't make a difference?\n",
        "3.   Which models should I use?\n",
        "4.  HOW TO TRANSLATE WHAT I HAVE TO ACTUAL WEEKLY PREDICTIONS????????????\n",
        "    >* so i would have to create a data of x_variables somehow and then that would be my prediction for the y variables!\n",
        "    >* how to create a data frame of x_variables?\n",
        "5. HOW TO IMPLEMENT THIS MODEL IN THE REAL WORLD???\n",
        "6.Can I implement every Sunday and Thursday?\n",
        "7.best way to calculate accuracy for model?? percent change from naive RMSE to new RMSE????\n",
        "\n"
      ]
    },
    {
      "cell_type": "markdown",
      "metadata": {
        "id": "qkIDloBOeb2g",
        "colab_type": "text"
      },
      "source": [
        "# NOTES HOW TO REDUCE OVERFITTING\n",
        "\n",
        "Tuning for overfitting\n",
        "\n",
        "In addition to the parameters mentioned above the following parameters can be used to control overfitting:\n",
        "\n",
        "* max_bin: the maximum numbers bins that feature values are bucketed in. A smaller max_bin reduces overfitting.\n",
        "* min_child_weight: the minimum sum hessian for a leaf. In conjuction with min_child_samples, larger values reduce overfitting.\n",
        "* bagging_fraction and bagging_freq: enables bagging (subsampling) of the training data. Both values need to be set for bagging to be used. The frequency controls how often (iteration) bagging is used. Smaller fractions and frequencies reduce overfitting.\n",
        "* feature_fraction: controls the subsampling of features used for training (as opposed to subsampling the actual training data in the case of bagging). Smaller fractions reduce overfitting.\n",
        "* lambda_l1 and lambda_l2: controls L1 and L2 regularization."
      ]
    },
    {
      "cell_type": "code",
      "metadata": {
        "id": "llOUBdYRfAei",
        "colab_type": "code",
        "colab": {}
      },
      "source": [
        ""
      ],
      "execution_count": 0,
      "outputs": []
    }
  ]
}