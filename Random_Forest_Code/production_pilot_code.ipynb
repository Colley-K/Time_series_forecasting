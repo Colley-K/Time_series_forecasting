{
  "nbformat": 4,
  "nbformat_minor": 0,
  "metadata": {
    "colab": {
      "name": "production_pilot_code.ipynb",
      "provenance": [],
      "collapsed_sections": []
    },
    "kernelspec": {
      "name": "python3",
      "display_name": "Python 3"
    },
    "accelerator": "GPU"
  },
  "cells": [
    {
      "cell_type": "markdown",
      "metadata": {
        "id": "NykQRBjnw3ay",
        "colab_type": "text"
      },
      "source": [
        "# State of the Union \n",
        "\n",
        "QUESTIONS: why did train do better than test?\n",
        "BEST Parameters: 7 max tree depth and 10,000 max # of trees is good but how come test results are still doing better?\n",
        "\n",
        "1.   Discovered Random Forest Regression is going to be the best solution for this problem (XGboost overfits for smaller data sets)\n",
        "2.   Discovered it doesnt matter if we do weekly vesus daily\n",
        "3. Discovered don't loose a ton of accuracy when moving to the entire PLU codes.\n",
        "4. Purpose of this notebook:\n",
        "> **TEST AN ACTUAL FUTURE PREDICTION HOW IT WOULD WORK IN THE REAL WORLD**\n",
        "\n"
      ]
    },
    {
      "cell_type": "markdown",
      "metadata": {
        "id": "0WuVk8eoVUpL",
        "colab_type": "text"
      },
      "source": [
        "# Implementation Notes\n",
        "\n",
        "\n",
        "*   ALWAYS GET DOUBLE the past data of the differencing weeks you want. Otherwise your data will be CRAP because youll have dropped all the nulls leaving you with barely any information! so if were differencing and shifitng 8 weeks of data we need at least 16 in the initial sql query.\n",
        "\n",
        "\n"
      ]
    },
    {
      "cell_type": "markdown",
      "metadata": {
        "id": "iIU10Z3p2cqQ",
        "colab_type": "text"
      },
      "source": [
        "# Imports"
      ]
    },
    {
      "cell_type": "code",
      "metadata": {
        "id": "KvAWkyVftMg7",
        "colab_type": "code",
        "outputId": "d2bdfc1e-a5f2-475e-9c24-5affea2d79fd",
        "colab": {
          "base_uri": "https://localhost:8080/",
          "height": 411
        }
      },
      "source": [
        "#need to import dataframe\n",
        "\n",
        "#Colab stuffs:\n",
        "\n",
        "#get a fast operator system\n",
        "!nvidia-smi\n",
        "\n",
        "#mount google drive\n",
        "from google.colab import drive\n",
        "drive.mount('/content/drive')#click on the link it provides and copy and paste that code into the authorization area\n",
        "\n",
        "#access the OS system to work with current directories:\n",
        "import os\n",
        "\n",
        "#Imports\n",
        "\n",
        "import warnings \n",
        "warnings.filterwarnings('ignore')\n",
        "import numpy as np \n",
        "import pandas as pd \n",
        "import matplotlib.pyplot as plt\n",
        "import seaborn as sns\n",
        "\n",
        "from sklearn.model_selection import train_test_split \n",
        "from sklearn.ensemble import RandomForestRegressor\n",
        "from lightgbm import LGBMRegressor\n",
        "from sklearn.metrics import mean_squared_error, mean_absolute_error\n",
        "\n",
        "from math import sqrt\n",
        "import statsmodels.api as sm\n",
        "from sklearn import metrics\n",
        "plt.style.use('fivethirtyeight')\n",
        "sns.set_style(\"whitegrid\")\n",
        "sns.despine()\n",
        "sns.set(rc={'figure.figsize':(15,9)})\n",
        "%matplotlib inline\n",
        "\n",
        "#import and clean DF\n",
        "df = pd.read_csv('drive/My Drive/Capstone_2/data/one_year.csv', index_col= 'invdate', low_memory=False)#all 3000 product codes"
      ],
      "execution_count": 0,
      "outputs": [
        {
          "output_type": "stream",
          "text": [
            "Wed Nov  6 14:03:03 2019       \n",
            "+-----------------------------------------------------------------------------+\n",
            "| NVIDIA-SMI 430.50       Driver Version: 418.67       CUDA Version: 10.1     |\n",
            "|-------------------------------+----------------------+----------------------+\n",
            "| GPU  Name        Persistence-M| Bus-Id        Disp.A | Volatile Uncorr. ECC |\n",
            "| Fan  Temp  Perf  Pwr:Usage/Cap|         Memory-Usage | GPU-Util  Compute M. |\n",
            "|===============================+======================+======================|\n",
            "|   0  Tesla K80           Off  | 00000000:00:04.0 Off |                    0 |\n",
            "| N/A   32C    P8    26W / 149W |      0MiB / 11441MiB |      0%      Default |\n",
            "+-------------------------------+----------------------+----------------------+\n",
            "                                                                               \n",
            "+-----------------------------------------------------------------------------+\n",
            "| Processes:                                                       GPU Memory |\n",
            "|  GPU       PID   Type   Process name                             Usage      |\n",
            "|=============================================================================|\n",
            "|  No running processes found                                                 |\n",
            "+-----------------------------------------------------------------------------+\n",
            "Go to this URL in a browser: https://accounts.google.com/o/oauth2/auth?client_id=947318989803-6bn6qk8qdgf4n4g3pfee6491hc0brc4i.apps.googleusercontent.com&redirect_uri=urn%3Aietf%3Awg%3Aoauth%3A2.0%3Aoob&scope=email%20https%3A%2F%2Fwww.googleapis.com%2Fauth%2Fdocs.test%20https%3A%2F%2Fwww.googleapis.com%2Fauth%2Fdrive%20https%3A%2F%2Fwww.googleapis.com%2Fauth%2Fdrive.photos.readonly%20https%3A%2F%2Fwww.googleapis.com%2Fauth%2Fpeopleapi.readonly&response_type=code\n",
            "\n",
            "Enter your authorization code:\n",
            "··········\n",
            "Mounted at /content/drive\n"
          ],
          "name": "stdout"
        }
      ]
    },
    {
      "cell_type": "code",
      "metadata": {
        "id": "wX3lDxMC-Y-8",
        "colab_type": "code",
        "colab": {}
      },
      "source": [
        "#import and clean DF\n",
        "df = pd.read_csv('drive/My Drive/Capstone_2/data/one_year.csv', index_col= 'invdate', low_memory=False)#all 3000 product codes"
      ],
      "execution_count": 0,
      "outputs": []
    },
    {
      "cell_type": "markdown",
      "metadata": {
        "id": "XKQcM22w2ei4",
        "colab_type": "text"
      },
      "source": [
        "# Cleaning\n",
        "Functions\n",
        "\n",
        "\n",
        "*   Must implement clean_df, melt, predict_df, rf_data in ORDER because they depend on the future functions not being executed yet\n",
        "\n"
      ]
    },
    {
      "cell_type": "code",
      "metadata": {
        "id": "hRPu_t9wtVB4",
        "colab_type": "code",
        "colab": {}
      },
      "source": [
        "def clean_df (df):\n",
        "  \n",
        "  ################ FILTERING OUT INVALID PLUs AND RETURNS #################\n",
        "  print (f'Initial Shape for DF= {df.shape} \\nInitial Number of Unique PLUs = {df.item.nunique()}')\n",
        "\n",
        "  #taking out invalid PLUs (non-items)\n",
        "  def non_items ():\n",
        "    #Turning items that have less than 3 numbers into nulls\n",
        "    df['item'] = df['item'].apply(lambda x: x if sum(char.isdigit() for char in x) > 2 else np.nan)\n",
        "  \n",
        "  non_items()\n",
        "\n",
        "  #dropping any returns because we are predicting demand not returns\n",
        "  df[df.ordqty < 0] = np.nan\n",
        "\n",
        "  print (f'\\nNumber of nulls after picking out invalid entries = {df.item.isnull().sum()}')\n",
        "  \n",
        "  #getting rid of nulls and irrelevant columns\n",
        "  df.drop(columns= ['route', 'salesman'], inplace= True)\n",
        "  df.dropna(subset= ['ordqty', 'item'], axis= 0, inplace=True)\n",
        "\n",
        "  print (f'Number of after dropping nulls (should be zero) = {df.item.isnull().sum()}\\n')\n",
        "\n",
        "  ################ CREATING SOME NEW FEATURES FOR REFERENCE LATER ####################\n",
        "\n",
        "  #Making index datetime object\n",
        "  df.index = pd.to_datetime(df.index)\n",
        "  \n",
        "  #Creating a normalized Order Qty column\n",
        "  df['norm_qty'] = df['ordqty'] / df['units']\n",
        "\n",
        "  #creating a column for the total orders per item\n",
        "  df['total_qty'] = df.groupby('item')[\"norm_qty\"].transform('sum')\n",
        "\n",
        "  # #USE IF YOU WANT TO MODEL REVENUE\n",
        "  # #Creating a revenue column per item per day\n",
        "  # df['revenue'] = df['shipqty'] * df['price']\n",
        "\n",
        "  # #creating a column for the total revenue per item\n",
        "  # df['total_rev'] = df.groupby('item')[\"revenue\"].transform('sum')\n",
        "\n",
        "  #Creating a label column by splitting off the first phrase from the item's description, and turning them into lower case\n",
        "  df['label'] = df['desc'].str.split(\",\").str[0].str.lower()\n",
        "  df['label'] = df['label'].str.split(\" \").str[0].str.lower()\n",
        "\n",
        "  ############## DROPPING LOW QUANTITY PLU CODES- SET TO 10 ####################\n",
        "  \n",
        "  #filtering out any PLUS with less than 10 orders for the entire year\n",
        "  df['low_quantities'] = df['total_qty'].apply(lambda x: x if x > 10 else np.nan)\n",
        "  low= df[df['low_quantities'].isnull()]\n",
        "  total_low_items = low.item.nunique()\n",
        "\n",
        "  #IF CUSTOMER WANTS A LIST OF LOW ORDERED ITEMS:\n",
        "  # print ('List of all the PLUs ordered less than 10 times')\n",
        "  # list(low.item.unique())\n",
        "\n",
        "  before= df.shape[0] \n",
        "  df.dropna(subset= ['low_quantities'], axis= 0, inplace=True)\n",
        "  print (f'Number of rows/entries lost in DF after dropping lowest quantity PLUs = {before- df.shape[0]}')\n",
        "  print (f'Number of unique items(PLUs) dropped for low quantity = {total_low_items}\\n')\n",
        "  print('##########################\\n')\n",
        "  print (f'Shape of DF AFTER cleaning up PLUs and low quantity items = {df.shape} \\nNumber of Unique PLUs AFTER clean up= {df.item.nunique()}')\n",
        "\n",
        "  ############## CREATING PIVOT TABLES ####################\n",
        "  dfday = pd.pivot_table(df, values= \"norm_qty\", index= \"invdate\", columns = \"item\", aggfunc=np.sum, fill_value=0)\n",
        "  \n",
        "  #filling in the missing days\n",
        "  idx = pd.date_range('2018-08-23', '2019-08-23')\n",
        "  dfday = dfday.reindex(idx, fill_value=0)\n",
        "  \n",
        "  #Whoops accidentally did 366 days instead of 365! Let's fix that...\n",
        "  dfday = dfday[2:] #had to take away two days so the weeks would End on the final day in the data and not create a new week with only 1 day in the week\n",
        "\n",
        "\n",
        "  #creating a weekly DF\n",
        "  dfwkly = dfday.resample('7D').sum()\n",
        "\n",
        "  #resetting indexes to datetime\n",
        "  dfday.index = pd.to_datetime(dfday.index)\n",
        "  dfwkly.index = pd.to_datetime(dfwkly.index)\n",
        "\n",
        "  print (f'\\nDaily Shape = {dfday.shape}\\nWeekly Shape = {dfwkly.shape}')\n",
        "\n",
        "  return dfday, dfwkly\n"
      ],
      "execution_count": 0,
      "outputs": []
    },
    {
      "cell_type": "code",
      "metadata": {
        "id": "Jh775i7cOjiS",
        "colab_type": "code",
        "outputId": "ea3ac065-300b-4fbf-9266-0ad248f0df7c",
        "colab": {
          "base_uri": "https://localhost:8080/",
          "height": 289
        }
      },
      "source": [
        "dfday, dfwk = clean_df(df)"
      ],
      "execution_count": 0,
      "outputs": [
        {
          "output_type": "stream",
          "text": [
            "Initial Shape for DF= (209225, 30) \n",
            "Initial Number of Unique PLUs = 2126\n",
            "\n",
            "Number of nulls after picking out invalid entries = 11805\n",
            "Number of after dropping nulls (should be zero) = 0\n",
            "\n",
            "Number of rows/entries lost in DF after dropping lowest quantity PLUs = 2876\n",
            "Number of unique items(PLUs) dropped for low quantity = 768\n",
            "\n",
            "##########################\n",
            "\n",
            "Shape of DF AFTER cleaning up PLUs and low quantity items = (194544, 32) \n",
            "Number of Unique PLUs AFTER clean up= 1332\n",
            "\n",
            "Daily Shape = (364, 1332)\n",
            "Weekly Shape = (52, 1332)\n"
          ],
          "name": "stdout"
        }
      ]
    },
    {
      "cell_type": "markdown",
      "metadata": {
        "id": "kFXZ6u3q2gMk",
        "colab_type": "text"
      },
      "source": [
        "# Melting & Feature Engineering"
      ]
    },
    {
      "cell_type": "code",
      "metadata": {
        "id": "OSco8urk1GhY",
        "colab_type": "code",
        "colab": {}
      },
      "source": [
        "def melt(df):\n",
        "  \n",
        "  ########### INITIAL MELTING ######################\n",
        "  df.reset_index(inplace= True) #reset index for melt\n",
        "  melt = df.melt(id_vars='index', var_name='item', value_name='sales')\n",
        "  melt = melt.sort_values(['index', 'item'])\n",
        "  print (f'Number of Rows in the melted dataframe: {melt.shape}')\n",
        "\n",
        "  # ########## Basic Feature engineering- Dates ####################\n",
        "  melt2 =  melt.copy()\n",
        "  melt2['date']= pd.to_datetime(melt2['index']) #converting index to a datetime\n",
        "  melt2.drop(columns= ['index'], inplace= True)\n",
        "  num_rows = melt2.shape[0]\n",
        "  \n",
        "  # Extracting date features\n",
        "  melt2['dayofmonth'] = melt2.date.dt.day\n",
        "  melt2['dayofyear'] = melt2.date.dt.dayofyear\n",
        "  melt2['dayofweek'] = melt2.date.dt.dayofweek\n",
        "  melt2['month'] = melt2.date.dt.month\n",
        "  melt2['year'] = melt2.date.dt.year\n",
        "  melt2['weekofyear'] = melt2.date.dt.weekofyear\n",
        "  melt2['is_month_start'] = (melt2.date.dt.is_month_start).astype(int)\n",
        "  melt2['is_month_end'] = (melt2.date.dt.is_month_end).astype(int)\n",
        "\n",
        "  #Basic Feature Engineering- lags, differences, and logs-- These tend to help ALOT with time series data \n",
        "  melt2['last_wk_sales'] = melt2.groupby(['item'])['sales'].shift(1)\n",
        "  melt2['last_wk_diff'] = melt2.groupby(['item'])['sales'].diff(1)\n",
        "  #melt2['log_sales'] = np.log1p(melt2.sales.values)# Converting sales to log(1+sales)\n",
        "  melt2['2wks_sales'] = melt2.groupby(['item'])['sales'].shift(2)\n",
        "  melt2['2wks_diff'] = melt2.groupby(['item'])['sales'].diff(2)\n",
        "  melt2['3wks_sales'] = melt2.groupby(['item'])['sales'].shift(3)\n",
        "  melt2['3wks_diff'] = melt2.groupby(['item'])['sales'].diff(3)\n",
        "  melt2['4wks_sales'] = melt2.groupby(['item'])['sales'].shift(4)\n",
        "  melt2['4wks_diff'] = melt2.groupby(['item'])['sales'].diff(4)\n",
        "  melt2['5wks_sales'] = melt2.groupby(['item'])['sales'].shift(5)\n",
        "  melt2['5wks_diff'] = melt2.groupby(['item'])['sales'].diff(5)\n",
        "  melt2['6wks_sales'] = melt2.groupby(['item'])['sales'].shift(6)\n",
        "  melt2['6wks_diff'] = melt2.groupby(['item'])['sales'].diff(6)\n",
        "  melt2['7wks_sales'] = melt2.groupby(['item'])['sales'].shift(7)\n",
        "  melt2['7wks_diff'] = melt2.groupby(['item'])['sales'].diff(7)\n",
        "  melt2['8wks_sales'] = melt2.groupby(['item'])['sales'].shift(7)\n",
        "  melt2['8wks_diff'] = melt2.groupby(['item'])['sales'].diff(7)\n",
        "  melt2 = melt2.dropna()\n",
        "\n",
        "  print (f'Number of Rows lost by differencing: {num_rows - melt2.shape[0]}') #how many rows did we loose from the differencing?\n",
        "\n",
        "  melt2.set_index('date', inplace= True)  \n",
        "\n",
        "  #Adding Holidays--- these were events discussed with the customer\n",
        "  melt2[\"new_years\"] = (melt2.index.dayofyear == 1) | (melt2.index.dayofyear >= 359)\n",
        "  melt2[\"christmas\"] = (melt2.index.month == 12) & ((melt2.index.day >= 15)&(melt2.index.day < 26))\n",
        "  melt2[\"thanksgiving\"] = (melt2.index.month == 11) & ((melt2.index.day >= 20)&(melt2.index.day <= 29))\n",
        "  melt2[\"farm2table\"] = (melt2.index.month == 7) & ((melt2.index.day >= 1)&(melt2.index.day <= 15))\n",
        "  melt2[\"memorial_day\"] = (melt2.index.month == 5) & ((melt2.index.day >= 18)&(melt2.index.day <= 28))\n",
        "  melt2[\"back_to_school\"] = (melt2.index.month == 8) & ((melt2.index.day >= 10)&(melt2.index.day <= 25))\n",
        "\n",
        "  return melt2"
      ],
      "execution_count": 0,
      "outputs": []
    },
    {
      "cell_type": "code",
      "metadata": {
        "id": "KaHGbr1tRKT_",
        "colab_type": "code",
        "outputId": "7b20d2b6-cb57-420b-e0a3-a79554d63739",
        "colab": {
          "base_uri": "https://localhost:8080/",
          "height": 170
        }
      },
      "source": [
        "print ('DF week transformation\\n')\n",
        "dfwk= melt(dfwk)\n",
        "print ('\\nDF day transformation\\n')\n",
        "dfday = melt(dfday)"
      ],
      "execution_count": 0,
      "outputs": [
        {
          "output_type": "stream",
          "text": [
            "DF week transformation\n",
            "\n",
            "Number of Rows in the melted dataframe: (69264, 3)\n",
            "Number of Rows lost by differencing: 9324\n",
            "\n",
            "DF day transformation\n",
            "\n",
            "Number of Rows in the melted dataframe: (484848, 3)\n",
            "Number of Rows lost by differencing: 9324\n"
          ],
          "name": "stdout"
        }
      ]
    },
    {
      "cell_type": "markdown",
      "metadata": {
        "id": "lISvPHwfjQQn",
        "colab_type": "text"
      },
      "source": [
        "# Create a Data Frame for Predictions"
      ]
    },
    {
      "cell_type": "code",
      "metadata": {
        "id": "WolG329ZEzZE",
        "colab_type": "code",
        "colab": {}
      },
      "source": [
        "#Creating a Dataframe for predictions\n",
        "\n",
        "def predict_df (df):\n",
        "\n",
        "  copy = df.copy()  \n",
        "  lastwk = copy.index[-1]\n",
        "  new_df = copy.loc[lastwk]#create a dataframe with just the past week\n",
        "\n",
        "  from datetime import timedelta\n",
        "  new_df['new_wk'] = lastwk + timedelta(days=7) #adding a week to predict into the future\n",
        "\n",
        "  #correcting date features\n",
        "  new_df['dayofmonth'] = new_df.new_wk.dt.day\n",
        "  new_df['dayofyear'] = new_df.new_wk.dt.dayofyear\n",
        "  new_df['dayofweek'] = new_df.new_wk.dt.dayofweek\n",
        "  new_df['month'] = new_df.new_wk.dt.month\n",
        "  new_df['year'] = new_df.new_wk.dt.year\n",
        "  new_df['weekofyear'] = new_df.new_wk.dt.weekofyear\n",
        "  new_df['is_month_start'] = (new_df.new_wk.dt.is_month_start).astype(int)\n",
        "  new_df['is_month_end'] = (new_df.new_wk.dt.is_month_end).astype(int)\n",
        "\n",
        "  #correcting lag sales and diffs by shifting everything over by one week\n",
        "  new_df['last_wk_sales'] = new_df.sales\n",
        "  new_df['2wks_sales'] = new_df.last_wk_sales\n",
        "  new_df['2wks_diff'] = new_df.last_wk_diff\n",
        "  new_df['3wks_sales'] = new_df['2wks_sales']\n",
        "  new_df['3wks_diff'] = new_df['2wks_diff']\n",
        "  new_df['4wks_sales'] = new_df['3wks_sales']\n",
        "  new_df['4wks_diff'] = new_df['3wks_diff']\n",
        "  new_df['5wks_sales'] = new_df['4wks_sales']\n",
        "  new_df['5wks_diff'] = new_df['4wks_diff']\n",
        "  new_df['6wks_sales'] = new_df['5wks_sales']\n",
        "  new_df['6wks_diff'] = new_df['5wks_diff']\n",
        "  new_df['7wks_sales'] = new_df['6wks_sales']\n",
        "  new_df['7wks_diff'] = new_df['6wks_diff']\n",
        "  new_df['8wks_sales'] = new_df['7wks_sales']\n",
        "  new_df['8wks_diff'] = new_df['7wks_diff']\n",
        "\n",
        "  #Re-doing Holidays\n",
        "  new_df.set_index('new_wk', inplace= True)  \n",
        "  new_df[\"new_years\"] = (new_df.index.dayofyear == 1) | (new_df.index.dayofyear >= 359)\n",
        "  new_df[\"christmas\"] = (new_df.index.month == 12) & ((new_df.index.day >= 15)&(new_df.index.day < 26))\n",
        "  new_df[\"thanksgiving\"] = (new_df.index.month == 11) & ((new_df.index.day >= 20)&(new_df.index.day <= 29))\n",
        "  new_df[\"farm2table\"] = (new_df.index.month == 7) & ((new_df.index.day >= 1)&(new_df.index.day <= 15))\n",
        "  new_df[\"memorial_day\"] = (new_df.index.month == 5) & ((new_df.index.day >= 18)&(new_df.index.day <= 28))\n",
        "  new_df[\"back_to_school\"] = (new_df.index.month == 8) & ((new_df.index.day >= 10)&(new_df.index.day <= 25))\n",
        "\n",
        "  #dropping columns and reformatting\n",
        "  new_df.reset_index(inplace= True)\n",
        "  new_df.drop(columns= ['sales', 'last_wk_diff','new_wk'], inplace=True) \n",
        "  new_df.set_index('item', inplace=True)\n",
        "\n",
        "  return new_df"
      ],
      "execution_count": 0,
      "outputs": []
    },
    {
      "cell_type": "code",
      "metadata": {
        "id": "omMpVje1iMku",
        "colab_type": "code",
        "colab": {}
      },
      "source": [
        "#creating the prediction dataframe\n",
        "df_pred = predict_df(dfwk)"
      ],
      "execution_count": 0,
      "outputs": []
    },
    {
      "cell_type": "code",
      "metadata": {
        "id": "6hEHX3_wGEO8",
        "colab_type": "code",
        "colab": {}
      },
      "source": [
        "#Getting data ready for RF model\n",
        "\n",
        "def rf_data (df):\n",
        "\n",
        "  #Dropping Columns not relevant to a random forest\n",
        "  df.reset_index(inplace= True)\n",
        "\n",
        "  #Creating x and y training sets\n",
        "  x_train = df.drop(['sales', 'last_wk_diff', 'date'], axis=1)\n",
        "  y_train = df['sales'].values\n",
        "\n",
        "  df.set_index('item', inplace=True)\n",
        "  x_train.set_index('item', inplace=True) \n",
        "\n",
        "  return x_train, y_train, df"
      ],
      "execution_count": 0,
      "outputs": []
    },
    {
      "cell_type": "code",
      "metadata": {
        "id": "P8h6LeryjcbP",
        "colab_type": "code",
        "outputId": "721d3896-309e-4342-9231-2b4c2a226737",
        "colab": {
          "base_uri": "https://localhost:8080/",
          "height": 34
        }
      },
      "source": [
        "#generate last week before cleaning the dataframe\n",
        "last_week = dfwk['weekofyear'].iloc[-1]\n",
        "print (last_week)\n",
        "\n",
        "#making the data ready for a random forest\n",
        "x_train, y_train, dfwk = rf_data(dfwk)"
      ],
      "execution_count": 0,
      "outputs": [
        {
          "output_type": "stream",
          "text": [
            "33\n"
          ],
          "name": "stdout"
        }
      ]
    },
    {
      "cell_type": "code",
      "metadata": {
        "id": "sQc-8XzcmOEQ",
        "colab_type": "code",
        "colab": {}
      },
      "source": [
        "#Check to see they both have the same number of features!\n",
        "assert x_train.shape[1] == df_pred.shape[1]"
      ],
      "execution_count": 0,
      "outputs": []
    },
    {
      "cell_type": "markdown",
      "metadata": {
        "id": "d41O97BX0ODQ",
        "colab_type": "text"
      },
      "source": [
        "# Baseline Model"
      ]
    },
    {
      "cell_type": "code",
      "metadata": {
        "id": "1q-kQTgH1no6",
        "colab_type": "code",
        "colab": {}
      },
      "source": [
        "#mae metric\n",
        "def mae(ytrue, ypred):\n",
        "  return round(mean_absolute_error(ytrue, ypred), 3) \n",
        "                                    \n",
        "#rmse metric function\n",
        "def rmse(ytrue, ypred):\n",
        "  return (round(sqrt(mean_squared_error(ytrue, ypred)), 3))"
      ],
      "execution_count": 0,
      "outputs": []
    },
    {
      "cell_type": "code",
      "metadata": {
        "id": "VhGOfLxd1riy",
        "colab_type": "code",
        "outputId": "4d1602e9-b1d9-4061-ff77-d4c3843ec946",
        "colab": {
          "base_uri": "https://localhost:8080/",
          "height": 136
        }
      },
      "source": [
        "#Restablishing a Naive Baseline and a Validation Split\n",
        "\n",
        "mean_error = []\n",
        "for week in range(last_week-5, last_week+1): #setting up six weeks train/validation set\n",
        "    train = dfwk[dfwk['weekofyear'] < week] \n",
        "    val = dfwk[dfwk['weekofyear'] == week]\n",
        "    \n",
        "    p = val['last_wk_sales'].values\n",
        "    \n",
        "    error = rmse(val['sales'].values, p)\n",
        "    print('Week %d - Error %.5f' % (week, error))\n",
        "    mean_error.append(error)\n",
        "naive_error= np.mean(mean_error)\n",
        "print('Mean Error = %.5f' % naive_error)"
      ],
      "execution_count": 0,
      "outputs": [
        {
          "output_type": "stream",
          "text": [
            "Week 28 - Error 19.34800\n",
            "Week 29 - Error 20.91000\n",
            "Week 30 - Error 11.44400\n",
            "Week 31 - Error 12.79900\n",
            "Week 32 - Error 13.35000\n",
            "Week 33 - Error 5.35600\n",
            "Mean Error = 13.86783\n"
          ],
          "name": "stdout"
        }
      ]
    },
    {
      "cell_type": "markdown",
      "metadata": {
        "id": "IUCYA8W8WYey",
        "colab_type": "text"
      },
      "source": [
        "# Train Model"
      ]
    },
    {
      "cell_type": "code",
      "metadata": {
        "colab_type": "code",
        "outputId": "bd111f52-8aab-4148-ab59-14fef8e604e0",
        "id": "_TZnvEAypjJs",
        "colab": {
          "base_uri": "https://localhost:8080/",
          "height": 85
        }
      },
      "source": [
        "%%time \n",
        "rf = RandomForestRegressor(n_estimators=1000, max_depth= 8, n_jobs=-1, random_state=0)\n",
        "rf.fit(x_train, np.log1p(y_train))\n",
        "        \n",
        "p = np.expm1(rf.predict(df_pred))\n",
        "print (p)"
      ],
      "execution_count": 0,
      "outputs": [
        {
          "output_type": "stream",
          "text": [
            "[3.39682391e-03 3.39682391e-03 3.39682391e-03 ... 3.39682391e-03\n",
            " 2.93509743e-02 6.68890032e+00]\n",
            "CPU times: user 4min 15s, sys: 251 ms, total: 4min 16s\n",
            "Wall time: 2min 9s\n"
          ],
          "name": "stdout"
        }
      ]
    },
    {
      "cell_type": "code",
      "metadata": {
        "id": "HSr8IrKl6Lts",
        "colab_type": "code",
        "outputId": "37d06839-8c1c-43e6-aae4-0a08e392a190",
        "colab": {
          "base_uri": "https://localhost:8080/",
          "height": 51
        }
      },
      "source": [
        "p = np.expm1(rf.predict(df_pred))\n",
        "print (p)"
      ],
      "execution_count": 0,
      "outputs": [
        {
          "output_type": "stream",
          "text": [
            "[3.39682391e-03 3.39682391e-03 3.39682391e-03 ... 3.39682391e-03\n",
            " 2.93509743e-02 6.68890032e+00]\n"
          ],
          "name": "stdout"
        }
      ]
    },
    {
      "cell_type": "code",
      "metadata": {
        "id": "AvzJq_IK8I8t",
        "colab_type": "code",
        "colab": {}
      },
      "source": [
        "weekly_predictions = pd.DataFrame({\n",
        "    'item': df_pred.index,\n",
        "    'predicted': p,\n",
        "})\n",
        "\n",
        "weekly_predictions= weekly_predictions.round(2)"
      ],
      "execution_count": 0,
      "outputs": []
    },
    {
      "cell_type": "code",
      "metadata": {
        "id": "5DQHXnpQ8bL_",
        "colab_type": "code",
        "outputId": "e3a85518-949b-41f1-ff4e-faf2221f0377",
        "colab": {
          "base_uri": "https://localhost:8080/",
          "height": 204
        }
      },
      "source": [
        "weekly_predictions.head()"
      ],
      "execution_count": 0,
      "outputs": [
        {
          "output_type": "execute_result",
          "data": {
            "text/html": [
              "<div>\n",
              "<style scoped>\n",
              "    .dataframe tbody tr th:only-of-type {\n",
              "        vertical-align: middle;\n",
              "    }\n",
              "\n",
              "    .dataframe tbody tr th {\n",
              "        vertical-align: top;\n",
              "    }\n",
              "\n",
              "    .dataframe thead th {\n",
              "        text-align: right;\n",
              "    }\n",
              "</style>\n",
              "<table border=\"1\" class=\"dataframe\">\n",
              "  <thead>\n",
              "    <tr style=\"text-align: right;\">\n",
              "      <th></th>\n",
              "      <th>item</th>\n",
              "      <th>predicted</th>\n",
              "    </tr>\n",
              "  </thead>\n",
              "  <tbody>\n",
              "    <tr>\n",
              "      <th>0</th>\n",
              "      <td>10004PM</td>\n",
              "      <td>0.0</td>\n",
              "    </tr>\n",
              "    <tr>\n",
              "      <th>1</th>\n",
              "      <td>10004PS</td>\n",
              "      <td>0.0</td>\n",
              "    </tr>\n",
              "    <tr>\n",
              "      <th>2</th>\n",
              "      <td>10005</td>\n",
              "      <td>0.0</td>\n",
              "    </tr>\n",
              "    <tr>\n",
              "      <th>3</th>\n",
              "      <td>10005A</td>\n",
              "      <td>0.0</td>\n",
              "    </tr>\n",
              "    <tr>\n",
              "      <th>4</th>\n",
              "      <td>10006</td>\n",
              "      <td>0.0</td>\n",
              "    </tr>\n",
              "  </tbody>\n",
              "</table>\n",
              "</div>"
            ],
            "text/plain": [
              "      item  predicted\n",
              "0  10004PM        0.0\n",
              "1  10004PS        0.0\n",
              "2    10005        0.0\n",
              "3   10005A        0.0\n",
              "4    10006        0.0"
            ]
          },
          "metadata": {
            "tags": []
          },
          "execution_count": 60
        }
      ]
    },
    {
      "cell_type": "code",
      "metadata": {
        "id": "KGPJtup-8gBL",
        "colab_type": "code",
        "outputId": "abfff13c-5445-49b1-e906-fb53f42d0059",
        "colab": {
          "base_uri": "https://localhost:8080/",
          "height": 419
        }
      },
      "source": [
        "weekly_predictions.sort_values(by= 'predicted', ascending= False)"
      ],
      "execution_count": 0,
      "outputs": [
        {
          "output_type": "execute_result",
          "data": {
            "text/html": [
              "<div>\n",
              "<style scoped>\n",
              "    .dataframe tbody tr th:only-of-type {\n",
              "        vertical-align: middle;\n",
              "    }\n",
              "\n",
              "    .dataframe tbody tr th {\n",
              "        vertical-align: top;\n",
              "    }\n",
              "\n",
              "    .dataframe thead th {\n",
              "        text-align: right;\n",
              "    }\n",
              "</style>\n",
              "<table border=\"1\" class=\"dataframe\">\n",
              "  <thead>\n",
              "    <tr style=\"text-align: right;\">\n",
              "      <th></th>\n",
              "      <th>item</th>\n",
              "      <th>predicted</th>\n",
              "    </tr>\n",
              "  </thead>\n",
              "  <tbody>\n",
              "    <tr>\n",
              "      <th>992</th>\n",
              "      <td>70114A</td>\n",
              "      <td>437.97</td>\n",
              "    </tr>\n",
              "    <tr>\n",
              "      <th>411</th>\n",
              "      <td>20215A</td>\n",
              "      <td>128.87</td>\n",
              "    </tr>\n",
              "    <tr>\n",
              "      <th>134</th>\n",
              "      <td>10238</td>\n",
              "      <td>110.68</td>\n",
              "    </tr>\n",
              "    <tr>\n",
              "      <th>408</th>\n",
              "      <td>20213</td>\n",
              "      <td>107.70</td>\n",
              "    </tr>\n",
              "    <tr>\n",
              "      <th>653</th>\n",
              "      <td>30234-A</td>\n",
              "      <td>106.31</td>\n",
              "    </tr>\n",
              "    <tr>\n",
              "      <th>...</th>\n",
              "      <td>...</td>\n",
              "      <td>...</td>\n",
              "    </tr>\n",
              "    <tr>\n",
              "      <th>536</th>\n",
              "      <td>25223C</td>\n",
              "      <td>0.00</td>\n",
              "    </tr>\n",
              "    <tr>\n",
              "      <th>537</th>\n",
              "      <td>25233</td>\n",
              "      <td>0.00</td>\n",
              "    </tr>\n",
              "    <tr>\n",
              "      <th>539</th>\n",
              "      <td>25240</td>\n",
              "      <td>0.00</td>\n",
              "    </tr>\n",
              "    <tr>\n",
              "      <th>542</th>\n",
              "      <td>30006</td>\n",
              "      <td>0.00</td>\n",
              "    </tr>\n",
              "    <tr>\n",
              "      <th>666</th>\n",
              "      <td>30255</td>\n",
              "      <td>0.00</td>\n",
              "    </tr>\n",
              "  </tbody>\n",
              "</table>\n",
              "<p>1332 rows × 2 columns</p>\n",
              "</div>"
            ],
            "text/plain": [
              "        item  predicted\n",
              "992   70114A     437.97\n",
              "411   20215A     128.87\n",
              "134    10238     110.68\n",
              "408    20213     107.70\n",
              "653  30234-A     106.31\n",
              "..       ...        ...\n",
              "536   25223C       0.00\n",
              "537    25233       0.00\n",
              "539    25240       0.00\n",
              "542    30006       0.00\n",
              "666    30255       0.00\n",
              "\n",
              "[1332 rows x 2 columns]"
            ]
          },
          "metadata": {
            "tags": []
          },
          "execution_count": 18
        }
      ]
    },
    {
      "cell_type": "markdown",
      "metadata": {
        "id": "2XsmcXpM-Pkv",
        "colab_type": "text"
      },
      "source": [
        "# COMPARING PREDICTIONS TO ACTUAL AMOUNTS"
      ]
    },
    {
      "cell_type": "code",
      "metadata": {
        "id": "hEiSzmr8-eVa",
        "colab_type": "code",
        "colab": {}
      },
      "source": [
        "dfn = pd.read_csv('drive/My Drive/Capstone_2/data/new_info.csv', index_col= 'invdate', low_memory=False)\n",
        "dfm = pd.read_csv('drive/My Drive/Capstone_2/data/master.csv', index_col= 'invdate', low_memory=False)"
      ],
      "execution_count": 0,
      "outputs": []
    },
    {
      "cell_type": "code",
      "metadata": {
        "id": "EthzjoggSv55",
        "colab_type": "code",
        "colab": {}
      },
      "source": [
        "dfn.reset_index(inplace= True)\n",
        "dfm.reset_index(inplace=True)"
      ],
      "execution_count": 0,
      "outputs": []
    },
    {
      "cell_type": "code",
      "metadata": {
        "id": "tM96d2TeTR2X",
        "colab_type": "code",
        "colab": {}
      },
      "source": [
        "dfn['invdate'] =  pd.to_datetime(dfn['invdate'], format='%Y/%m/%d')\n",
        "dfm['invdate'] =  pd.to_datetime(dfm['invdate'], format='%Y/%m/%d')"
      ],
      "execution_count": 0,
      "outputs": []
    },
    {
      "cell_type": "code",
      "metadata": {
        "id": "aPd69zn1S3Jk",
        "colab_type": "code",
        "outputId": "1b33ebe7-aa43-4ad8-e43e-b37f5c4d72d7",
        "colab": {
          "base_uri": "https://localhost:8080/",
          "height": 544
        }
      },
      "source": [
        "dfn.dtypes"
      ],
      "execution_count": 0,
      "outputs": [
        {
          "output_type": "execute_result",
          "data": {
            "text/plain": [
              "invdate      datetime64[ns]\n",
              "invno               float64\n",
              "item                 object\n",
              "desc                 object\n",
              "uom                  object\n",
              "units               float64\n",
              "price               float64\n",
              "totalcost           float64\n",
              "ordqty              float64\n",
              "shipqty             float64\n",
              "amount              float64\n",
              "custno               object\n",
              "sono_x              float64\n",
              "sono_y              float64\n",
              "paid                float64\n",
              "duedate              object\n",
              "days                float64\n",
              "status               object\n",
              "datesold             object\n",
              "delivery             object\n",
              "priccode             object\n",
              "orgprice            float64\n",
              "firstrun            float64\n",
              "added                object\n",
              "invline             float64\n",
              "norm_qty            float64\n",
              "revenue             float64\n",
              "total_qty           float64\n",
              "total_rev           float64\n",
              "label                object\n",
              "dtype: object"
            ]
          },
          "metadata": {
            "tags": []
          },
          "execution_count": 30
        }
      ]
    },
    {
      "cell_type": "code",
      "metadata": {
        "id": "XjmdzgCMRr6D",
        "colab_type": "code",
        "colab": {}
      },
      "source": [
        "############## CREATING PIVOT TABLES ####################\n",
        "dfnday = pd.pivot_table(dfn, values= \"norm_qty\", index= \"invdate\", columns = \"item\", aggfunc=np.sum, fill_value=0)\n",
        "  \n",
        "  # #filling in the missing days\n",
        "  # idx = pd.date_range('2018-08-23', '2019-08-23')\n",
        "  # dfday = dfday.reindex(idx, fill_value=0)\n",
        "\n",
        "#creating a weekly DF\n",
        "dfnwkly = dfnday.resample('7D').sum()\n",
        "\n",
        "#resetting indexes to datetime\n",
        "dfnwkly.index = pd.to_datetime(dfnwkly.index)"
      ],
      "execution_count": 0,
      "outputs": []
    },
    {
      "cell_type": "code",
      "metadata": {
        "id": "UCQqtBX5Sjex",
        "colab_type": "code",
        "colab": {}
      },
      "source": [
        "nxt_wk_actl = dfnwkly.iloc[:1, :]"
      ],
      "execution_count": 0,
      "outputs": []
    },
    {
      "cell_type": "code",
      "metadata": {
        "id": "G1Hfjw1eSqTR",
        "colab_type": "code",
        "outputId": "7fdc8bf0-312b-44bf-ede3-5a2c858b143a",
        "colab": {
          "base_uri": "https://localhost:8080/",
          "height": 194
        }
      },
      "source": [
        "nxt_wk_actl"
      ],
      "execution_count": 0,
      "outputs": [
        {
          "output_type": "execute_result",
          "data": {
            "text/html": [
              "<div>\n",
              "<style scoped>\n",
              "    .dataframe tbody tr th:only-of-type {\n",
              "        vertical-align: middle;\n",
              "    }\n",
              "\n",
              "    .dataframe tbody tr th {\n",
              "        vertical-align: top;\n",
              "    }\n",
              "\n",
              "    .dataframe thead th {\n",
              "        text-align: right;\n",
              "    }\n",
              "</style>\n",
              "<table border=\"1\" class=\"dataframe\">\n",
              "  <thead>\n",
              "    <tr style=\"text-align: right;\">\n",
              "      <th>item</th>\n",
              "      <th>10007A</th>\n",
              "      <th>10018B</th>\n",
              "      <th>10018D</th>\n",
              "      <th>10027</th>\n",
              "      <th>10027A</th>\n",
              "      <th>10027D</th>\n",
              "      <th>10033B</th>\n",
              "      <th>10036</th>\n",
              "      <th>10037</th>\n",
              "      <th>10040B</th>\n",
              "      <th>10042</th>\n",
              "      <th>10042D</th>\n",
              "      <th>10043C</th>\n",
              "      <th>10043D</th>\n",
              "      <th>10049G</th>\n",
              "      <th>10049H</th>\n",
              "      <th>10056</th>\n",
              "      <th>10056C</th>\n",
              "      <th>10058D</th>\n",
              "      <th>10058F</th>\n",
              "      <th>10068A</th>\n",
              "      <th>10070C</th>\n",
              "      <th>10070H</th>\n",
              "      <th>10074A</th>\n",
              "      <th>10075</th>\n",
              "      <th>10104</th>\n",
              "      <th>10107</th>\n",
              "      <th>10107A</th>\n",
              "      <th>10108F</th>\n",
              "      <th>10109A</th>\n",
              "      <th>10110B</th>\n",
              "      <th>10112</th>\n",
              "      <th>10115</th>\n",
              "      <th>10122</th>\n",
              "      <th>10127</th>\n",
              "      <th>10129D</th>\n",
              "      <th>10131</th>\n",
              "      <th>10135A</th>\n",
              "      <th>10139</th>\n",
              "      <th>10146</th>\n",
              "      <th>...</th>\n",
              "      <th>R10304</th>\n",
              "      <th>R10330</th>\n",
              "      <th>R10343</th>\n",
              "      <th>R10355</th>\n",
              "      <th>R10400</th>\n",
              "      <th>R10428</th>\n",
              "      <th>R10442</th>\n",
              "      <th>R10511</th>\n",
              "      <th>R20144</th>\n",
              "      <th>R20326</th>\n",
              "      <th>R30002</th>\n",
              "      <th>R30024</th>\n",
              "      <th>R30050</th>\n",
              "      <th>R30089</th>\n",
              "      <th>R30103</th>\n",
              "      <th>R30114</th>\n",
              "      <th>R30129</th>\n",
              "      <th>R30143</th>\n",
              "      <th>R30180</th>\n",
              "      <th>R30208</th>\n",
              "      <th>R30233</th>\n",
              "      <th>R30269</th>\n",
              "      <th>R30327</th>\n",
              "      <th>R30480</th>\n",
              "      <th>R30517</th>\n",
              "      <th>R30547</th>\n",
              "      <th>R30557</th>\n",
              "      <th>R30587</th>\n",
              "      <th>R30601</th>\n",
              "      <th>R30634</th>\n",
              "      <th>R30683</th>\n",
              "      <th>R30754</th>\n",
              "      <th>R40008</th>\n",
              "      <th>R50084</th>\n",
              "      <th>R50139</th>\n",
              "      <th>R60013</th>\n",
              "      <th>R70016</th>\n",
              "      <th>SAMPLE</th>\n",
              "      <th>XDCK DEL</th>\n",
              "      <th>_BADITEM</th>\n",
              "    </tr>\n",
              "    <tr>\n",
              "      <th>invdate</th>\n",
              "      <th></th>\n",
              "      <th></th>\n",
              "      <th></th>\n",
              "      <th></th>\n",
              "      <th></th>\n",
              "      <th></th>\n",
              "      <th></th>\n",
              "      <th></th>\n",
              "      <th></th>\n",
              "      <th></th>\n",
              "      <th></th>\n",
              "      <th></th>\n",
              "      <th></th>\n",
              "      <th></th>\n",
              "      <th></th>\n",
              "      <th></th>\n",
              "      <th></th>\n",
              "      <th></th>\n",
              "      <th></th>\n",
              "      <th></th>\n",
              "      <th></th>\n",
              "      <th></th>\n",
              "      <th></th>\n",
              "      <th></th>\n",
              "      <th></th>\n",
              "      <th></th>\n",
              "      <th></th>\n",
              "      <th></th>\n",
              "      <th></th>\n",
              "      <th></th>\n",
              "      <th></th>\n",
              "      <th></th>\n",
              "      <th></th>\n",
              "      <th></th>\n",
              "      <th></th>\n",
              "      <th></th>\n",
              "      <th></th>\n",
              "      <th></th>\n",
              "      <th></th>\n",
              "      <th></th>\n",
              "      <th></th>\n",
              "      <th></th>\n",
              "      <th></th>\n",
              "      <th></th>\n",
              "      <th></th>\n",
              "      <th></th>\n",
              "      <th></th>\n",
              "      <th></th>\n",
              "      <th></th>\n",
              "      <th></th>\n",
              "      <th></th>\n",
              "      <th></th>\n",
              "      <th></th>\n",
              "      <th></th>\n",
              "      <th></th>\n",
              "      <th></th>\n",
              "      <th></th>\n",
              "      <th></th>\n",
              "      <th></th>\n",
              "      <th></th>\n",
              "      <th></th>\n",
              "      <th></th>\n",
              "      <th></th>\n",
              "      <th></th>\n",
              "      <th></th>\n",
              "      <th></th>\n",
              "      <th></th>\n",
              "      <th></th>\n",
              "      <th></th>\n",
              "      <th></th>\n",
              "      <th></th>\n",
              "      <th></th>\n",
              "      <th></th>\n",
              "      <th></th>\n",
              "      <th></th>\n",
              "      <th></th>\n",
              "      <th></th>\n",
              "      <th></th>\n",
              "      <th></th>\n",
              "      <th></th>\n",
              "      <th></th>\n",
              "    </tr>\n",
              "  </thead>\n",
              "  <tbody>\n",
              "    <tr>\n",
              "      <th>2019-08-24</th>\n",
              "      <td>11</td>\n",
              "      <td>0.0</td>\n",
              "      <td>17</td>\n",
              "      <td>0.0</td>\n",
              "      <td>0.0</td>\n",
              "      <td>30.0</td>\n",
              "      <td>0.0</td>\n",
              "      <td>0.0</td>\n",
              "      <td>0</td>\n",
              "      <td>0</td>\n",
              "      <td>0.0</td>\n",
              "      <td>4.0</td>\n",
              "      <td>0.0</td>\n",
              "      <td>12.5</td>\n",
              "      <td>0.0</td>\n",
              "      <td>0</td>\n",
              "      <td>0.0</td>\n",
              "      <td>0</td>\n",
              "      <td>0.0</td>\n",
              "      <td>0</td>\n",
              "      <td>0.0</td>\n",
              "      <td>0.0</td>\n",
              "      <td>27.5</td>\n",
              "      <td>1</td>\n",
              "      <td>1.0</td>\n",
              "      <td>0</td>\n",
              "      <td>0.0</td>\n",
              "      <td>7.5</td>\n",
              "      <td>10</td>\n",
              "      <td>0</td>\n",
              "      <td>0.0</td>\n",
              "      <td>6.0</td>\n",
              "      <td>0</td>\n",
              "      <td>0</td>\n",
              "      <td>0</td>\n",
              "      <td>0</td>\n",
              "      <td>0.0</td>\n",
              "      <td>0.0</td>\n",
              "      <td>7</td>\n",
              "      <td>0</td>\n",
              "      <td>...</td>\n",
              "      <td>0.0</td>\n",
              "      <td>2</td>\n",
              "      <td>0</td>\n",
              "      <td>0</td>\n",
              "      <td>0.0</td>\n",
              "      <td>0</td>\n",
              "      <td>1.0</td>\n",
              "      <td>0.0</td>\n",
              "      <td>1.2</td>\n",
              "      <td>0</td>\n",
              "      <td>0.0</td>\n",
              "      <td>0</td>\n",
              "      <td>1</td>\n",
              "      <td>0.0</td>\n",
              "      <td>0.1</td>\n",
              "      <td>2</td>\n",
              "      <td>0.0</td>\n",
              "      <td>0.0</td>\n",
              "      <td>1</td>\n",
              "      <td>0.0</td>\n",
              "      <td>0.0</td>\n",
              "      <td>0.0</td>\n",
              "      <td>0.0</td>\n",
              "      <td>0</td>\n",
              "      <td>0.0</td>\n",
              "      <td>2.0</td>\n",
              "      <td>0.0</td>\n",
              "      <td>0</td>\n",
              "      <td>0.0</td>\n",
              "      <td>0</td>\n",
              "      <td>0</td>\n",
              "      <td>0.0</td>\n",
              "      <td>4.0</td>\n",
              "      <td>1.0</td>\n",
              "      <td>0.0</td>\n",
              "      <td>1.1</td>\n",
              "      <td>0.5</td>\n",
              "      <td>4</td>\n",
              "      <td>15</td>\n",
              "      <td>2</td>\n",
              "    </tr>\n",
              "  </tbody>\n",
              "</table>\n",
              "<p>1 rows × 1044 columns</p>\n",
              "</div>"
            ],
            "text/plain": [
              "item        10007A  10018B  10018D  10027  ...  R70016  SAMPLE  XDCK DEL  _BADITEM\n",
              "invdate                                    ...                                    \n",
              "2019-08-24      11     0.0      17    0.0  ...     0.5       4        15         2\n",
              "\n",
              "[1 rows x 1044 columns]"
            ]
          },
          "metadata": {
            "tags": []
          },
          "execution_count": 36
        }
      ]
    },
    {
      "cell_type": "code",
      "metadata": {
        "id": "lX-CpZCWUFGD",
        "colab_type": "code",
        "outputId": "1f087dda-3a8e-4b6d-951a-6e0ef776c895",
        "colab": {
          "base_uri": "https://localhost:8080/",
          "height": 204
        }
      },
      "source": [
        "nxt_wk_actl.reset_index(inplace= True)\n",
        "melt = nxt_wk_actl.melt(id_vars='invdate', var_name='item', value_name='actual')\n",
        "melt.head()"
      ],
      "execution_count": 0,
      "outputs": [
        {
          "output_type": "execute_result",
          "data": {
            "text/html": [
              "<div>\n",
              "<style scoped>\n",
              "    .dataframe tbody tr th:only-of-type {\n",
              "        vertical-align: middle;\n",
              "    }\n",
              "\n",
              "    .dataframe tbody tr th {\n",
              "        vertical-align: top;\n",
              "    }\n",
              "\n",
              "    .dataframe thead th {\n",
              "        text-align: right;\n",
              "    }\n",
              "</style>\n",
              "<table border=\"1\" class=\"dataframe\">\n",
              "  <thead>\n",
              "    <tr style=\"text-align: right;\">\n",
              "      <th></th>\n",
              "      <th>invdate</th>\n",
              "      <th>item</th>\n",
              "      <th>actual</th>\n",
              "    </tr>\n",
              "  </thead>\n",
              "  <tbody>\n",
              "    <tr>\n",
              "      <th>0</th>\n",
              "      <td>2019-08-24</td>\n",
              "      <td>10007A</td>\n",
              "      <td>11.0</td>\n",
              "    </tr>\n",
              "    <tr>\n",
              "      <th>1</th>\n",
              "      <td>2019-08-24</td>\n",
              "      <td>10018B</td>\n",
              "      <td>0.0</td>\n",
              "    </tr>\n",
              "    <tr>\n",
              "      <th>2</th>\n",
              "      <td>2019-08-24</td>\n",
              "      <td>10018D</td>\n",
              "      <td>17.0</td>\n",
              "    </tr>\n",
              "    <tr>\n",
              "      <th>3</th>\n",
              "      <td>2019-08-24</td>\n",
              "      <td>10027</td>\n",
              "      <td>0.0</td>\n",
              "    </tr>\n",
              "    <tr>\n",
              "      <th>4</th>\n",
              "      <td>2019-08-24</td>\n",
              "      <td>10027A</td>\n",
              "      <td>0.0</td>\n",
              "    </tr>\n",
              "  </tbody>\n",
              "</table>\n",
              "</div>"
            ],
            "text/plain": [
              "     invdate    item  actual\n",
              "0 2019-08-24  10007A    11.0\n",
              "1 2019-08-24  10018B     0.0\n",
              "2 2019-08-24  10018D    17.0\n",
              "3 2019-08-24   10027     0.0\n",
              "4 2019-08-24  10027A     0.0"
            ]
          },
          "metadata": {
            "tags": []
          },
          "execution_count": 39
        }
      ]
    },
    {
      "cell_type": "code",
      "metadata": {
        "id": "KGnvrIozUpED",
        "colab_type": "code",
        "colab": {}
      },
      "source": [
        "weekly_predictions = weekly_predictions.merge(melt, on='item')"
      ],
      "execution_count": 0,
      "outputs": []
    },
    {
      "cell_type": "code",
      "metadata": {
        "id": "d724eiqMVcfk",
        "colab_type": "code",
        "outputId": "be99748b-a3ce-475b-e3af-1f7b00787add",
        "colab": {
          "base_uri": "https://localhost:8080/",
          "height": 204
        }
      },
      "source": [
        "weekly_predictions= weekly_predictions.round()\n",
        "weekly_predictions.head()"
      ],
      "execution_count": 0,
      "outputs": [
        {
          "output_type": "execute_result",
          "data": {
            "text/html": [
              "<div>\n",
              "<style scoped>\n",
              "    .dataframe tbody tr th:only-of-type {\n",
              "        vertical-align: middle;\n",
              "    }\n",
              "\n",
              "    .dataframe tbody tr th {\n",
              "        vertical-align: top;\n",
              "    }\n",
              "\n",
              "    .dataframe thead th {\n",
              "        text-align: right;\n",
              "    }\n",
              "</style>\n",
              "<table border=\"1\" class=\"dataframe\">\n",
              "  <thead>\n",
              "    <tr style=\"text-align: right;\">\n",
              "      <th></th>\n",
              "      <th>item</th>\n",
              "      <th>predicted</th>\n",
              "      <th>invdate</th>\n",
              "      <th>actual</th>\n",
              "    </tr>\n",
              "  </thead>\n",
              "  <tbody>\n",
              "    <tr>\n",
              "      <th>0</th>\n",
              "      <td>10007A</td>\n",
              "      <td>16.0</td>\n",
              "      <td>2019-08-24</td>\n",
              "      <td>11.0</td>\n",
              "    </tr>\n",
              "    <tr>\n",
              "      <th>1</th>\n",
              "      <td>10018D</td>\n",
              "      <td>2.0</td>\n",
              "      <td>2019-08-24</td>\n",
              "      <td>17.0</td>\n",
              "    </tr>\n",
              "    <tr>\n",
              "      <th>2</th>\n",
              "      <td>10027</td>\n",
              "      <td>0.0</td>\n",
              "      <td>2019-08-24</td>\n",
              "      <td>0.0</td>\n",
              "    </tr>\n",
              "    <tr>\n",
              "      <th>3</th>\n",
              "      <td>10027A</td>\n",
              "      <td>0.0</td>\n",
              "      <td>2019-08-24</td>\n",
              "      <td>0.0</td>\n",
              "    </tr>\n",
              "    <tr>\n",
              "      <th>4</th>\n",
              "      <td>10027D</td>\n",
              "      <td>12.0</td>\n",
              "      <td>2019-08-24</td>\n",
              "      <td>30.0</td>\n",
              "    </tr>\n",
              "  </tbody>\n",
              "</table>\n",
              "</div>"
            ],
            "text/plain": [
              "     item  predicted    invdate  actual\n",
              "0  10007A       16.0 2019-08-24    11.0\n",
              "1  10018D        2.0 2019-08-24    17.0\n",
              "2   10027        0.0 2019-08-24     0.0\n",
              "3  10027A        0.0 2019-08-24     0.0\n",
              "4  10027D       12.0 2019-08-24    30.0"
            ]
          },
          "metadata": {
            "tags": []
          },
          "execution_count": 64
        }
      ]
    },
    {
      "cell_type": "code",
      "metadata": {
        "id": "VNKB_4RHVfcz",
        "colab_type": "code",
        "outputId": "64d0a7f0-03b0-462d-db3a-37f9ee0021c6",
        "colab": {
          "base_uri": "https://localhost:8080/",
          "height": 51
        }
      },
      "source": [
        "print (rmse(weekly_predictions.actual.values, weekly_predictions.predicted.values))\n",
        "print (mae(weekly_predictions.actual.values, weekly_predictions.predicted.values))"
      ],
      "execution_count": 0,
      "outputs": [
        {
          "output_type": "stream",
          "text": [
            "9.66\n",
            "4.512\n"
          ],
          "name": "stdout"
        }
      ]
    },
    {
      "cell_type": "code",
      "metadata": {
        "id": "74Zy2CVsV5a4",
        "colab_type": "code",
        "outputId": "92ccaade-8983-45f3-a5c1-7c123eeccfa9",
        "colab": {
          "base_uri": "https://localhost:8080/",
          "height": 431
        }
      },
      "source": [
        "plt.figure(figsize=(10,6))\n",
        "plt.scatter(weekly_predictions.actual, weekly_predictions.predicted, s=300, color='lightseagreen', alpha= .4, label= \"Random Forest\")\n",
        "\n",
        "x = np.linspace(0,60,60)\n",
        "y = x\n",
        "plt.plot(x, y, 'k', linestyle='--', label= \"Perfect Prediction\")\n",
        "plt.legend()\n",
        "plt.ylim(0,60)\n",
        "plt.xlim(0,60)\n",
        "plt.xlabel('Actual Quantities')\n",
        "plt.ylabel('Predicted Quantities')\n",
        "plt.title(\"How well did the Random Forest Model Do?\", fontsize= 18)"
      ],
      "execution_count": 0,
      "outputs": [
        {
          "output_type": "execute_result",
          "data": {
            "text/plain": [
              "Text(0.5, 1.0, 'How well did the Random Forest Model Do?')"
            ]
          },
          "metadata": {
            "tags": []
          },
          "execution_count": 66
        },
        {
          "output_type": "display_data",
          "data": {
            "image/png": "[encoded data removed]",
            "text/plain": [
              "<Figure size 720x432 with 1 Axes>"
            ]
          },
          "metadata": {
            "tags": []
          }
        }
      ]
    },
    {
      "cell_type": "code",
      "metadata": {
        "id": "aZmoAWbAXSyb",
        "colab_type": "code",
        "colab": {}
      },
      "source": [
        "grouped= dfn[['item','desc', 'label']]\n",
        "grouped.drop_duplicates(inplace= True)\n",
        "grouped.shape\n",
        "weekly_predictions2 = weekly_predictions.merge(grouped, on='item')"
      ],
      "execution_count": 0,
      "outputs": []
    },
    {
      "cell_type": "code",
      "metadata": {
        "id": "Cskun827WgqP",
        "colab_type": "code",
        "colab": {}
      },
      "source": [
        "#Which items are doing the worst?\n",
        "weekly_predictions2['diff']= np.abs(weekly_predictions2.actual- weekly_predictions2.predicted)\n",
        "bad_predicts = weekly_predictions2.sort_values(by= 'diff', ascending = False)[:100]"
      ],
      "execution_count": 0,
      "outputs": []
    },
    {
      "cell_type": "code",
      "metadata": {
        "id": "dQHlfD9iW5pV",
        "colab_type": "code",
        "outputId": "cd23891a-740d-4da6-c738-8beca7e97d1f",
        "colab": {
          "base_uri": "https://localhost:8080/",
          "height": 419
        }
      },
      "source": [
        "bad_predicts"
      ],
      "execution_count": 0,
      "outputs": [
        {
          "output_type": "execute_result",
          "data": {
            "text/html": [
              "<div>\n",
              "<style scoped>\n",
              "    .dataframe tbody tr th:only-of-type {\n",
              "        vertical-align: middle;\n",
              "    }\n",
              "\n",
              "    .dataframe tbody tr th {\n",
              "        vertical-align: top;\n",
              "    }\n",
              "\n",
              "    .dataframe thead th {\n",
              "        text-align: right;\n",
              "    }\n",
              "</style>\n",
              "<table border=\"1\" class=\"dataframe\">\n",
              "  <thead>\n",
              "    <tr style=\"text-align: right;\">\n",
              "      <th></th>\n",
              "      <th>item</th>\n",
              "      <th>predicted</th>\n",
              "      <th>invdate</th>\n",
              "      <th>actual</th>\n",
              "      <th>desc</th>\n",
              "      <th>label</th>\n",
              "      <th>diff</th>\n",
              "    </tr>\n",
              "  </thead>\n",
              "  <tbody>\n",
              "    <tr>\n",
              "      <th>204</th>\n",
              "      <td>20096</td>\n",
              "      <td>98.0</td>\n",
              "      <td>2019-08-24</td>\n",
              "      <td>4.0</td>\n",
              "      <td>Kale, Green, 24ct, Certified Organic</td>\n",
              "      <td>kale</td>\n",
              "      <td>94.0</td>\n",
              "    </tr>\n",
              "    <tr>\n",
              "      <th>205</th>\n",
              "      <td>20096</td>\n",
              "      <td>98.0</td>\n",
              "      <td>2019-08-24</td>\n",
              "      <td>4.0</td>\n",
              "      <td>Kale, Green, 24ct, Certified Organi</td>\n",
              "      <td>kale</td>\n",
              "      <td>94.0</td>\n",
              "    </tr>\n",
              "    <tr>\n",
              "      <th>727</th>\n",
              "      <td>70176</td>\n",
              "      <td>0.0</td>\n",
              "      <td>2019-08-24</td>\n",
              "      <td>75.0</td>\n",
              "      <td>Eggs,RETAIL 1 Dzn,COTTONWOOD  LOCAL</td>\n",
              "      <td>eggs</td>\n",
              "      <td>75.0</td>\n",
              "    </tr>\n",
              "    <tr>\n",
              "      <th>670</th>\n",
              "      <td>60008</td>\n",
              "      <td>86.0</td>\n",
              "      <td>2019-08-24</td>\n",
              "      <td>15.0</td>\n",
              "      <td>Mushroom, Chantrelle 1 lb. Wild Crafted</td>\n",
              "      <td>mushroom</td>\n",
              "      <td>71.0</td>\n",
              "    </tr>\n",
              "    <tr>\n",
              "      <th>671</th>\n",
              "      <td>60008</td>\n",
              "      <td>86.0</td>\n",
              "      <td>2019-08-24</td>\n",
              "      <td>15.0</td>\n",
              "      <td>Mushroom, Chantrelle 1 lb. Wild Cra</td>\n",
              "      <td>mushroom</td>\n",
              "      <td>71.0</td>\n",
              "    </tr>\n",
              "    <tr>\n",
              "      <th>...</th>\n",
              "      <td>...</td>\n",
              "      <td>...</td>\n",
              "      <td>...</td>\n",
              "      <td>...</td>\n",
              "      <td>...</td>\n",
              "      <td>...</td>\n",
              "      <td>...</td>\n",
              "    </tr>\n",
              "    <tr>\n",
              "      <th>51</th>\n",
              "      <td>10210</td>\n",
              "      <td>2.0</td>\n",
              "      <td>2019-08-24</td>\n",
              "      <td>14.0</td>\n",
              "      <td>Plum, Red, 28lb VF, Cert. OG</td>\n",
              "      <td>plum</td>\n",
              "      <td>12.0</td>\n",
              "    </tr>\n",
              "    <tr>\n",
              "      <th>88</th>\n",
              "      <td>10318-A</td>\n",
              "      <td>22.0</td>\n",
              "      <td>2019-08-24</td>\n",
              "      <td>10.0</td>\n",
              "      <td>Grapefruit, Star Ruby,48ct,Cert OG</td>\n",
              "      <td>grapefruit</td>\n",
              "      <td>12.0</td>\n",
              "    </tr>\n",
              "    <tr>\n",
              "      <th>491</th>\n",
              "      <td>30492</td>\n",
              "      <td>12.0</td>\n",
              "      <td>2019-08-24</td>\n",
              "      <td>24.0</td>\n",
              "      <td>Peas, Sugar Snap, 10lb, Cert. OG</td>\n",
              "      <td>peas</td>\n",
              "      <td>12.0</td>\n",
              "    </tr>\n",
              "    <tr>\n",
              "      <th>489</th>\n",
              "      <td>30478</td>\n",
              "      <td>13.0</td>\n",
              "      <td>2019-08-24</td>\n",
              "      <td>1.0</td>\n",
              "      <td>Pea, English 10lb, LOCAL, Cert. OG</td>\n",
              "      <td>pea</td>\n",
              "      <td>12.0</td>\n",
              "    </tr>\n",
              "    <tr>\n",
              "      <th>155</th>\n",
              "      <td>10494</td>\n",
              "      <td>0.0</td>\n",
              "      <td>2019-08-24</td>\n",
              "      <td>12.0</td>\n",
              "      <td>Watermelon Seedless, Bin 650-700 lbs Cert. OG</td>\n",
              "      <td>watermelon</td>\n",
              "      <td>12.0</td>\n",
              "    </tr>\n",
              "  </tbody>\n",
              "</table>\n",
              "<p>100 rows × 7 columns</p>\n",
              "</div>"
            ],
            "text/plain": [
              "        item  predicted  ...       label  diff\n",
              "204    20096       98.0  ...        kale  94.0\n",
              "205    20096       98.0  ...        kale  94.0\n",
              "727    70176        0.0  ...        eggs  75.0\n",
              "670    60008       86.0  ...    mushroom  71.0\n",
              "671    60008       86.0  ...    mushroom  71.0\n",
              "..       ...        ...  ...         ...   ...\n",
              "51     10210        2.0  ...        plum  12.0\n",
              "88   10318-A       22.0  ...  grapefruit  12.0\n",
              "491    30492       12.0  ...        peas  12.0\n",
              "489    30478       13.0  ...         pea  12.0\n",
              "155    10494        0.0  ...  watermelon  12.0\n",
              "\n",
              "[100 rows x 7 columns]"
            ]
          },
          "metadata": {
            "tags": []
          },
          "execution_count": 72
        }
      ]
    },
    {
      "cell_type": "code",
      "metadata": {
        "id": "BJHj1c-vbT_I",
        "colab_type": "code",
        "colab": {}
      },
      "source": [
        "bad_predicts.drop_duplicates(subset= 'item', inplace=True)"
      ],
      "execution_count": 0,
      "outputs": []
    },
    {
      "cell_type": "code",
      "metadata": {
        "id": "q9-s-jM_bb01",
        "colab_type": "code",
        "outputId": "f20f357d-8dd7-4d2e-fb49-ceb6e01571a4",
        "colab": {
          "base_uri": "https://localhost:8080/",
          "height": 153
        }
      },
      "source": [
        "bad_predicts.label.unique()"
      ],
      "execution_count": 0,
      "outputs": [
        {
          "output_type": "execute_result",
          "data": {
            "text/plain": [
              "array(['kale', 'eggs', 'mushroom', 'strawberry', 'banana', 'root',\n",
              "       'squash', 'mango', 'melon', 'salad', 'broccoli', 'peach',\n",
              "       'cucumber', 'herb', 'edible', 'califia', 'bean', 'juice',\n",
              "       'avocado', 'apple', 'lemon', 'tomato', 'corn', 'nut', 'orange',\n",
              "       'milk', 'potato', 'sprouts', 'pineapple', 'lettuce', 'pluot',\n",
              "       'boc', 'onion', 'grapefruit', 'celery', 'pepper', 'okra',\n",
              "       'cilantro', 'beet', 'plum', 'peas', 'pea', 'watermelon'],\n",
              "      dtype=object)"
            ]
          },
          "metadata": {
            "tags": []
          },
          "execution_count": 83
        }
      ]
    },
    {
      "cell_type": "code",
      "metadata": {
        "id": "fBhrUzeRaeqt",
        "colab_type": "code",
        "outputId": "629e91c6-d204-4102-86b9-b097221a28bc",
        "colab": {
          "base_uri": "https://localhost:8080/",
          "height": 575
        }
      },
      "source": [
        "bad_predicts.plot(kind= 'bar', x='label',y='diff', figsize= (20,8))"
      ],
      "execution_count": 0,
      "outputs": [
        {
          "output_type": "execute_result",
          "data": {
            "text/plain": [
              "<matplotlib.axes._subplots.AxesSubplot at 0x7f09cdd02b38>"
            ]
          },
          "metadata": {
            "tags": []
          },
          "execution_count": 87
        },
        {
          "output_type": "display_data",
          "data": {
            "image/png": "[encoded data removed]",
            "text/plain": [
              "<Figure size 1440x576 with 1 Axes>"
            ]
          },
          "metadata": {
            "tags": []
          }
        }
      ]
    },
    {
      "cell_type": "code",
      "metadata": {
        "id": "_MWlD4slaxyJ",
        "colab_type": "code",
        "outputId": "6c7186b7-3ca8-4d3c-f497-6cdc3ddebabd",
        "colab": {
          "base_uri": "https://localhost:8080/",
          "height": 111
        }
      },
      "source": [
        "bad_predicts[bad_predicts.label== 'kale']"
      ],
      "execution_count": 0,
      "outputs": [
        {
          "output_type": "execute_result",
          "data": {
            "text/html": [
              "<div>\n",
              "<style scoped>\n",
              "    .dataframe tbody tr th:only-of-type {\n",
              "        vertical-align: middle;\n",
              "    }\n",
              "\n",
              "    .dataframe tbody tr th {\n",
              "        vertical-align: top;\n",
              "    }\n",
              "\n",
              "    .dataframe thead th {\n",
              "        text-align: right;\n",
              "    }\n",
              "</style>\n",
              "<table border=\"1\" class=\"dataframe\">\n",
              "  <thead>\n",
              "    <tr style=\"text-align: right;\">\n",
              "      <th></th>\n",
              "      <th>item</th>\n",
              "      <th>predicted</th>\n",
              "      <th>invdate</th>\n",
              "      <th>actual</th>\n",
              "      <th>desc</th>\n",
              "      <th>label</th>\n",
              "      <th>diff</th>\n",
              "    </tr>\n",
              "  </thead>\n",
              "  <tbody>\n",
              "    <tr>\n",
              "      <th>204</th>\n",
              "      <td>20096</td>\n",
              "      <td>98.0</td>\n",
              "      <td>2019-08-24</td>\n",
              "      <td>4.0</td>\n",
              "      <td>Kale, Green, 24ct, Certified Organic</td>\n",
              "      <td>kale</td>\n",
              "      <td>94.0</td>\n",
              "    </tr>\n",
              "    <tr>\n",
              "      <th>200</th>\n",
              "      <td>20084B</td>\n",
              "      <td>6.0</td>\n",
              "      <td>2019-08-24</td>\n",
              "      <td>22.0</td>\n",
              "      <td>Kale, Mix Baby 2lb, Certified Organ</td>\n",
              "      <td>kale</td>\n",
              "      <td>16.0</td>\n",
              "    </tr>\n",
              "  </tbody>\n",
              "</table>\n",
              "</div>"
            ],
            "text/plain": [
              "       item  predicted  ... label  diff\n",
              "204   20096       98.0  ...  kale  94.0\n",
              "200  20084B        6.0  ...  kale  16.0\n",
              "\n",
              "[2 rows x 7 columns]"
            ]
          },
          "metadata": {
            "tags": []
          },
          "execution_count": 89
        }
      ]
    },
    {
      "cell_type": "code",
      "metadata": {
        "id": "tR_0EAhqgWye",
        "colab_type": "code",
        "outputId": "a58160ff-6cc2-4a73-ff96-6e2ccf9b3523",
        "colab": {
          "base_uri": "https://localhost:8080/",
          "height": 80
        }
      },
      "source": [
        "bad_predicts[bad_predicts.label== 'eggs']"
      ],
      "execution_count": 0,
      "outputs": [
        {
          "output_type": "execute_result",
          "data": {
            "text/html": [
              "<div>\n",
              "<style scoped>\n",
              "    .dataframe tbody tr th:only-of-type {\n",
              "        vertical-align: middle;\n",
              "    }\n",
              "\n",
              "    .dataframe tbody tr th {\n",
              "        vertical-align: top;\n",
              "    }\n",
              "\n",
              "    .dataframe thead th {\n",
              "        text-align: right;\n",
              "    }\n",
              "</style>\n",
              "<table border=\"1\" class=\"dataframe\">\n",
              "  <thead>\n",
              "    <tr style=\"text-align: right;\">\n",
              "      <th></th>\n",
              "      <th>item</th>\n",
              "      <th>predicted</th>\n",
              "      <th>invdate</th>\n",
              "      <th>actual</th>\n",
              "      <th>desc</th>\n",
              "      <th>label</th>\n",
              "      <th>diff</th>\n",
              "    </tr>\n",
              "  </thead>\n",
              "  <tbody>\n",
              "    <tr>\n",
              "      <th>727</th>\n",
              "      <td>70176</td>\n",
              "      <td>0.0</td>\n",
              "      <td>2019-08-24</td>\n",
              "      <td>75.0</td>\n",
              "      <td>Eggs,RETAIL 1 Dzn,COTTONWOOD  LOCAL</td>\n",
              "      <td>eggs</td>\n",
              "      <td>75.0</td>\n",
              "    </tr>\n",
              "  </tbody>\n",
              "</table>\n",
              "</div>"
            ],
            "text/plain": [
              "      item  predicted  ... label  diff\n",
              "727  70176        0.0  ...  eggs  75.0\n",
              "\n",
              "[1 rows x 7 columns]"
            ]
          },
          "metadata": {
            "tags": []
          },
          "execution_count": 90
        }
      ]
    },
    {
      "cell_type": "code",
      "metadata": {
        "id": "pfaNTIGHgdmN",
        "colab_type": "code",
        "outputId": "97fbd304-b881-4ee5-fdc9-6a20f8d66f92",
        "colab": {
          "base_uri": "https://localhost:8080/",
          "height": 173
        }
      },
      "source": [
        "bad_predicts[bad_predicts.label== 'mushroom']"
      ],
      "execution_count": 0,
      "outputs": [
        {
          "output_type": "execute_result",
          "data": {
            "text/html": [
              "<div>\n",
              "<style scoped>\n",
              "    .dataframe tbody tr th:only-of-type {\n",
              "        vertical-align: middle;\n",
              "    }\n",
              "\n",
              "    .dataframe tbody tr th {\n",
              "        vertical-align: top;\n",
              "    }\n",
              "\n",
              "    .dataframe thead th {\n",
              "        text-align: right;\n",
              "    }\n",
              "</style>\n",
              "<table border=\"1\" class=\"dataframe\">\n",
              "  <thead>\n",
              "    <tr style=\"text-align: right;\">\n",
              "      <th></th>\n",
              "      <th>item</th>\n",
              "      <th>predicted</th>\n",
              "      <th>invdate</th>\n",
              "      <th>actual</th>\n",
              "      <th>desc</th>\n",
              "      <th>label</th>\n",
              "      <th>diff</th>\n",
              "    </tr>\n",
              "  </thead>\n",
              "  <tbody>\n",
              "    <tr>\n",
              "      <th>670</th>\n",
              "      <td>60008</td>\n",
              "      <td>86.0</td>\n",
              "      <td>2019-08-24</td>\n",
              "      <td>15.0</td>\n",
              "      <td>Mushroom, Chantrelle 1 lb. Wild Crafted</td>\n",
              "      <td>mushroom</td>\n",
              "      <td>71.0</td>\n",
              "    </tr>\n",
              "    <tr>\n",
              "      <th>677</th>\n",
              "      <td>60015A</td>\n",
              "      <td>0.0</td>\n",
              "      <td>2019-08-24</td>\n",
              "      <td>21.0</td>\n",
              "      <td>Mushroom, Crimini 12x8oz, Certified</td>\n",
              "      <td>mushroom</td>\n",
              "      <td>21.0</td>\n",
              "    </tr>\n",
              "    <tr>\n",
              "      <th>673</th>\n",
              "      <td>60013</td>\n",
              "      <td>22.0</td>\n",
              "      <td>2019-08-24</td>\n",
              "      <td>38.0</td>\n",
              "      <td>Mushroom, Crimini 5lb, Certified Or</td>\n",
              "      <td>mushroom</td>\n",
              "      <td>16.0</td>\n",
              "    </tr>\n",
              "    <tr>\n",
              "      <th>698</th>\n",
              "      <td>60037</td>\n",
              "      <td>35.0</td>\n",
              "      <td>2019-08-24</td>\n",
              "      <td>49.0</td>\n",
              "      <td>Mushroom, Shiitake, 5lb, LOCAL, Cert. OG</td>\n",
              "      <td>mushroom</td>\n",
              "      <td>14.0</td>\n",
              "    </tr>\n",
              "  </tbody>\n",
              "</table>\n",
              "</div>"
            ],
            "text/plain": [
              "       item  predicted  ...     label  diff\n",
              "670   60008       86.0  ...  mushroom  71.0\n",
              "677  60015A        0.0  ...  mushroom  21.0\n",
              "673   60013       22.0  ...  mushroom  16.0\n",
              "698   60037       35.0  ...  mushroom  14.0\n",
              "\n",
              "[4 rows x 7 columns]"
            ]
          },
          "metadata": {
            "tags": []
          },
          "execution_count": 92
        }
      ]
    },
    {
      "cell_type": "code",
      "metadata": {
        "id": "FqbTqJVwgybi",
        "colab_type": "code",
        "colab": {}
      },
      "source": [
        "dfn.head()"
      ],
      "execution_count": 0,
      "outputs": []
    },
    {
      "cell_type": "code",
      "metadata": {
        "id": "guCiBydCg7sD",
        "colab_type": "code",
        "colab": {}
      },
      "source": [
        "dfn.set_index('invdate', inplace= True)\n"
      ],
      "execution_count": 0,
      "outputs": []
    },
    {
      "cell_type": "code",
      "metadata": {
        "id": "eTjRVGB4hGUe",
        "colab_type": "code",
        "colab": {}
      },
      "source": [
        "kale= dfm[dfm.label== 'kale']"
      ],
      "execution_count": 0,
      "outputs": []
    },
    {
      "cell_type": "code",
      "metadata": {
        "id": "ooP2UbNBhRwy",
        "colab_type": "code",
        "colab": {}
      },
      "source": [
        "kale.head()"
      ],
      "execution_count": 0,
      "outputs": []
    },
    {
      "cell_type": "code",
      "metadata": {
        "id": "I88ID2zggfvx",
        "colab_type": "code",
        "outputId": "17500919-9bfc-4878-cfc2-9400fa1f30ff",
        "colab": {
          "base_uri": "https://localhost:8080/",
          "height": 680
        }
      },
      "source": [
        "kale.norm_qty.value_counts()"
      ],
      "execution_count": 0,
      "outputs": [
        {
          "output_type": "execute_result",
          "data": {
            "text/plain": [
              "1.00     2242\n",
              "2.00      514\n",
              "0.50      413\n",
              "3.00      150\n",
              "4.00       73\n",
              "5.00       33\n",
              "6.00       21\n",
              "7.00       16\n",
              "10.00      15\n",
              "8.00       13\n",
              "15.00      13\n",
              "9.00        9\n",
              "12.00       6\n",
              "17.00       5\n",
              "18.00       4\n",
              "14.00       4\n",
              "11.00       3\n",
              "1.50        3\n",
              "21.00       2\n",
              "26.00       2\n",
              "44.00       2\n",
              "20.00       2\n",
              "19.00       2\n",
              "56.00       2\n",
              "35.00       1\n",
              "30.00       1\n",
              "45.00       1\n",
              "43.00       1\n",
              "59.00       1\n",
              "0.04        1\n",
              "24.00       1\n",
              "34.00       1\n",
              "25.00       1\n",
              "22.00       1\n",
              "52.00       1\n",
              "36.00       1\n",
              "13.00       1\n",
              "61.00       1\n",
              "Name: norm_qty, dtype: int64"
            ]
          },
          "metadata": {
            "tags": []
          },
          "execution_count": 107
        }
      ]
    },
    {
      "cell_type": "code",
      "metadata": {
        "id": "84o4Gx0Wg25O",
        "colab_type": "code",
        "colab": {}
      },
      "source": [
        ""
      ],
      "execution_count": 0,
      "outputs": []
    }
  ]
}